{
 "cells": [
  {
   "cell_type": "markdown",
   "metadata": {},
   "source": [
    "# Create a notebook for Workload Availability\n",
    "\n",
    "# _STEP1: Input incidentNo below_"
   ]
  },
  {
   "cell_type": "code",
   "execution_count": 43,
   "metadata": {},
   "outputs": [],
   "source": [
    "from datetime import datetime, timedelta\n",
    "my_start_datetime = datetime(2021, 6, 20)\n",
    "my_end_datetime = datetime(2021, 6, 21)\n",
    "incidentNo=246918598"
   ]
  },
  {
   "cell_type": "code",
   "execution_count": 44,
   "metadata": {},
   "outputs": [
    {
     "name": "stdout",
     "output_type": "stream",
     "text": [
      "Requirement already satisfied: Kqlmagic in /usr/local/lib/python3.9/site-packages (0.1.113.post1)\n",
      "Requirement already satisfied: msrestazure>=0.6.3 in /usr/local/lib/python3.9/site-packages (from Kqlmagic) (0.6.4)\n",
      "Requirement already satisfied: adal>=1.2.3 in /usr/local/lib/python3.9/site-packages (from Kqlmagic) (1.2.7)\n",
      "Requirement already satisfied: lxml>=4.2.5 in /usr/local/lib/python3.9/site-packages (from Kqlmagic) (4.6.3)\n",
      "Requirement already satisfied: psutil>=5.4.7 in /usr/local/lib/python3.9/site-packages (from Kqlmagic) (5.8.0)\n",
      "Requirement already satisfied: python-dateutil>=2.7.5 in /usr/local/lib/python3.9/site-packages (from Kqlmagic) (2.8.1)\n",
      "Requirement already satisfied: requests>=2.21.0 in /usr/local/lib/python3.9/site-packages (from Kqlmagic) (2.25.1)\n",
      "Requirement already satisfied: seaborn>=0.9.0 in /usr/local/lib/python3.9/site-packages (from Kqlmagic) (0.11.1)\n",
      "Requirement already satisfied: Markdown>=3.0.1 in /usr/local/lib/python3.9/site-packages (from Kqlmagic) (3.3.4)\n",
      "Requirement already satisfied: isodate>=0.6.0 in /usr/local/lib/python3.9/site-packages (from Kqlmagic) (0.6.0)\n",
      "Requirement already satisfied: azure-cli-core>=2.6.0 in /usr/local/lib/python3.9/site-packages (from Kqlmagic) (2.24.2)\n",
      "Requirement already satisfied: flask>=1.1.1 in /usr/local/lib/python3.9/site-packages (from Kqlmagic) (2.0.1)\n",
      "Requirement already satisfied: pytz>=2019.1 in /usr/local/lib/python3.9/site-packages (from Kqlmagic) (2021.1)\n",
      "Requirement already satisfied: matplotlib>=3.0.0 in /usr/local/lib/python3.9/site-packages (from Kqlmagic) (3.4.2)\n",
      "Requirement already satisfied: ipython>=7.1.1 in /usr/local/lib/python3.9/site-packages (from Kqlmagic) (7.24.1)\n",
      "Requirement already satisfied: six>=1.11.0 in /usr/local/Cellar/protobuf/3.15.8/libexec/lib/python3.9/site-packages (from Kqlmagic) (1.15.0)\n",
      "Requirement already satisfied: traitlets>=4.3.2 in /usr/local/lib/python3.9/site-packages (from Kqlmagic) (5.0.5)\n",
      "Requirement already satisfied: beautifulsoup4>=4.6.3 in /usr/local/lib/python3.9/site-packages (from Kqlmagic) (4.9.3)\n",
      "Requirement already satisfied: Pygments>=2.2.0 in /usr/local/lib/python3.9/site-packages (from Kqlmagic) (2.9.0)\n",
      "Requirement already satisfied: ipykernel>=5.1.1 in /usr/local/lib/python3.9/site-packages (from Kqlmagic) (5.5.5)\n",
      "Requirement already satisfied: pandas>=0.23.4 in /usr/local/lib/python3.9/site-packages (from Kqlmagic) (1.2.4)\n",
      "Requirement already satisfied: pyjwt>=1.7.1 in /usr/local/lib/python3.9/site-packages (from Kqlmagic) (1.7.1)\n",
      "Requirement already satisfied: prettytable>=0.7.2 in /usr/local/lib/python3.9/site-packages (from Kqlmagic) (2.1.0)\n",
      "Requirement already satisfied: pyperclip>=1.7.0 in /usr/local/lib/python3.9/site-packages (from Kqlmagic) (1.8.2)\n",
      "Requirement already satisfied: plotly>=3.10.0 in /usr/local/lib/python3.9/site-packages (from Kqlmagic) (4.14.3)\n",
      "Requirement already satisfied: setuptools>=41.0.1 in /usr/local/lib/python3.9/site-packages (from Kqlmagic) (56.0.0)\n",
      "Requirement already satisfied: cryptography>=1.1.0 in /usr/local/lib/python3.9/site-packages (from adal>=1.2.3->Kqlmagic) (3.3.2)\n",
      "Requirement already satisfied: knack~=0.8.2 in /usr/local/lib/python3.9/site-packages (from azure-cli-core>=2.6.0->Kqlmagic) (0.8.2)\n",
      "Requirement already satisfied: paramiko<3.0.0,>=2.0.8 in /usr/local/lib/python3.9/site-packages (from azure-cli-core>=2.6.0->Kqlmagic) (2.7.2)\n",
      "Requirement already satisfied: argcomplete~=1.8 in /usr/local/lib/python3.9/site-packages (from azure-cli-core>=2.6.0->Kqlmagic) (1.12.3)\n",
      "Requirement already satisfied: jmespath in /usr/local/lib/python3.9/site-packages (from azure-cli-core>=2.6.0->Kqlmagic) (0.10.0)\n",
      "Requirement already satisfied: pkginfo>=1.5.0.1 in /usr/local/lib/python3.9/site-packages (from azure-cli-core>=2.6.0->Kqlmagic) (1.7.0)\n",
      "Requirement already satisfied: humanfriendly<10.0,>=4.7 in /usr/local/lib/python3.9/site-packages (from azure-cli-core>=2.6.0->Kqlmagic) (9.1)\n",
      "Requirement already satisfied: pyopenssl>=17.1.0 in /usr/local/lib/python3.9/site-packages (from azure-cli-core>=2.6.0->Kqlmagic) (20.0.1)\n",
      "Requirement already satisfied: msal<2.0.0,>=1.10.0 in /usr/local/lib/python3.9/site-packages (from azure-cli-core>=2.6.0->Kqlmagic) (1.12.0)\n",
      "Requirement already satisfied: azure-mgmt-core<1.3.0,>=1.2.0 in /usr/local/lib/python3.9/site-packages (from azure-cli-core>=2.6.0->Kqlmagic) (1.2.2)\n",
      "Requirement already satisfied: azure-common~=1.1 in /usr/local/lib/python3.9/site-packages (from azure-cli-core>=2.6.0->Kqlmagic) (1.1.27)\n",
      "Requirement already satisfied: azure-cli-telemetry==1.0.6.* in /usr/local/lib/python3.9/site-packages (from azure-cli-core>=2.6.0->Kqlmagic) (1.0.6)\n",
      "Requirement already satisfied: msrest>=0.5.0 in /usr/local/lib/python3.9/site-packages (from azure-cli-core>=2.6.0->Kqlmagic) (0.6.21)\n",
      "Requirement already satisfied: applicationinsights<0.12,>=0.11.1 in /usr/local/lib/python3.9/site-packages (from azure-cli-telemetry==1.0.6.*->azure-cli-core>=2.6.0->Kqlmagic) (0.11.10)\n",
      "Requirement already satisfied: portalocker~=1.2 in /usr/local/lib/python3.9/site-packages (from azure-cli-telemetry==1.0.6.*->azure-cli-core>=2.6.0->Kqlmagic) (1.7.1)\n",
      "Requirement already satisfied: azure-core<2.0.0,>=1.9.0 in /usr/local/lib/python3.9/site-packages (from azure-mgmt-core<1.3.0,>=1.2.0->azure-cli-core>=2.6.0->Kqlmagic) (1.14.0)\n",
      "Requirement already satisfied: soupsieve>1.2 in /usr/local/lib/python3.9/site-packages (from beautifulsoup4>=4.6.3->Kqlmagic) (2.2.1)\n",
      "Requirement already satisfied: cffi>=1.12 in /usr/local/lib/python3.9/site-packages (from cryptography>=1.1.0->adal>=1.2.3->Kqlmagic) (1.14.5)\n",
      "Requirement already satisfied: pycparser in /usr/local/lib/python3.9/site-packages (from cffi>=1.12->cryptography>=1.1.0->adal>=1.2.3->Kqlmagic) (2.20)\n",
      "Requirement already satisfied: Jinja2>=3.0 in /usr/local/lib/python3.9/site-packages (from flask>=1.1.1->Kqlmagic) (3.0.1)\n",
      "Requirement already satisfied: Werkzeug>=2.0 in /usr/local/lib/python3.9/site-packages (from flask>=1.1.1->Kqlmagic) (2.0.1)\n",
      "Requirement already satisfied: itsdangerous>=2.0 in /usr/local/lib/python3.9/site-packages (from flask>=1.1.1->Kqlmagic) (2.0.1)\n",
      "Requirement already satisfied: click>=7.1.2 in /usr/local/lib/python3.9/site-packages (from flask>=1.1.1->Kqlmagic) (8.0.1)\n",
      "Requirement already satisfied: tornado>=4.2 in /usr/local/lib/python3.9/site-packages (from ipykernel>=5.1.1->Kqlmagic) (6.1)\n",
      "Requirement already satisfied: appnope in /usr/local/lib/python3.9/site-packages (from ipykernel>=5.1.1->Kqlmagic) (0.1.2)\n",
      "Requirement already satisfied: jupyter-client in /usr/local/lib/python3.9/site-packages (from ipykernel>=5.1.1->Kqlmagic) (6.1.12)\n",
      "Requirement already satisfied: matplotlib-inline in /usr/local/lib/python3.9/site-packages (from ipython>=7.1.1->Kqlmagic) (0.1.2)\n",
      "Requirement already satisfied: decorator in /usr/local/lib/python3.9/site-packages (from ipython>=7.1.1->Kqlmagic) (5.0.9)\n",
      "Requirement already satisfied: pickleshare in /usr/local/lib/python3.9/site-packages (from ipython>=7.1.1->Kqlmagic) (0.7.5)\n",
      "Requirement already satisfied: prompt-toolkit!=3.0.0,!=3.0.1,<3.1.0,>=2.0.0 in /usr/local/lib/python3.9/site-packages (from ipython>=7.1.1->Kqlmagic) (3.0.18)\n",
      "Requirement already satisfied: pexpect>4.3 in /usr/local/lib/python3.9/site-packages (from ipython>=7.1.1->Kqlmagic) (4.8.0)\n",
      "Requirement already satisfied: backcall in /usr/local/lib/python3.9/site-packages (from ipython>=7.1.1->Kqlmagic) (0.2.0)\n",
      "Requirement already satisfied: jedi>=0.16 in /usr/local/lib/python3.9/site-packages (from ipython>=7.1.1->Kqlmagic) (0.18.0)\n",
      "Requirement already satisfied: parso<0.9.0,>=0.8.0 in /usr/local/lib/python3.9/site-packages (from jedi>=0.16->ipython>=7.1.1->Kqlmagic) (0.8.2)\n",
      "Requirement already satisfied: MarkupSafe>=2.0 in /usr/local/lib/python3.9/site-packages (from Jinja2>=3.0->flask>=1.1.1->Kqlmagic) (2.0.1)\n",
      "Requirement already satisfied: tabulate in /usr/local/lib/python3.9/site-packages (from knack~=0.8.2->azure-cli-core>=2.6.0->Kqlmagic) (0.8.9)\n",
      "Requirement already satisfied: pyyaml in /usr/local/lib/python3.9/site-packages (from knack~=0.8.2->azure-cli-core>=2.6.0->Kqlmagic) (5.4.1)\n",
      "Requirement already satisfied: colorama in /usr/local/lib/python3.9/site-packages (from knack~=0.8.2->azure-cli-core>=2.6.0->Kqlmagic) (0.4.4)\n",
      "Requirement already satisfied: cycler>=0.10 in /usr/local/lib/python3.9/site-packages (from matplotlib>=3.0.0->Kqlmagic) (0.10.0)\n",
      "Requirement already satisfied: kiwisolver>=1.0.1 in /usr/local/lib/python3.9/site-packages (from matplotlib>=3.0.0->Kqlmagic) (1.3.1)\n",
      "Requirement already satisfied: numpy>=1.16 in /usr/local/lib/python3.9/site-packages (from matplotlib>=3.0.0->Kqlmagic) (1.20.3)\n",
      "Requirement already satisfied: pyparsing>=2.2.1 in /usr/local/lib/python3.9/site-packages (from matplotlib>=3.0.0->Kqlmagic) (2.4.7)\n",
      "Requirement already satisfied: pillow>=6.2.0 in /usr/local/lib/python3.9/site-packages (from matplotlib>=3.0.0->Kqlmagic) (8.2.0)\n",
      "Requirement already satisfied: certifi>=2017.4.17 in /usr/local/lib/python3.9/site-packages (from msrest>=0.5.0->azure-cli-core>=2.6.0->Kqlmagic) (2021.5.30)\n",
      "Requirement already satisfied: requests-oauthlib>=0.5.0 in /usr/local/lib/python3.9/site-packages (from msrest>=0.5.0->azure-cli-core>=2.6.0->Kqlmagic) (1.3.0)\n"
     ]
    },
    {
     "name": "stdout",
     "output_type": "stream",
     "text": [
      "Requirement already satisfied: bcrypt>=3.1.3 in /usr/local/lib/python3.9/site-packages (from paramiko<3.0.0,>=2.0.8->azure-cli-core>=2.6.0->Kqlmagic) (3.2.0)\n",
      "Requirement already satisfied: pynacl>=1.0.1 in /usr/local/lib/python3.9/site-packages (from paramiko<3.0.0,>=2.0.8->azure-cli-core>=2.6.0->Kqlmagic) (1.4.0)\n",
      "Requirement already satisfied: ptyprocess>=0.5 in /usr/local/lib/python3.9/site-packages (from pexpect>4.3->ipython>=7.1.1->Kqlmagic) (0.7.0)\n",
      "Requirement already satisfied: retrying>=1.3.3 in /usr/local/lib/python3.9/site-packages (from plotly>=3.10.0->Kqlmagic) (1.3.3)\n",
      "Requirement already satisfied: wcwidth in /usr/local/lib/python3.9/site-packages (from prettytable>=0.7.2->Kqlmagic) (0.2.5)\n",
      "Requirement already satisfied: idna<3,>=2.5 in /usr/local/lib/python3.9/site-packages (from requests>=2.21.0->Kqlmagic) (2.10)\n",
      "Requirement already satisfied: chardet<5,>=3.0.2 in /usr/local/lib/python3.9/site-packages (from requests>=2.21.0->Kqlmagic) (4.0.0)\n",
      "Requirement already satisfied: urllib3<1.27,>=1.21.1 in /usr/local/lib/python3.9/site-packages (from requests>=2.21.0->Kqlmagic) (1.26.5)\n",
      "Requirement already satisfied: oauthlib>=3.0.0 in /usr/local/lib/python3.9/site-packages (from requests-oauthlib>=0.5.0->msrest>=0.5.0->azure-cli-core>=2.6.0->Kqlmagic) (3.1.1)\n",
      "Requirement already satisfied: scipy>=1.0 in /usr/local/lib/python3.9/site-packages (from seaborn>=0.9.0->Kqlmagic) (1.6.3)\n",
      "Requirement already satisfied: ipython-genutils in /usr/local/lib/python3.9/site-packages (from traitlets>=4.3.2->Kqlmagic) (0.2.0)\n",
      "Requirement already satisfied: pyzmq>=13 in /usr/local/lib/python3.9/site-packages (from jupyter-client->ipykernel>=5.1.1->Kqlmagic) (22.1.0)\n",
      "Requirement already satisfied: jupyter-core>=4.6.0 in /usr/local/lib/python3.9/site-packages (from jupyter-client->ipykernel>=5.1.1->Kqlmagic) (4.7.1)\n",
      "\u001b[33mWARNING: You are using pip version 21.1.1; however, version 21.1.2 is available.\n",
      "You should consider upgrading via the '/usr/local/opt/python@3.9/bin/python3.9 -m pip install --upgrade pip' command.\u001b[0m\n"
     ]
    }
   ],
   "source": [
    "!pip3 install Kqlmagic --no-cache-dir  --upgrade"
   ]
  },
  {
   "cell_type": "code",
   "execution_count": 45,
   "metadata": {},
   "outputs": [],
   "source": [
    "%reload_ext Kqlmagic"
   ]
  },
  {
   "cell_type": "code",
   "execution_count": 46,
   "metadata": {
    "scrolled": true
   },
   "outputs": [],
   "source": [
    "%kql azureDataExplorer://code;cluster='icmcluster';database='IcMDataWarehouse' // -try_azcli_login"
   ]
  },
  {
   "cell_type": "code",
   "execution_count": 47,
   "metadata": {},
   "outputs": [
    {
     "data": {
      "text/html": [
       "<!DOCTYPE html>\n",
       "                            <html><body><script>\n",
       "\n",
       "                                // close authentication window\n",
       "                                if (kql_MagicUserCodeAuthWindow && kql_MagicUserCodeAuthWindow.opener != null && !kql_MagicUserCodeAuthWindow.closed) {\n",
       "                                    kql_MagicUserCodeAuthWindow.close()\n",
       "                                }\n",
       "                                // TODO: make sure, you clear the right cell. BTW, not sure it is a must to do any clearing\n",
       "\n",
       "                                // clear output cell\n",
       "                                Jupyter.notebook.clear_output(Jupyter.notebook.get_selected_index())\n",
       "\n",
       "                                // TODO: if in run all mode, move to last cell, otherwise move to next cell\n",
       "                                // move to next cell\n",
       "\n",
       "                            </script></body></html>"
      ],
      "text/plain": [
       "<IPython.core.display.HTML object>"
      ]
     },
     "metadata": {},
     "output_type": "display_data"
    },
    {
     "data": {
      "text/html": [
       "<html>\n",
       "        <head>\n",
       "            \n",
       "            \n",
       "        </head>\n",
       "        <body>\n",
       "            <div><p style='padding: 10px; color: #3a87ad; background-color: #d9edf7; border-color: #bce9f1'>&nbsp;*&nbsp;IcMDataWarehouse@icmcluster<br>&nbsp;&nbsp;&nbsp;msgraphdb@msgraphkus</p></div>\n",
       "        </body>\n",
       "        </html>"
      ],
      "text/plain": [
       "<IPython.core.display.HTML object>"
      ]
     },
     "metadata": {},
     "output_type": "display_data"
    },
    {
     "data": {
      "text/html": [
       "<html>\n",
       "        <head>\n",
       "            \n",
       "            <title>Kqlmagic - table</title>\n",
       "        </head>\n",
       "        <body>\n",
       "            <table>\n",
       "    <thead>\n",
       "        <tr>\n",
       "            <th>IncidentId</th>\n",
       "            <th>SourceId</th>\n",
       "            <th>SourceName</th>\n",
       "            <th>SourceType</th>\n",
       "            <th>SourceIncidentId</th>\n",
       "            <th>SourceCreateDate</th>\n",
       "            <th>SourceOrigin</th>\n",
       "            <th>SourceCreatedBy</th>\n",
       "            <th>SourceModifiedDate</th>\n",
       "            <th>CreateDate</th>\n",
       "            <th>ModifiedDate</th>\n",
       "            <th>RoutingId</th>\n",
       "            <th>CorrelationId</th>\n",
       "            <th>OccurringEnvironment</th>\n",
       "            <th>OccurringDatacenter</th>\n",
       "            <th>OccurringDeviceGroup</th>\n",
       "            <th>OccurringDeviceName</th>\n",
       "            <th>OccurringServiceInstanceId</th>\n",
       "            <th>RaisingEnvironment</th>\n",
       "            <th>RaisingDatacenter</th>\n",
       "            <th>RaisingDeviceGroup</th>\n",
       "            <th>RaisingDeviceName</th>\n",
       "            <th>RaisingServiceInstanceId</th>\n",
       "            <th>OwningTenantName</th>\n",
       "            <th>OwningTenantId</th>\n",
       "            <th>OwningTenantPublicId</th>\n",
       "            <th>OwningTeamName</th>\n",
       "            <th>OwningTeamId</th>\n",
       "            <th>OwningContactId</th>\n",
       "            <th>OwningContactAlias</th>\n",
       "            <th>ParentIncidentId</th>\n",
       "            <th>Severity</th>\n",
       "            <th>Status</th>\n",
       "            <th>IsNoise</th>\n",
       "            <th>IsSecurityRisk</th>\n",
       "            <th>IsCustomerImpacting</th>\n",
       "            <th>Component</th>\n",
       "            <th>Revision</th>\n",
       "            <th>TsgId</th>\n",
       "            <th>Title</th>\n",
       "            <th>ReproSteps</th>\n",
       "            <th>CustomerName</th>\n",
       "            <th>CommitDate</th>\n",
       "            <th>ResolveDate</th>\n",
       "            <th>ResolvedBy</th>\n",
       "            <th>RootCauseId</th>\n",
       "            <th>RootCauseLinkDate</th>\n",
       "            <th>Mitigation</th>\n",
       "            <th>KBArticleId</th>\n",
       "            <th>PIRReportId</th>\n",
       "            <th>PIRLinkDate</th>\n",
       "            <th>ImpactedScenarios</th>\n",
       "            <th>HitCount</th>\n",
       "            <th>LastCorrelationDate</th>\n",
       "            <th>Keywords</th>\n",
       "            <th>MitigateDate</th>\n",
       "            <th>ImpactStartDate</th>\n",
       "            <th>MitigatedBy</th>\n",
       "            <th>CommsMgrEngagementMode</th>\n",
       "            <th>CommsMgrEngagementAdditionalDetails</th>\n",
       "            <th>IncidentType</th>\n",
       "            <th>ChildCount</th>\n",
       "            <th>RelatedLinksCount</th>\n",
       "            <th>ExternalLinksCount</th>\n",
       "            <th>HowFixed</th>\n",
       "            <th>IncidentSubType</th>\n",
       "            <th>TsgOutput</th>\n",
       "            <th>MonitorId</th>\n",
       "            <th>ResponsibleTenantName</th>\n",
       "            <th>ResponsibleTenantId</th>\n",
       "            <th>ResponsibleTenantPublicId</th>\n",
       "            <th>SupportTicketId</th>\n",
       "            <th>SubscriptionId</th>\n",
       "            <th>PublicPirId</th>\n",
       "            <th>OriginatingTenantName</th>\n",
       "            <th>OriginatingTenantId</th>\n",
       "            <th>OriginatingTenantPublicId</th>\n",
       "            <th>SiloId</th>\n",
       "            <th>Lens_IngestionTime</th>\n",
       "            <th>Lens_Originator</th>\n",
       "            <th>Lens_OriginatorData</th>\n",
       "            <th>Lens_SessionId</th>\n",
       "            <th>Lens_BatchId</th>\n",
       "            <th>IsOutage</th>\n",
       "            <th>Summary</th>\n",
       "            <th>OutageDeclaredDate</th>\n",
       "            <th>ResponsibleTeamName</th>\n",
       "            <th>ResponsibleTeamId</th>\n",
       "            <th>IncidentManagerContactId</th>\n",
       "            <th>CommunicationsManagerContactId</th>\n",
       "            <th>OutageImpactLevel</th>\n",
       "            <th>ExecutiveIncidentManagerContactId</th>\n",
       "            <th>Tags</th>\n",
       "        </tr>\n",
       "    </thead>\n",
       "    <tbody>\n",
       "        <tr>\n",
       "            <td>246918598</td>\n",
       "            <td>75</td>\n",
       "            <td>ADROCS</td>\n",
       "            <td>Custom</td>\n",
       "            <td>81790250-cb89-445b-84ce-47ef4b30f64a</td>\n",
       "            <td>2021-06-22 14:53:11.573000+00:00</td>\n",
       "            <td>Other</td>\n",
       "            <td>MDM-Ext-north-prod2</td>\n",
       "            <td>2021-06-22 14:53:14.277000+00:00</td>\n",
       "            <td>2021-06-22 14:53:14.117000+00:00</td>\n",
       "            <td>2021-06-23 03:59:13.493000+00:00</td>\n",
       "            <td>ADROCS://RECOVERY/MICROSFTGRAPH/AGSWORKLOAD</td>\n",
       "            <td>resource://microsoft graph service/workloadavailability2/aad_canada east_default_microsoft.excel:workload availability_default_excel:sev3</td>\n",
       "            <td>PROD</td>\n",
       "            <td>Canada East</td>\n",
       "            <td>AAD</td>\n",
       "            <td>Microsoft.Excel</td>\n",
       "            <td>Default</td>\n",
       "            <td>PROD2</td>\n",
       "            <td></td>\n",
       "            <td>ADROCS</td>\n",
       "            <td></td>\n",
       "            <td></td>\n",
       "            <td>Office Extensibility</td>\n",
       "            <td>20475</td>\n",
       "            <td>5c08e7de-c98e-4ac5-83b7-09542288b378</td>\n",
       "            <td>OFFICEEXTENSIBILITY\\GraphExcel-AADMonitoring</td>\n",
       "            <td>75867</td>\n",
       "            <td>71799</td>\n",
       "            <td>jipinshi</td>\n",
       "            <td>None</td>\n",
       "            <td>3</td>\n",
       "            <td>ACTIVE</td>\n",
       "            <td>False</td>\n",
       "            <td>False</td>\n",
       "            <td>False</td>\n",
       "            <td></td>\n",
       "            <td>None</td>\n",
       "            <td>https://msazure.visualstudio.com/One/_wiki/wikis/Microsoft%20Graph%20Partners?friendlyName=TSG&amp;pagePath=%2FService%2FSupport%2FTSG%2FWorkload%20availability</td>\n",
       "            <td>[Workload Availability_Default_Excel] WorkloadAvailability2 [Default][Canada East][AAD][Microsoft.Excel] is degraded.</td>\n",
       "            <td></td>\n",
       "            <td></td>\n",
       "            <td>None</td>\n",
       "            <td>None</td>\n",
       "            <td></td>\n",
       "            <td>None</td>\n",
       "            <td>None</td>\n",
       "            <td></td>\n",
       "            <td>None</td>\n",
       "            <td>None</td>\n",
       "            <td>None</td>\n",
       "            <td></td>\n",
       "            <td>31</td>\n",
       "            <td>2021-06-22 16:25:29.363000+00:00</td>\n",
       "            <td></td>\n",
       "            <td>None</td>\n",
       "            <td>2021-06-22 14:53:11.573000+00:00</td>\n",
       "            <td></td>\n",
       "            <td></td>\n",
       "            <td></td>\n",
       "            <td>LiveSite</td>\n",
       "            <td>0</td>\n",
       "            <td>0</td>\n",
       "            <td>0</td>\n",
       "            <td></td>\n",
       "            <td></td>\n",
       "            <td></td>\n",
       "            <td>Workload Availability_Default_Excel</td>\n",
       "            <td>Office Extensibility</td>\n",
       "            <td>20475</td>\n",
       "            <td>5c08e7de-c98e-4ac5-83b7-09542288b378</td>\n",
       "            <td></td>\n",
       "            <td></td>\n",
       "            <td>None</td>\n",
       "            <td>Microsoft Graph Service</td>\n",
       "            <td>20330</td>\n",
       "            <td>13052ddb-a61b-45db-b383-a8b084cdbf2d</td>\n",
       "            <td>1</td>\n",
       "            <td>2021-06-23 04:10:01+00:00</td>\n",
       "            <td>IcM</td>\n",
       "            <td></td>\n",
       "            <td>CO2ICMIMC02</td>\n",
       "            <td>0</td>\n",
       "            <td>None</td>\n",
       "            <td></td>\n",
       "            <td>None</td>\n",
       "            <td></td>\n",
       "            <td>None</td>\n",
       "            <td></td>\n",
       "            <td></td>\n",
       "            <td></td>\n",
       "            <td></td>\n",
       "            <td>[]</td>\n",
       "        </tr>\n",
       "        <tr>\n",
       "            <td>246918598</td>\n",
       "            <td>75</td>\n",
       "            <td>ADROCS</td>\n",
       "            <td>Custom</td>\n",
       "            <td>81790250-cb89-445b-84ce-47ef4b30f64a</td>\n",
       "            <td>2021-06-22 14:53:11.573000+00:00</td>\n",
       "            <td>Other</td>\n",
       "            <td>MDM-Ext-north-prod2</td>\n",
       "            <td>2021-06-22 14:53:14.277000+00:00</td>\n",
       "            <td>2021-06-22 14:53:14.117000+00:00</td>\n",
       "            <td>2021-06-22 14:54:12.830000+00:00</td>\n",
       "            <td>ADROCS://RECOVERY/MICROSFTGRAPH/AGSWORKLOAD</td>\n",
       "            <td>resource://microsoft graph service/workloadavailability2/aad_canada east_default_microsoft.excel:workload availability_default_excel:sev3</td>\n",
       "            <td>PROD</td>\n",
       "            <td>Canada East</td>\n",
       "            <td>AAD</td>\n",
       "            <td>Microsoft.Excel</td>\n",
       "            <td>Default</td>\n",
       "            <td>PROD2</td>\n",
       "            <td></td>\n",
       "            <td>ADROCS</td>\n",
       "            <td></td>\n",
       "            <td></td>\n",
       "            <td>Office Extensibility</td>\n",
       "            <td>20475</td>\n",
       "            <td>5c08e7de-c98e-4ac5-83b7-09542288b378</td>\n",
       "            <td>OFFICEEXTENSIBILITY\\GraphExcel-AADMonitoring</td>\n",
       "            <td>75867</td>\n",
       "            <td>71799</td>\n",
       "            <td>jipinshi</td>\n",
       "            <td>None</td>\n",
       "            <td>3</td>\n",
       "            <td>ACTIVE</td>\n",
       "            <td>False</td>\n",
       "            <td>False</td>\n",
       "            <td>False</td>\n",
       "            <td></td>\n",
       "            <td>None</td>\n",
       "            <td>https://msazure.visualstudio.com/One/_wiki/wikis/Microsoft%20Graph%20Partners?friendlyName=TSG&amp;pagePath=%2FService%2FSupport%2FTSG%2FWorkload%20availability</td>\n",
       "            <td>[Workload Availability_Default_Excel] WorkloadAvailability2 [Default][Canada East][AAD][Microsoft.Excel] is degraded.</td>\n",
       "            <td></td>\n",
       "            <td></td>\n",
       "            <td>None</td>\n",
       "            <td>None</td>\n",
       "            <td></td>\n",
       "            <td>None</td>\n",
       "            <td>None</td>\n",
       "            <td></td>\n",
       "            <td>None</td>\n",
       "            <td>None</td>\n",
       "            <td>None</td>\n",
       "            <td></td>\n",
       "            <td>31</td>\n",
       "            <td>2021-06-22 16:25:29.363000+00:00</td>\n",
       "            <td></td>\n",
       "            <td>None</td>\n",
       "            <td>2021-06-22 14:53:11.573000+00:00</td>\n",
       "            <td></td>\n",
       "            <td></td>\n",
       "            <td></td>\n",
       "            <td>LiveSite</td>\n",
       "            <td>0</td>\n",
       "            <td>0</td>\n",
       "            <td>0</td>\n",
       "            <td></td>\n",
       "            <td></td>\n",
       "            <td></td>\n",
       "            <td>Workload Availability_Default_Excel</td>\n",
       "            <td>Office Extensibility</td>\n",
       "            <td>20475</td>\n",
       "            <td>5c08e7de-c98e-4ac5-83b7-09542288b378</td>\n",
       "            <td></td>\n",
       "            <td></td>\n",
       "            <td>None</td>\n",
       "            <td>Microsoft Graph Service</td>\n",
       "            <td>20330</td>\n",
       "            <td>13052ddb-a61b-45db-b383-a8b084cdbf2d</td>\n",
       "            <td>1</td>\n",
       "            <td>2021-06-22 16:32:54+00:00</td>\n",
       "            <td>IcM</td>\n",
       "            <td></td>\n",
       "            <td>CO2ICMIMC04</td>\n",
       "            <td>0</td>\n",
       "            <td>None</td>\n",
       "            <td></td>\n",
       "            <td>None</td>\n",
       "            <td></td>\n",
       "            <td>None</td>\n",
       "            <td></td>\n",
       "            <td></td>\n",
       "            <td></td>\n",
       "            <td></td>\n",
       "            <td>[]</td>\n",
       "        </tr>\n",
       "        <tr>\n",
       "            <td>246918598</td>\n",
       "            <td>75</td>\n",
       "            <td>ADROCS</td>\n",
       "            <td>Custom</td>\n",
       "            <td>81790250-cb89-445b-84ce-47ef4b30f64a</td>\n",
       "            <td>2021-06-22 14:53:11.573000+00:00</td>\n",
       "            <td>Other</td>\n",
       "            <td>MDM-Ext-north-prod2</td>\n",
       "            <td>2021-06-22 14:53:14.277000+00:00</td>\n",
       "            <td>2021-06-22 14:53:14.117000+00:00</td>\n",
       "            <td>2021-06-22 14:54:12.830000+00:00</td>\n",
       "            <td>ADROCS://RECOVERY/MICROSFTGRAPH/AGSWORKLOAD</td>\n",
       "            <td>resource://microsoft graph service/workloadavailability2/aad_canada east_default_microsoft.excel:workload availability_default_excel:sev3</td>\n",
       "            <td>PROD</td>\n",
       "            <td>Canada East</td>\n",
       "            <td>AAD</td>\n",
       "            <td>Microsoft.Excel</td>\n",
       "            <td>Default</td>\n",
       "            <td>PROD2</td>\n",
       "            <td></td>\n",
       "            <td>ADROCS</td>\n",
       "            <td></td>\n",
       "            <td></td>\n",
       "            <td>Office Extensibility</td>\n",
       "            <td>20475</td>\n",
       "            <td>5c08e7de-c98e-4ac5-83b7-09542288b378</td>\n",
       "            <td>OFFICEEXTENSIBILITY\\GraphExcel-AADMonitoring</td>\n",
       "            <td>75867</td>\n",
       "            <td>71799</td>\n",
       "            <td>jipinshi</td>\n",
       "            <td>None</td>\n",
       "            <td>3</td>\n",
       "            <td>ACTIVE</td>\n",
       "            <td>False</td>\n",
       "            <td>False</td>\n",
       "            <td>False</td>\n",
       "            <td></td>\n",
       "            <td>None</td>\n",
       "            <td>https://msazure.visualstudio.com/One/_wiki/wikis/Microsoft%20Graph%20Partners?friendlyName=TSG&amp;pagePath=%2FService%2FSupport%2FTSG%2FWorkload%20availability</td>\n",
       "            <td>[Workload Availability_Default_Excel] WorkloadAvailability2 [Default][Canada East][AAD][Microsoft.Excel] is degraded.</td>\n",
       "            <td></td>\n",
       "            <td></td>\n",
       "            <td>None</td>\n",
       "            <td>None</td>\n",
       "            <td></td>\n",
       "            <td>None</td>\n",
       "            <td>None</td>\n",
       "            <td></td>\n",
       "            <td>None</td>\n",
       "            <td>None</td>\n",
       "            <td>None</td>\n",
       "            <td></td>\n",
       "            <td>1</td>\n",
       "            <td>2021-06-22 14:55:34.130000+00:00</td>\n",
       "            <td></td>\n",
       "            <td>None</td>\n",
       "            <td>2021-06-22 14:53:11.573000+00:00</td>\n",
       "            <td></td>\n",
       "            <td></td>\n",
       "            <td></td>\n",
       "            <td>LiveSite</td>\n",
       "            <td>0</td>\n",
       "            <td>0</td>\n",
       "            <td>0</td>\n",
       "            <td></td>\n",
       "            <td></td>\n",
       "            <td></td>\n",
       "            <td>Workload Availability_Default_Excel</td>\n",
       "            <td>Office Extensibility</td>\n",
       "            <td>20475</td>\n",
       "            <td>5c08e7de-c98e-4ac5-83b7-09542288b378</td>\n",
       "            <td></td>\n",
       "            <td></td>\n",
       "            <td>None</td>\n",
       "            <td>Microsoft Graph Service</td>\n",
       "            <td>20330</td>\n",
       "            <td>13052ddb-a61b-45db-b383-a8b084cdbf2d</td>\n",
       "            <td>1</td>\n",
       "            <td>2021-06-22 14:59:05+00:00</td>\n",
       "            <td>IcM</td>\n",
       "            <td></td>\n",
       "            <td>CO2ICMIMC03</td>\n",
       "            <td>0</td>\n",
       "            <td>None</td>\n",
       "            <td></td>\n",
       "            <td>None</td>\n",
       "            <td></td>\n",
       "            <td>None</td>\n",
       "            <td></td>\n",
       "            <td></td>\n",
       "            <td></td>\n",
       "            <td></td>\n",
       "            <td>[]</td>\n",
       "        </tr>\n",
       "        <tr>\n",
       "            <td>246918598</td>\n",
       "            <td>75</td>\n",
       "            <td>ADROCS</td>\n",
       "            <td>Custom</td>\n",
       "            <td>81790250-cb89-445b-84ce-47ef4b30f64a</td>\n",
       "            <td>2021-06-22 14:53:11.573000+00:00</td>\n",
       "            <td>Other</td>\n",
       "            <td>MDM-Ext-north-prod2</td>\n",
       "            <td>2021-06-22 14:53:14.277000+00:00</td>\n",
       "            <td>2021-06-22 14:53:14.117000+00:00</td>\n",
       "            <td>2021-06-22 14:54:12.830000+00:00</td>\n",
       "            <td>ADROCS://RECOVERY/MICROSFTGRAPH/AGSWORKLOAD</td>\n",
       "            <td>resource://microsoft graph service/workloadavailability2/aad_canada east_default_microsoft.excel:workload availability_default_excel:sev3</td>\n",
       "            <td>PROD</td>\n",
       "            <td>Canada East</td>\n",
       "            <td>AAD</td>\n",
       "            <td>Microsoft.Excel</td>\n",
       "            <td>Default</td>\n",
       "            <td>PROD2</td>\n",
       "            <td></td>\n",
       "            <td>ADROCS</td>\n",
       "            <td></td>\n",
       "            <td></td>\n",
       "            <td>Office Extensibility</td>\n",
       "            <td>20475</td>\n",
       "            <td>5c08e7de-c98e-4ac5-83b7-09542288b378</td>\n",
       "            <td>OFFICEEXTENSIBILITY\\GraphExcel-AADMonitoring</td>\n",
       "            <td>75867</td>\n",
       "            <td>71799</td>\n",
       "            <td>jipinshi</td>\n",
       "            <td>None</td>\n",
       "            <td>3</td>\n",
       "            <td>ACTIVE</td>\n",
       "            <td>False</td>\n",
       "            <td>False</td>\n",
       "            <td>False</td>\n",
       "            <td></td>\n",
       "            <td>None</td>\n",
       "            <td>https://msazure.visualstudio.com/One/_wiki/wikis/Microsoft%20Graph%20Partners?friendlyName=TSG&amp;pagePath=%2FService%2FSupport%2FTSG%2FWorkload%20availability</td>\n",
       "            <td>[Workload Availability_Default_Excel] WorkloadAvailability2 [Default][Canada East][AAD][Microsoft.Excel] is degraded.</td>\n",
       "            <td></td>\n",
       "            <td></td>\n",
       "            <td>None</td>\n",
       "            <td>None</td>\n",
       "            <td></td>\n",
       "            <td>None</td>\n",
       "            <td>None</td>\n",
       "            <td></td>\n",
       "            <td>None</td>\n",
       "            <td>None</td>\n",
       "            <td>None</td>\n",
       "            <td></td>\n",
       "            <td>1</td>\n",
       "            <td>2021-06-22 14:55:34.130000+00:00</td>\n",
       "            <td></td>\n",
       "            <td>None</td>\n",
       "            <td>2021-06-22 14:53:11.573000+00:00</td>\n",
       "            <td></td>\n",
       "            <td></td>\n",
       "            <td></td>\n",
       "            <td>LiveSite</td>\n",
       "            <td>0</td>\n",
       "            <td>0</td>\n",
       "            <td>0</td>\n",
       "            <td></td>\n",
       "            <td></td>\n",
       "            <td></td>\n",
       "            <td>Workload Availability_Default_Excel</td>\n",
       "            <td>Office Extensibility</td>\n",
       "            <td>20475</td>\n",
       "            <td>5c08e7de-c98e-4ac5-83b7-09542288b378</td>\n",
       "            <td></td>\n",
       "            <td></td>\n",
       "            <td>None</td>\n",
       "            <td>Microsoft Graph Service</td>\n",
       "            <td>20330</td>\n",
       "            <td>13052ddb-a61b-45db-b383-a8b084cdbf2d</td>\n",
       "            <td>1</td>\n",
       "            <td>2021-06-22 14:55:59+00:00</td>\n",
       "            <td>IcM</td>\n",
       "            <td></td>\n",
       "            <td>CO2ICMIMC04</td>\n",
       "            <td>0</td>\n",
       "            <td>None</td>\n",
       "            <td></td>\n",
       "            <td>None</td>\n",
       "            <td></td>\n",
       "            <td>None</td>\n",
       "            <td></td>\n",
       "            <td></td>\n",
       "            <td></td>\n",
       "            <td></td>\n",
       "            <td>[]</td>\n",
       "        </tr>\n",
       "    </tbody>\n",
       "</table>\n",
       "        </body>\n",
       "        </html>"
      ],
      "text/plain": [
       "<IPython.core.display.HTML object>"
      ]
     },
     "metadata": {},
     "output_type": "display_data"
    },
    {
     "data": {
      "text/html": [
       "<html>\n",
       "        <head>\n",
       "            \n",
       "            \n",
       "        </head>\n",
       "        <body>\n",
       "            <div><p style='padding: 10px; color: #3a87ad; background-color: #d9edf7; border-color: #bce9f1'>Done&nbsp;(00:47.960):&nbsp;4&nbsp;records</p></div>\n",
       "        </body>\n",
       "        </html>"
      ],
      "text/plain": [
       "<IPython.core.display.HTML object>"
      ]
     },
     "metadata": {},
     "output_type": "display_data"
    },
    {
     "data": {
      "text/html": [],
      "text/plain": [
       "[{'IncidentId': 246918598, 'SourceId': '75', 'SourceName': 'ADROCS', 'SourceType': 'Custom', 'SourceIncidentId': '81790250-cb89-445b-84ce-47ef4b30f64a', 'SourceCreateDate': datetime.datetime(2021, 6, 22, 14, 53, 11, 573000, tzinfo=tzutc()), 'SourceOrigin': 'Other', 'SourceCreatedBy': 'MDM-Ext-north-prod2', 'SourceModifiedDate': datetime.datetime(2021, 6, 22, 14, 53, 14, 277000, tzinfo=tzutc()), 'CreateDate': datetime.datetime(2021, 6, 22, 14, 53, 14, 117000, tzinfo=tzutc()), 'ModifiedDate': datetime.datetime(2021, 6, 23, 3, 59, 13, 493000, tzinfo=tzutc()), 'RoutingId': 'ADROCS://RECOVERY/MICROSFTGRAPH/AGSWORKLOAD', 'CorrelationId': 'resource://microsoft graph service/workloadavailability2/aad_canada east_default_microsoft.excel:workload availability_default_excel:sev3', 'OccurringEnvironment': 'PROD', 'OccurringDatacenter': 'Canada East', 'OccurringDeviceGroup': 'AAD', 'OccurringDeviceName': 'Microsoft.Excel', 'OccurringServiceInstanceId': 'Default', 'RaisingEnvironment': 'PROD2', 'RaisingDatacenter': '', 'RaisingDeviceGroup': 'ADROCS', 'RaisingDeviceName': '', 'RaisingServiceInstanceId': '', 'OwningTenantName': 'Office Extensibility', 'OwningTenantId': 20475, 'OwningTenantPublicId': '5c08e7de-c98e-4ac5-83b7-09542288b378', 'OwningTeamName': 'OFFICEEXTENSIBILITY\\\\GraphExcel-AADMonitoring', 'OwningTeamId': 75867, 'OwningContactId': '71799', 'OwningContactAlias': 'jipinshi', 'ParentIncidentId': None, 'Severity': 3, 'Status': 'ACTIVE', 'IsNoise': False, 'IsSecurityRisk': False, 'IsCustomerImpacting': False, 'Component': '', 'Revision': None, 'TsgId': 'https://msazure.visualstudio.com/One/_wiki/wikis/Microsoft%20Graph%20Partners?friendlyName=TSG&pagePath=%2FService%2FSupport%2FTSG%2FWorkload%20availability', 'Title': '[Workload Availability_Default_Excel] WorkloadAvailability2 [Default][Canada East][AAD][Microsoft.Excel] is degraded.', 'ReproSteps': '', 'CustomerName': '', 'CommitDate': None, 'ResolveDate': None, 'ResolvedBy': '', 'RootCauseId': None, 'RootCauseLinkDate': None, 'Mitigation': '', 'KBArticleId': None, 'PIRReportId': None, 'PIRLinkDate': None, 'ImpactedScenarios': '', 'HitCount': 31, 'LastCorrelationDate': datetime.datetime(2021, 6, 22, 16, 25, 29, 363000, tzinfo=tzutc()), 'Keywords': '', 'MitigateDate': None, 'ImpactStartDate': datetime.datetime(2021, 6, 22, 14, 53, 11, 573000, tzinfo=tzutc()), 'MitigatedBy': '', 'CommsMgrEngagementMode': '', 'CommsMgrEngagementAdditionalDetails': '', 'IncidentType': 'LiveSite', 'ChildCount': 0, 'RelatedLinksCount': 0, 'ExternalLinksCount': 0, 'HowFixed': '', 'IncidentSubType': '', 'TsgOutput': '', 'MonitorId': 'Workload Availability_Default_Excel', 'ResponsibleTenantName': 'Office Extensibility', 'ResponsibleTenantId': 20475, 'ResponsibleTenantPublicId': '5c08e7de-c98e-4ac5-83b7-09542288b378', 'SupportTicketId': '', 'SubscriptionId': '', 'PublicPirId': None, 'OriginatingTenantName': 'Microsoft Graph Service', 'OriginatingTenantId': 20330, 'OriginatingTenantPublicId': '13052ddb-a61b-45db-b383-a8b084cdbf2d', 'SiloId': 1, 'Lens_IngestionTime': datetime.datetime(2021, 6, 23, 4, 10, 1, tzinfo=tzutc()), 'Lens_Originator': 'IcM', 'Lens_OriginatorData': '', 'Lens_SessionId': 'CO2ICMIMC02', 'Lens_BatchId': '0', 'IsOutage': None, 'Summary': '', 'OutageDeclaredDate': None, 'ResponsibleTeamName': '', 'ResponsibleTeamId': None, 'IncidentManagerContactId': '', 'CommunicationsManagerContactId': '', 'OutageImpactLevel': '', 'ExecutiveIncidentManagerContactId': '', 'Tags': '[]'},\n",
       " {'IncidentId': 246918598, 'SourceId': '75', 'SourceName': 'ADROCS', 'SourceType': 'Custom', 'SourceIncidentId': '81790250-cb89-445b-84ce-47ef4b30f64a', 'SourceCreateDate': datetime.datetime(2021, 6, 22, 14, 53, 11, 573000, tzinfo=tzutc()), 'SourceOrigin': 'Other', 'SourceCreatedBy': 'MDM-Ext-north-prod2', 'SourceModifiedDate': datetime.datetime(2021, 6, 22, 14, 53, 14, 277000, tzinfo=tzutc()), 'CreateDate': datetime.datetime(2021, 6, 22, 14, 53, 14, 117000, tzinfo=tzutc()), 'ModifiedDate': datetime.datetime(2021, 6, 22, 14, 54, 12, 830000, tzinfo=tzutc()), 'RoutingId': 'ADROCS://RECOVERY/MICROSFTGRAPH/AGSWORKLOAD', 'CorrelationId': 'resource://microsoft graph service/workloadavailability2/aad_canada east_default_microsoft.excel:workload availability_default_excel:sev3', 'OccurringEnvironment': 'PROD', 'OccurringDatacenter': 'Canada East', 'OccurringDeviceGroup': 'AAD', 'OccurringDeviceName': 'Microsoft.Excel', 'OccurringServiceInstanceId': 'Default', 'RaisingEnvironment': 'PROD2', 'RaisingDatacenter': '', 'RaisingDeviceGroup': 'ADROCS', 'RaisingDeviceName': '', 'RaisingServiceInstanceId': '', 'OwningTenantName': 'Office Extensibility', 'OwningTenantId': 20475, 'OwningTenantPublicId': '5c08e7de-c98e-4ac5-83b7-09542288b378', 'OwningTeamName': 'OFFICEEXTENSIBILITY\\\\GraphExcel-AADMonitoring', 'OwningTeamId': 75867, 'OwningContactId': '71799', 'OwningContactAlias': 'jipinshi', 'ParentIncidentId': None, 'Severity': 3, 'Status': 'ACTIVE', 'IsNoise': False, 'IsSecurityRisk': False, 'IsCustomerImpacting': False, 'Component': '', 'Revision': None, 'TsgId': 'https://msazure.visualstudio.com/One/_wiki/wikis/Microsoft%20Graph%20Partners?friendlyName=TSG&pagePath=%2FService%2FSupport%2FTSG%2FWorkload%20availability', 'Title': '[Workload Availability_Default_Excel] WorkloadAvailability2 [Default][Canada East][AAD][Microsoft.Excel] is degraded.', 'ReproSteps': '', 'CustomerName': '', 'CommitDate': None, 'ResolveDate': None, 'ResolvedBy': '', 'RootCauseId': None, 'RootCauseLinkDate': None, 'Mitigation': '', 'KBArticleId': None, 'PIRReportId': None, 'PIRLinkDate': None, 'ImpactedScenarios': '', 'HitCount': 31, 'LastCorrelationDate': datetime.datetime(2021, 6, 22, 16, 25, 29, 363000, tzinfo=tzutc()), 'Keywords': '', 'MitigateDate': None, 'ImpactStartDate': datetime.datetime(2021, 6, 22, 14, 53, 11, 573000, tzinfo=tzutc()), 'MitigatedBy': '', 'CommsMgrEngagementMode': '', 'CommsMgrEngagementAdditionalDetails': '', 'IncidentType': 'LiveSite', 'ChildCount': 0, 'RelatedLinksCount': 0, 'ExternalLinksCount': 0, 'HowFixed': '', 'IncidentSubType': '', 'TsgOutput': '', 'MonitorId': 'Workload Availability_Default_Excel', 'ResponsibleTenantName': 'Office Extensibility', 'ResponsibleTenantId': 20475, 'ResponsibleTenantPublicId': '5c08e7de-c98e-4ac5-83b7-09542288b378', 'SupportTicketId': '', 'SubscriptionId': '', 'PublicPirId': None, 'OriginatingTenantName': 'Microsoft Graph Service', 'OriginatingTenantId': 20330, 'OriginatingTenantPublicId': '13052ddb-a61b-45db-b383-a8b084cdbf2d', 'SiloId': 1, 'Lens_IngestionTime': datetime.datetime(2021, 6, 22, 16, 32, 54, tzinfo=tzutc()), 'Lens_Originator': 'IcM', 'Lens_OriginatorData': '', 'Lens_SessionId': 'CO2ICMIMC04', 'Lens_BatchId': '0', 'IsOutage': None, 'Summary': '', 'OutageDeclaredDate': None, 'ResponsibleTeamName': '', 'ResponsibleTeamId': None, 'IncidentManagerContactId': '', 'CommunicationsManagerContactId': '', 'OutageImpactLevel': '', 'ExecutiveIncidentManagerContactId': '', 'Tags': '[]'},\n",
       " {'IncidentId': 246918598, 'SourceId': '75', 'SourceName': 'ADROCS', 'SourceType': 'Custom', 'SourceIncidentId': '81790250-cb89-445b-84ce-47ef4b30f64a', 'SourceCreateDate': datetime.datetime(2021, 6, 22, 14, 53, 11, 573000, tzinfo=tzutc()), 'SourceOrigin': 'Other', 'SourceCreatedBy': 'MDM-Ext-north-prod2', 'SourceModifiedDate': datetime.datetime(2021, 6, 22, 14, 53, 14, 277000, tzinfo=tzutc()), 'CreateDate': datetime.datetime(2021, 6, 22, 14, 53, 14, 117000, tzinfo=tzutc()), 'ModifiedDate': datetime.datetime(2021, 6, 22, 14, 54, 12, 830000, tzinfo=tzutc()), 'RoutingId': 'ADROCS://RECOVERY/MICROSFTGRAPH/AGSWORKLOAD', 'CorrelationId': 'resource://microsoft graph service/workloadavailability2/aad_canada east_default_microsoft.excel:workload availability_default_excel:sev3', 'OccurringEnvironment': 'PROD', 'OccurringDatacenter': 'Canada East', 'OccurringDeviceGroup': 'AAD', 'OccurringDeviceName': 'Microsoft.Excel', 'OccurringServiceInstanceId': 'Default', 'RaisingEnvironment': 'PROD2', 'RaisingDatacenter': '', 'RaisingDeviceGroup': 'ADROCS', 'RaisingDeviceName': '', 'RaisingServiceInstanceId': '', 'OwningTenantName': 'Office Extensibility', 'OwningTenantId': 20475, 'OwningTenantPublicId': '5c08e7de-c98e-4ac5-83b7-09542288b378', 'OwningTeamName': 'OFFICEEXTENSIBILITY\\\\GraphExcel-AADMonitoring', 'OwningTeamId': 75867, 'OwningContactId': '71799', 'OwningContactAlias': 'jipinshi', 'ParentIncidentId': None, 'Severity': 3, 'Status': 'ACTIVE', 'IsNoise': False, 'IsSecurityRisk': False, 'IsCustomerImpacting': False, 'Component': '', 'Revision': None, 'TsgId': 'https://msazure.visualstudio.com/One/_wiki/wikis/Microsoft%20Graph%20Partners?friendlyName=TSG&pagePath=%2FService%2FSupport%2FTSG%2FWorkload%20availability', 'Title': '[Workload Availability_Default_Excel] WorkloadAvailability2 [Default][Canada East][AAD][Microsoft.Excel] is degraded.', 'ReproSteps': '', 'CustomerName': '', 'CommitDate': None, 'ResolveDate': None, 'ResolvedBy': '', 'RootCauseId': None, 'RootCauseLinkDate': None, 'Mitigation': '', 'KBArticleId': None, 'PIRReportId': None, 'PIRLinkDate': None, 'ImpactedScenarios': '', 'HitCount': 1, 'LastCorrelationDate': datetime.datetime(2021, 6, 22, 14, 55, 34, 130000, tzinfo=tzutc()), 'Keywords': '', 'MitigateDate': None, 'ImpactStartDate': datetime.datetime(2021, 6, 22, 14, 53, 11, 573000, tzinfo=tzutc()), 'MitigatedBy': '', 'CommsMgrEngagementMode': '', 'CommsMgrEngagementAdditionalDetails': '', 'IncidentType': 'LiveSite', 'ChildCount': 0, 'RelatedLinksCount': 0, 'ExternalLinksCount': 0, 'HowFixed': '', 'IncidentSubType': '', 'TsgOutput': '', 'MonitorId': 'Workload Availability_Default_Excel', 'ResponsibleTenantName': 'Office Extensibility', 'ResponsibleTenantId': 20475, 'ResponsibleTenantPublicId': '5c08e7de-c98e-4ac5-83b7-09542288b378', 'SupportTicketId': '', 'SubscriptionId': '', 'PublicPirId': None, 'OriginatingTenantName': 'Microsoft Graph Service', 'OriginatingTenantId': 20330, 'OriginatingTenantPublicId': '13052ddb-a61b-45db-b383-a8b084cdbf2d', 'SiloId': 1, 'Lens_IngestionTime': datetime.datetime(2021, 6, 22, 14, 59, 5, tzinfo=tzutc()), 'Lens_Originator': 'IcM', 'Lens_OriginatorData': '', 'Lens_SessionId': 'CO2ICMIMC03', 'Lens_BatchId': '0', 'IsOutage': None, 'Summary': '', 'OutageDeclaredDate': None, 'ResponsibleTeamName': '', 'ResponsibleTeamId': None, 'IncidentManagerContactId': '', 'CommunicationsManagerContactId': '', 'OutageImpactLevel': '', 'ExecutiveIncidentManagerContactId': '', 'Tags': '[]'},\n",
       " {'IncidentId': 246918598, 'SourceId': '75', 'SourceName': 'ADROCS', 'SourceType': 'Custom', 'SourceIncidentId': '81790250-cb89-445b-84ce-47ef4b30f64a', 'SourceCreateDate': datetime.datetime(2021, 6, 22, 14, 53, 11, 573000, tzinfo=tzutc()), 'SourceOrigin': 'Other', 'SourceCreatedBy': 'MDM-Ext-north-prod2', 'SourceModifiedDate': datetime.datetime(2021, 6, 22, 14, 53, 14, 277000, tzinfo=tzutc()), 'CreateDate': datetime.datetime(2021, 6, 22, 14, 53, 14, 117000, tzinfo=tzutc()), 'ModifiedDate': datetime.datetime(2021, 6, 22, 14, 54, 12, 830000, tzinfo=tzutc()), 'RoutingId': 'ADROCS://RECOVERY/MICROSFTGRAPH/AGSWORKLOAD', 'CorrelationId': 'resource://microsoft graph service/workloadavailability2/aad_canada east_default_microsoft.excel:workload availability_default_excel:sev3', 'OccurringEnvironment': 'PROD', 'OccurringDatacenter': 'Canada East', 'OccurringDeviceGroup': 'AAD', 'OccurringDeviceName': 'Microsoft.Excel', 'OccurringServiceInstanceId': 'Default', 'RaisingEnvironment': 'PROD2', 'RaisingDatacenter': '', 'RaisingDeviceGroup': 'ADROCS', 'RaisingDeviceName': '', 'RaisingServiceInstanceId': '', 'OwningTenantName': 'Office Extensibility', 'OwningTenantId': 20475, 'OwningTenantPublicId': '5c08e7de-c98e-4ac5-83b7-09542288b378', 'OwningTeamName': 'OFFICEEXTENSIBILITY\\\\GraphExcel-AADMonitoring', 'OwningTeamId': 75867, 'OwningContactId': '71799', 'OwningContactAlias': 'jipinshi', 'ParentIncidentId': None, 'Severity': 3, 'Status': 'ACTIVE', 'IsNoise': False, 'IsSecurityRisk': False, 'IsCustomerImpacting': False, 'Component': '', 'Revision': None, 'TsgId': 'https://msazure.visualstudio.com/One/_wiki/wikis/Microsoft%20Graph%20Partners?friendlyName=TSG&pagePath=%2FService%2FSupport%2FTSG%2FWorkload%20availability', 'Title': '[Workload Availability_Default_Excel] WorkloadAvailability2 [Default][Canada East][AAD][Microsoft.Excel] is degraded.', 'ReproSteps': '', 'CustomerName': '', 'CommitDate': None, 'ResolveDate': None, 'ResolvedBy': '', 'RootCauseId': None, 'RootCauseLinkDate': None, 'Mitigation': '', 'KBArticleId': None, 'PIRReportId': None, 'PIRLinkDate': None, 'ImpactedScenarios': '', 'HitCount': 1, 'LastCorrelationDate': datetime.datetime(2021, 6, 22, 14, 55, 34, 130000, tzinfo=tzutc()), 'Keywords': '', 'MitigateDate': None, 'ImpactStartDate': datetime.datetime(2021, 6, 22, 14, 53, 11, 573000, tzinfo=tzutc()), 'MitigatedBy': '', 'CommsMgrEngagementMode': '', 'CommsMgrEngagementAdditionalDetails': '', 'IncidentType': 'LiveSite', 'ChildCount': 0, 'RelatedLinksCount': 0, 'ExternalLinksCount': 0, 'HowFixed': '', 'IncidentSubType': '', 'TsgOutput': '', 'MonitorId': 'Workload Availability_Default_Excel', 'ResponsibleTenantName': 'Office Extensibility', 'ResponsibleTenantId': 20475, 'ResponsibleTenantPublicId': '5c08e7de-c98e-4ac5-83b7-09542288b378', 'SupportTicketId': '', 'SubscriptionId': '', 'PublicPirId': None, 'OriginatingTenantName': 'Microsoft Graph Service', 'OriginatingTenantId': 20330, 'OriginatingTenantPublicId': '13052ddb-a61b-45db-b383-a8b084cdbf2d', 'SiloId': 1, 'Lens_IngestionTime': datetime.datetime(2021, 6, 22, 14, 55, 59, tzinfo=tzutc()), 'Lens_Originator': 'IcM', 'Lens_OriginatorData': '', 'Lens_SessionId': 'CO2ICMIMC04', 'Lens_BatchId': '0', 'IsOutage': None, 'Summary': '', 'OutageDeclaredDate': None, 'ResponsibleTeamName': '', 'ResponsibleTeamId': None, 'IncidentManagerContactId': '', 'CommunicationsManagerContactId': '', 'OutageImpactLevel': '', 'ExecutiveIncidentManagerContactId': '', 'Tags': '[]'}]"
      ]
     },
     "execution_count": 47,
     "metadata": {},
     "output_type": "execute_result"
    }
   ],
   "source": [
    "%%kql\n",
    "let _incidentId = incidentNo;\n",
    "cluster('icmcluster').database('IcMDataWarehouse').Incidents\n",
    "| where IncidentId == _incidentId"
   ]
  },
  {
   "cell_type": "code",
   "execution_count": 48,
   "metadata": {},
   "outputs": [
    {
     "data": {
      "text/plain": [
       "datetime.datetime(2021, 6, 22, 16, 53, 11, 573000, tzinfo=tzutc())"
      ]
     },
     "execution_count": 48,
     "metadata": {},
     "output_type": "execute_result"
    }
   ],
   "source": [
    "firstline = _kql_raw_result_[1]\n",
    "my_start_datetime=firstline[\"ImpactStartDate\"]\n",
    "my_end_datetime=my_start_datetime+timedelta(hours=2)\n",
    "my_occurring_device_group=firstline[\"OccurringDeviceGroup\"]\n",
    "my_occurring_datacenter=firstline[\"OccurringDatacenter\"]\n",
    "my_end_datetime"
   ]
  },
  {
   "cell_type": "code",
   "execution_count": 21,
   "metadata": {},
   "outputs": [],
   "source": [
    "# %kql azureDataExplorer://code;cluster='msgraphkus';database='msgraphdb' // -try_azcli_login"
   ]
  },
  {
   "cell_type": "markdown",
   "metadata": {},
   "source": [
    "## [1] [From chiz] A small amount of errors will cause S2. (Step could be skipped)\n",
    "If this is not real root cause, go on."
   ]
  },
  {
   "cell_type": "code",
   "execution_count": 49,
   "metadata": {},
   "outputs": [
    {
     "data": {
      "text/html": [
       "<html>\n",
       "        <head>\n",
       "            \n",
       "            \n",
       "        </head>\n",
       "        <body>\n",
       "            <div><p style='padding: 10px; color: #3a87ad; background-color: #d9edf7; border-color: #bce9f1'>&nbsp;*&nbsp;IcMDataWarehouse@icmcluster<br>&nbsp;&nbsp;&nbsp;msgraphdb@msgraphkus</p></div>\n",
       "        </body>\n",
       "        </html>"
      ],
      "text/plain": [
       "<IPython.core.display.HTML object>"
      ]
     },
     "metadata": {},
     "output_type": "display_data"
    },
    {
     "data": {
      "application/vnd.plotly.v1+json": {
       "config": {
        "plotlyServerURL": "https://plot.ly"
       },
       "data": [
        {
         "line": {
          "color": "rgb(31, 118, 179)",
          "width": 1
         },
         "name": "count_",
         "opacity": 0.8,
         "type": "scatter",
         "x": [
          "2021-06-22T14:50:00+00:00",
          "2021-06-22T15:00:00+00:00",
          "2021-06-22T15:10:00+00:00",
          "2021-06-22T15:20:00+00:00",
          "2021-06-22T15:30:00+00:00",
          "2021-06-22T15:40:00+00:00",
          "2021-06-22T15:50:00+00:00",
          "2021-06-22T16:00:00+00:00",
          "2021-06-22T16:10:00+00:00",
          "2021-06-22T16:20:00+00:00",
          "2021-06-22T16:30:00+00:00",
          "2021-06-22T16:40:00+00:00",
          "2021-06-22T16:50:00+00:00"
         ],
         "y": [
          1827,
          3578,
          2761,
          2768,
          2529,
          2393,
          2404,
          2931,
          6980,
          6418,
          4785,
          4073,
          1406
         ]
        },
        {
         "line": {
          "color": "rgb(254, 127, 14)",
          "width": 1
         },
         "name": "countif_",
         "opacity": 0.8,
         "type": "scatter",
         "x": [
          "2021-06-22T14:50:00+00:00",
          "2021-06-22T15:00:00+00:00",
          "2021-06-22T15:10:00+00:00",
          "2021-06-22T15:20:00+00:00",
          "2021-06-22T15:30:00+00:00",
          "2021-06-22T15:40:00+00:00",
          "2021-06-22T15:50:00+00:00",
          "2021-06-22T16:00:00+00:00",
          "2021-06-22T16:10:00+00:00",
          "2021-06-22T16:20:00+00:00",
          "2021-06-22T16:30:00+00:00",
          "2021-06-22T16:40:00+00:00",
          "2021-06-22T16:50:00+00:00"
         ],
         "y": [
          148,
          220,
          212,
          187,
          225,
          198,
          197,
          208,
          76,
          7,
          9,
          2,
          3
         ]
        }
       ],
       "layout": {
        "showlegend": true,
        "template": {
         "data": {
          "bar": [
           {
            "error_x": {
             "color": "#2a3f5f"
            },
            "error_y": {
             "color": "#2a3f5f"
            },
            "marker": {
             "line": {
              "color": "#E5ECF6",
              "width": 0.5
             }
            },
            "type": "bar"
           }
          ],
          "barpolar": [
           {
            "marker": {
             "line": {
              "color": "#E5ECF6",
              "width": 0.5
             }
            },
            "type": "barpolar"
           }
          ],
          "carpet": [
           {
            "aaxis": {
             "endlinecolor": "#2a3f5f",
             "gridcolor": "white",
             "linecolor": "white",
             "minorgridcolor": "white",
             "startlinecolor": "#2a3f5f"
            },
            "baxis": {
             "endlinecolor": "#2a3f5f",
             "gridcolor": "white",
             "linecolor": "white",
             "minorgridcolor": "white",
             "startlinecolor": "#2a3f5f"
            },
            "type": "carpet"
           }
          ],
          "choropleth": [
           {
            "colorbar": {
             "outlinewidth": 0,
             "ticks": ""
            },
            "type": "choropleth"
           }
          ],
          "contour": [
           {
            "colorbar": {
             "outlinewidth": 0,
             "ticks": ""
            },
            "colorscale": [
             [
              0,
              "#0d0887"
             ],
             [
              0.1111111111111111,
              "#46039f"
             ],
             [
              0.2222222222222222,
              "#7201a8"
             ],
             [
              0.3333333333333333,
              "#9c179e"
             ],
             [
              0.4444444444444444,
              "#bd3786"
             ],
             [
              0.5555555555555556,
              "#d8576b"
             ],
             [
              0.6666666666666666,
              "#ed7953"
             ],
             [
              0.7777777777777778,
              "#fb9f3a"
             ],
             [
              0.8888888888888888,
              "#fdca26"
             ],
             [
              1,
              "#f0f921"
             ]
            ],
            "type": "contour"
           }
          ],
          "contourcarpet": [
           {
            "colorbar": {
             "outlinewidth": 0,
             "ticks": ""
            },
            "type": "contourcarpet"
           }
          ],
          "heatmap": [
           {
            "colorbar": {
             "outlinewidth": 0,
             "ticks": ""
            },
            "colorscale": [
             [
              0,
              "#0d0887"
             ],
             [
              0.1111111111111111,
              "#46039f"
             ],
             [
              0.2222222222222222,
              "#7201a8"
             ],
             [
              0.3333333333333333,
              "#9c179e"
             ],
             [
              0.4444444444444444,
              "#bd3786"
             ],
             [
              0.5555555555555556,
              "#d8576b"
             ],
             [
              0.6666666666666666,
              "#ed7953"
             ],
             [
              0.7777777777777778,
              "#fb9f3a"
             ],
             [
              0.8888888888888888,
              "#fdca26"
             ],
             [
              1,
              "#f0f921"
             ]
            ],
            "type": "heatmap"
           }
          ],
          "heatmapgl": [
           {
            "colorbar": {
             "outlinewidth": 0,
             "ticks": ""
            },
            "colorscale": [
             [
              0,
              "#0d0887"
             ],
             [
              0.1111111111111111,
              "#46039f"
             ],
             [
              0.2222222222222222,
              "#7201a8"
             ],
             [
              0.3333333333333333,
              "#9c179e"
             ],
             [
              0.4444444444444444,
              "#bd3786"
             ],
             [
              0.5555555555555556,
              "#d8576b"
             ],
             [
              0.6666666666666666,
              "#ed7953"
             ],
             [
              0.7777777777777778,
              "#fb9f3a"
             ],
             [
              0.8888888888888888,
              "#fdca26"
             ],
             [
              1,
              "#f0f921"
             ]
            ],
            "type": "heatmapgl"
           }
          ],
          "histogram": [
           {
            "marker": {
             "colorbar": {
              "outlinewidth": 0,
              "ticks": ""
             }
            },
            "type": "histogram"
           }
          ],
          "histogram2d": [
           {
            "colorbar": {
             "outlinewidth": 0,
             "ticks": ""
            },
            "colorscale": [
             [
              0,
              "#0d0887"
             ],
             [
              0.1111111111111111,
              "#46039f"
             ],
             [
              0.2222222222222222,
              "#7201a8"
             ],
             [
              0.3333333333333333,
              "#9c179e"
             ],
             [
              0.4444444444444444,
              "#bd3786"
             ],
             [
              0.5555555555555556,
              "#d8576b"
             ],
             [
              0.6666666666666666,
              "#ed7953"
             ],
             [
              0.7777777777777778,
              "#fb9f3a"
             ],
             [
              0.8888888888888888,
              "#fdca26"
             ],
             [
              1,
              "#f0f921"
             ]
            ],
            "type": "histogram2d"
           }
          ],
          "histogram2dcontour": [
           {
            "colorbar": {
             "outlinewidth": 0,
             "ticks": ""
            },
            "colorscale": [
             [
              0,
              "#0d0887"
             ],
             [
              0.1111111111111111,
              "#46039f"
             ],
             [
              0.2222222222222222,
              "#7201a8"
             ],
             [
              0.3333333333333333,
              "#9c179e"
             ],
             [
              0.4444444444444444,
              "#bd3786"
             ],
             [
              0.5555555555555556,
              "#d8576b"
             ],
             [
              0.6666666666666666,
              "#ed7953"
             ],
             [
              0.7777777777777778,
              "#fb9f3a"
             ],
             [
              0.8888888888888888,
              "#fdca26"
             ],
             [
              1,
              "#f0f921"
             ]
            ],
            "type": "histogram2dcontour"
           }
          ],
          "mesh3d": [
           {
            "colorbar": {
             "outlinewidth": 0,
             "ticks": ""
            },
            "type": "mesh3d"
           }
          ],
          "parcoords": [
           {
            "line": {
             "colorbar": {
              "outlinewidth": 0,
              "ticks": ""
             }
            },
            "type": "parcoords"
           }
          ],
          "pie": [
           {
            "automargin": true,
            "type": "pie"
           }
          ],
          "scatter": [
           {
            "marker": {
             "colorbar": {
              "outlinewidth": 0,
              "ticks": ""
             }
            },
            "type": "scatter"
           }
          ],
          "scatter3d": [
           {
            "line": {
             "colorbar": {
              "outlinewidth": 0,
              "ticks": ""
             }
            },
            "marker": {
             "colorbar": {
              "outlinewidth": 0,
              "ticks": ""
             }
            },
            "type": "scatter3d"
           }
          ],
          "scattercarpet": [
           {
            "marker": {
             "colorbar": {
              "outlinewidth": 0,
              "ticks": ""
             }
            },
            "type": "scattercarpet"
           }
          ],
          "scattergeo": [
           {
            "marker": {
             "colorbar": {
              "outlinewidth": 0,
              "ticks": ""
             }
            },
            "type": "scattergeo"
           }
          ],
          "scattergl": [
           {
            "marker": {
             "colorbar": {
              "outlinewidth": 0,
              "ticks": ""
             }
            },
            "type": "scattergl"
           }
          ],
          "scattermapbox": [
           {
            "marker": {
             "colorbar": {
              "outlinewidth": 0,
              "ticks": ""
             }
            },
            "type": "scattermapbox"
           }
          ],
          "scatterpolar": [
           {
            "marker": {
             "colorbar": {
              "outlinewidth": 0,
              "ticks": ""
             }
            },
            "type": "scatterpolar"
           }
          ],
          "scatterpolargl": [
           {
            "marker": {
             "colorbar": {
              "outlinewidth": 0,
              "ticks": ""
             }
            },
            "type": "scatterpolargl"
           }
          ],
          "scatterternary": [
           {
            "marker": {
             "colorbar": {
              "outlinewidth": 0,
              "ticks": ""
             }
            },
            "type": "scatterternary"
           }
          ],
          "surface": [
           {
            "colorbar": {
             "outlinewidth": 0,
             "ticks": ""
            },
            "colorscale": [
             [
              0,
              "#0d0887"
             ],
             [
              0.1111111111111111,
              "#46039f"
             ],
             [
              0.2222222222222222,
              "#7201a8"
             ],
             [
              0.3333333333333333,
              "#9c179e"
             ],
             [
              0.4444444444444444,
              "#bd3786"
             ],
             [
              0.5555555555555556,
              "#d8576b"
             ],
             [
              0.6666666666666666,
              "#ed7953"
             ],
             [
              0.7777777777777778,
              "#fb9f3a"
             ],
             [
              0.8888888888888888,
              "#fdca26"
             ],
             [
              1,
              "#f0f921"
             ]
            ],
            "type": "surface"
           }
          ],
          "table": [
           {
            "cells": {
             "fill": {
              "color": "#EBF0F8"
             },
             "line": {
              "color": "white"
             }
            },
            "header": {
             "fill": {
              "color": "#C8D4E3"
             },
             "line": {
              "color": "white"
             }
            },
            "type": "table"
           }
          ]
         },
         "layout": {
          "annotationdefaults": {
           "arrowcolor": "#2a3f5f",
           "arrowhead": 0,
           "arrowwidth": 1
          },
          "autotypenumbers": "strict",
          "coloraxis": {
           "colorbar": {
            "outlinewidth": 0,
            "ticks": ""
           }
          },
          "colorscale": {
           "diverging": [
            [
             0,
             "#8e0152"
            ],
            [
             0.1,
             "#c51b7d"
            ],
            [
             0.2,
             "#de77ae"
            ],
            [
             0.3,
             "#f1b6da"
            ],
            [
             0.4,
             "#fde0ef"
            ],
            [
             0.5,
             "#f7f7f7"
            ],
            [
             0.6,
             "#e6f5d0"
            ],
            [
             0.7,
             "#b8e186"
            ],
            [
             0.8,
             "#7fbc41"
            ],
            [
             0.9,
             "#4d9221"
            ],
            [
             1,
             "#276419"
            ]
           ],
           "sequential": [
            [
             0,
             "#0d0887"
            ],
            [
             0.1111111111111111,
             "#46039f"
            ],
            [
             0.2222222222222222,
             "#7201a8"
            ],
            [
             0.3333333333333333,
             "#9c179e"
            ],
            [
             0.4444444444444444,
             "#bd3786"
            ],
            [
             0.5555555555555556,
             "#d8576b"
            ],
            [
             0.6666666666666666,
             "#ed7953"
            ],
            [
             0.7777777777777778,
             "#fb9f3a"
            ],
            [
             0.8888888888888888,
             "#fdca26"
            ],
            [
             1,
             "#f0f921"
            ]
           ],
           "sequentialminus": [
            [
             0,
             "#0d0887"
            ],
            [
             0.1111111111111111,
             "#46039f"
            ],
            [
             0.2222222222222222,
             "#7201a8"
            ],
            [
             0.3333333333333333,
             "#9c179e"
            ],
            [
             0.4444444444444444,
             "#bd3786"
            ],
            [
             0.5555555555555556,
             "#d8576b"
            ],
            [
             0.6666666666666666,
             "#ed7953"
            ],
            [
             0.7777777777777778,
             "#fb9f3a"
            ],
            [
             0.8888888888888888,
             "#fdca26"
            ],
            [
             1,
             "#f0f921"
            ]
           ]
          },
          "colorway": [
           "#636efa",
           "#EF553B",
           "#00cc96",
           "#ab63fa",
           "#FFA15A",
           "#19d3f3",
           "#FF6692",
           "#B6E880",
           "#FF97FF",
           "#FECB52"
          ],
          "font": {
           "color": "#2a3f5f"
          },
          "geo": {
           "bgcolor": "white",
           "lakecolor": "white",
           "landcolor": "#E5ECF6",
           "showlakes": true,
           "showland": true,
           "subunitcolor": "white"
          },
          "hoverlabel": {
           "align": "left"
          },
          "hovermode": "closest",
          "mapbox": {
           "style": "light"
          },
          "paper_bgcolor": "white",
          "plot_bgcolor": "#E5ECF6",
          "polar": {
           "angularaxis": {
            "gridcolor": "white",
            "linecolor": "white",
            "ticks": ""
           },
           "bgcolor": "#E5ECF6",
           "radialaxis": {
            "gridcolor": "white",
            "linecolor": "white",
            "ticks": ""
           }
          },
          "scene": {
           "xaxis": {
            "backgroundcolor": "#E5ECF6",
            "gridcolor": "white",
            "gridwidth": 2,
            "linecolor": "white",
            "showbackground": true,
            "ticks": "",
            "zerolinecolor": "white"
           },
           "yaxis": {
            "backgroundcolor": "#E5ECF6",
            "gridcolor": "white",
            "gridwidth": 2,
            "linecolor": "white",
            "showbackground": true,
            "ticks": "",
            "zerolinecolor": "white"
           },
           "zaxis": {
            "backgroundcolor": "#E5ECF6",
            "gridcolor": "white",
            "gridwidth": 2,
            "linecolor": "white",
            "showbackground": true,
            "ticks": "",
            "zerolinecolor": "white"
           }
          },
          "shapedefaults": {
           "line": {
            "color": "#2a3f5f"
           }
          },
          "ternary": {
           "aaxis": {
            "gridcolor": "white",
            "linecolor": "white",
            "ticks": ""
           },
           "baxis": {
            "gridcolor": "white",
            "linecolor": "white",
            "ticks": ""
           },
           "bgcolor": "#E5ECF6",
           "caxis": {
            "gridcolor": "white",
            "linecolor": "white",
            "ticks": ""
           }
          },
          "title": {
           "x": 0.05
          },
          "xaxis": {
           "automargin": true,
           "gridcolor": "white",
           "linecolor": "white",
           "ticks": "",
           "title": {
            "standoff": 15
           },
           "zerolinecolor": "white",
           "zerolinewidth": 2
          },
          "yaxis": {
           "automargin": true,
           "gridcolor": "white",
           "linecolor": "white",
           "ticks": "",
           "title": {
            "standoff": 15
           },
           "zerolinecolor": "white",
           "zerolinewidth": 2
          }
         }
        },
        "title": {
         "text": "timechart"
        },
        "xaxis": {
         "autorange": true,
         "title": {
          "text": "env_time"
         },
         "type": "date"
        },
        "yaxis": {
         "ticksuffix": "",
         "title": {
          "text": "count_, countif_"
         },
         "type": "linear"
        }
       }
      },
      "text/html": [
       "<div>                            <div id=\"f421ccfc-62f2-41bd-a9a3-5017a7238ea5\" class=\"plotly-graph-div\" style=\"height:525px; width:100%;\"></div>            <script type=\"text/javascript\">                require([\"plotly\"], function(Plotly) {                    window.PLOTLYENV=window.PLOTLYENV || {};                                    if (document.getElementById(\"f421ccfc-62f2-41bd-a9a3-5017a7238ea5\")) {                    Plotly.newPlot(                        \"f421ccfc-62f2-41bd-a9a3-5017a7238ea5\",                        [{\"line\": {\"color\": \"rgb(31, 118, 179)\", \"width\": 1}, \"name\": \"count_\", \"opacity\": 0.8, \"type\": \"scatter\", \"x\": [\"2021-06-22T14:50:00+00:00\", \"2021-06-22T15:00:00+00:00\", \"2021-06-22T15:10:00+00:00\", \"2021-06-22T15:20:00+00:00\", \"2021-06-22T15:30:00+00:00\", \"2021-06-22T15:40:00+00:00\", \"2021-06-22T15:50:00+00:00\", \"2021-06-22T16:00:00+00:00\", \"2021-06-22T16:10:00+00:00\", \"2021-06-22T16:20:00+00:00\", \"2021-06-22T16:30:00+00:00\", \"2021-06-22T16:40:00+00:00\", \"2021-06-22T16:50:00+00:00\"], \"y\": [1827, 3578, 2761, 2768, 2529, 2393, 2404, 2931, 6980, 6418, 4785, 4073, 1406]}, {\"line\": {\"color\": \"rgb(254, 127, 14)\", \"width\": 1}, \"name\": \"countif_\", \"opacity\": 0.8, \"type\": \"scatter\", \"x\": [\"2021-06-22T14:50:00+00:00\", \"2021-06-22T15:00:00+00:00\", \"2021-06-22T15:10:00+00:00\", \"2021-06-22T15:20:00+00:00\", \"2021-06-22T15:30:00+00:00\", \"2021-06-22T15:40:00+00:00\", \"2021-06-22T15:50:00+00:00\", \"2021-06-22T16:00:00+00:00\", \"2021-06-22T16:10:00+00:00\", \"2021-06-22T16:20:00+00:00\", \"2021-06-22T16:30:00+00:00\", \"2021-06-22T16:40:00+00:00\", \"2021-06-22T16:50:00+00:00\"], \"y\": [148, 220, 212, 187, 225, 198, 197, 208, 76, 7, 9, 2, 3]}],                        {\"showlegend\": true, \"template\": {\"data\": {\"bar\": [{\"error_x\": {\"color\": \"#2a3f5f\"}, \"error_y\": {\"color\": \"#2a3f5f\"}, \"marker\": {\"line\": {\"color\": \"#E5ECF6\", \"width\": 0.5}}, \"type\": \"bar\"}], \"barpolar\": [{\"marker\": {\"line\": {\"color\": \"#E5ECF6\", \"width\": 0.5}}, \"type\": \"barpolar\"}], \"carpet\": [{\"aaxis\": {\"endlinecolor\": \"#2a3f5f\", \"gridcolor\": \"white\", \"linecolor\": \"white\", \"minorgridcolor\": \"white\", \"startlinecolor\": \"#2a3f5f\"}, \"baxis\": {\"endlinecolor\": \"#2a3f5f\", \"gridcolor\": \"white\", \"linecolor\": \"white\", \"minorgridcolor\": \"white\", \"startlinecolor\": \"#2a3f5f\"}, \"type\": \"carpet\"}], \"choropleth\": [{\"colorbar\": {\"outlinewidth\": 0, \"ticks\": \"\"}, \"type\": \"choropleth\"}], \"contour\": [{\"colorbar\": {\"outlinewidth\": 0, \"ticks\": \"\"}, \"colorscale\": [[0.0, \"#0d0887\"], [0.1111111111111111, \"#46039f\"], [0.2222222222222222, \"#7201a8\"], [0.3333333333333333, \"#9c179e\"], [0.4444444444444444, \"#bd3786\"], [0.5555555555555556, \"#d8576b\"], [0.6666666666666666, \"#ed7953\"], [0.7777777777777778, \"#fb9f3a\"], [0.8888888888888888, \"#fdca26\"], [1.0, \"#f0f921\"]], \"type\": \"contour\"}], \"contourcarpet\": [{\"colorbar\": {\"outlinewidth\": 0, \"ticks\": \"\"}, \"type\": \"contourcarpet\"}], \"heatmap\": [{\"colorbar\": {\"outlinewidth\": 0, \"ticks\": \"\"}, \"colorscale\": [[0.0, \"#0d0887\"], [0.1111111111111111, \"#46039f\"], [0.2222222222222222, \"#7201a8\"], [0.3333333333333333, \"#9c179e\"], [0.4444444444444444, \"#bd3786\"], [0.5555555555555556, \"#d8576b\"], [0.6666666666666666, \"#ed7953\"], [0.7777777777777778, \"#fb9f3a\"], [0.8888888888888888, \"#fdca26\"], [1.0, \"#f0f921\"]], \"type\": \"heatmap\"}], \"heatmapgl\": [{\"colorbar\": {\"outlinewidth\": 0, \"ticks\": \"\"}, \"colorscale\": [[0.0, \"#0d0887\"], [0.1111111111111111, \"#46039f\"], [0.2222222222222222, \"#7201a8\"], [0.3333333333333333, \"#9c179e\"], [0.4444444444444444, \"#bd3786\"], [0.5555555555555556, \"#d8576b\"], [0.6666666666666666, \"#ed7953\"], [0.7777777777777778, \"#fb9f3a\"], [0.8888888888888888, \"#fdca26\"], [1.0, \"#f0f921\"]], \"type\": \"heatmapgl\"}], \"histogram\": [{\"marker\": {\"colorbar\": {\"outlinewidth\": 0, \"ticks\": \"\"}}, \"type\": \"histogram\"}], \"histogram2d\": [{\"colorbar\": {\"outlinewidth\": 0, \"ticks\": \"\"}, \"colorscale\": [[0.0, \"#0d0887\"], [0.1111111111111111, \"#46039f\"], [0.2222222222222222, \"#7201a8\"], [0.3333333333333333, \"#9c179e\"], [0.4444444444444444, \"#bd3786\"], [0.5555555555555556, \"#d8576b\"], [0.6666666666666666, \"#ed7953\"], [0.7777777777777778, \"#fb9f3a\"], [0.8888888888888888, \"#fdca26\"], [1.0, \"#f0f921\"]], \"type\": \"histogram2d\"}], \"histogram2dcontour\": [{\"colorbar\": {\"outlinewidth\": 0, \"ticks\": \"\"}, \"colorscale\": [[0.0, \"#0d0887\"], [0.1111111111111111, \"#46039f\"], [0.2222222222222222, \"#7201a8\"], [0.3333333333333333, \"#9c179e\"], [0.4444444444444444, \"#bd3786\"], [0.5555555555555556, \"#d8576b\"], [0.6666666666666666, \"#ed7953\"], [0.7777777777777778, \"#fb9f3a\"], [0.8888888888888888, \"#fdca26\"], [1.0, \"#f0f921\"]], \"type\": \"histogram2dcontour\"}], \"mesh3d\": [{\"colorbar\": {\"outlinewidth\": 0, \"ticks\": \"\"}, \"type\": \"mesh3d\"}], \"parcoords\": [{\"line\": {\"colorbar\": {\"outlinewidth\": 0, \"ticks\": \"\"}}, \"type\": \"parcoords\"}], \"pie\": [{\"automargin\": true, \"type\": \"pie\"}], \"scatter\": [{\"marker\": {\"colorbar\": {\"outlinewidth\": 0, \"ticks\": \"\"}}, \"type\": \"scatter\"}], \"scatter3d\": [{\"line\": {\"colorbar\": {\"outlinewidth\": 0, \"ticks\": \"\"}}, \"marker\": {\"colorbar\": {\"outlinewidth\": 0, \"ticks\": \"\"}}, \"type\": \"scatter3d\"}], \"scattercarpet\": [{\"marker\": {\"colorbar\": {\"outlinewidth\": 0, \"ticks\": \"\"}}, \"type\": \"scattercarpet\"}], \"scattergeo\": [{\"marker\": {\"colorbar\": {\"outlinewidth\": 0, \"ticks\": \"\"}}, \"type\": \"scattergeo\"}], \"scattergl\": [{\"marker\": {\"colorbar\": {\"outlinewidth\": 0, \"ticks\": \"\"}}, \"type\": \"scattergl\"}], \"scattermapbox\": [{\"marker\": {\"colorbar\": {\"outlinewidth\": 0, \"ticks\": \"\"}}, \"type\": \"scattermapbox\"}], \"scatterpolar\": [{\"marker\": {\"colorbar\": {\"outlinewidth\": 0, \"ticks\": \"\"}}, \"type\": \"scatterpolar\"}], \"scatterpolargl\": [{\"marker\": {\"colorbar\": {\"outlinewidth\": 0, \"ticks\": \"\"}}, \"type\": \"scatterpolargl\"}], \"scatterternary\": [{\"marker\": {\"colorbar\": {\"outlinewidth\": 0, \"ticks\": \"\"}}, \"type\": \"scatterternary\"}], \"surface\": [{\"colorbar\": {\"outlinewidth\": 0, \"ticks\": \"\"}, \"colorscale\": [[0.0, \"#0d0887\"], [0.1111111111111111, \"#46039f\"], [0.2222222222222222, \"#7201a8\"], [0.3333333333333333, \"#9c179e\"], [0.4444444444444444, \"#bd3786\"], [0.5555555555555556, \"#d8576b\"], [0.6666666666666666, \"#ed7953\"], [0.7777777777777778, \"#fb9f3a\"], [0.8888888888888888, \"#fdca26\"], [1.0, \"#f0f921\"]], \"type\": \"surface\"}], \"table\": [{\"cells\": {\"fill\": {\"color\": \"#EBF0F8\"}, \"line\": {\"color\": \"white\"}}, \"header\": {\"fill\": {\"color\": \"#C8D4E3\"}, \"line\": {\"color\": \"white\"}}, \"type\": \"table\"}]}, \"layout\": {\"annotationdefaults\": {\"arrowcolor\": \"#2a3f5f\", \"arrowhead\": 0, \"arrowwidth\": 1}, \"autotypenumbers\": \"strict\", \"coloraxis\": {\"colorbar\": {\"outlinewidth\": 0, \"ticks\": \"\"}}, \"colorscale\": {\"diverging\": [[0, \"#8e0152\"], [0.1, \"#c51b7d\"], [0.2, \"#de77ae\"], [0.3, \"#f1b6da\"], [0.4, \"#fde0ef\"], [0.5, \"#f7f7f7\"], [0.6, \"#e6f5d0\"], [0.7, \"#b8e186\"], [0.8, \"#7fbc41\"], [0.9, \"#4d9221\"], [1, \"#276419\"]], \"sequential\": [[0.0, \"#0d0887\"], [0.1111111111111111, \"#46039f\"], [0.2222222222222222, \"#7201a8\"], [0.3333333333333333, \"#9c179e\"], [0.4444444444444444, \"#bd3786\"], [0.5555555555555556, \"#d8576b\"], [0.6666666666666666, \"#ed7953\"], [0.7777777777777778, \"#fb9f3a\"], [0.8888888888888888, \"#fdca26\"], [1.0, \"#f0f921\"]], \"sequentialminus\": [[0.0, \"#0d0887\"], [0.1111111111111111, \"#46039f\"], [0.2222222222222222, \"#7201a8\"], [0.3333333333333333, \"#9c179e\"], [0.4444444444444444, \"#bd3786\"], [0.5555555555555556, \"#d8576b\"], [0.6666666666666666, \"#ed7953\"], [0.7777777777777778, \"#fb9f3a\"], [0.8888888888888888, \"#fdca26\"], [1.0, \"#f0f921\"]]}, \"colorway\": [\"#636efa\", \"#EF553B\", \"#00cc96\", \"#ab63fa\", \"#FFA15A\", \"#19d3f3\", \"#FF6692\", \"#B6E880\", \"#FF97FF\", \"#FECB52\"], \"font\": {\"color\": \"#2a3f5f\"}, \"geo\": {\"bgcolor\": \"white\", \"lakecolor\": \"white\", \"landcolor\": \"#E5ECF6\", \"showlakes\": true, \"showland\": true, \"subunitcolor\": \"white\"}, \"hoverlabel\": {\"align\": \"left\"}, \"hovermode\": \"closest\", \"mapbox\": {\"style\": \"light\"}, \"paper_bgcolor\": \"white\", \"plot_bgcolor\": \"#E5ECF6\", \"polar\": {\"angularaxis\": {\"gridcolor\": \"white\", \"linecolor\": \"white\", \"ticks\": \"\"}, \"bgcolor\": \"#E5ECF6\", \"radialaxis\": {\"gridcolor\": \"white\", \"linecolor\": \"white\", \"ticks\": \"\"}}, \"scene\": {\"xaxis\": {\"backgroundcolor\": \"#E5ECF6\", \"gridcolor\": \"white\", \"gridwidth\": 2, \"linecolor\": \"white\", \"showbackground\": true, \"ticks\": \"\", \"zerolinecolor\": \"white\"}, \"yaxis\": {\"backgroundcolor\": \"#E5ECF6\", \"gridcolor\": \"white\", \"gridwidth\": 2, \"linecolor\": \"white\", \"showbackground\": true, \"ticks\": \"\", \"zerolinecolor\": \"white\"}, \"zaxis\": {\"backgroundcolor\": \"#E5ECF6\", \"gridcolor\": \"white\", \"gridwidth\": 2, \"linecolor\": \"white\", \"showbackground\": true, \"ticks\": \"\", \"zerolinecolor\": \"white\"}}, \"shapedefaults\": {\"line\": {\"color\": \"#2a3f5f\"}}, \"ternary\": {\"aaxis\": {\"gridcolor\": \"white\", \"linecolor\": \"white\", \"ticks\": \"\"}, \"baxis\": {\"gridcolor\": \"white\", \"linecolor\": \"white\", \"ticks\": \"\"}, \"bgcolor\": \"#E5ECF6\", \"caxis\": {\"gridcolor\": \"white\", \"linecolor\": \"white\", \"ticks\": \"\"}}, \"title\": {\"x\": 0.05}, \"xaxis\": {\"automargin\": true, \"gridcolor\": \"white\", \"linecolor\": \"white\", \"ticks\": \"\", \"title\": {\"standoff\": 15}, \"zerolinecolor\": \"white\", \"zerolinewidth\": 2}, \"yaxis\": {\"automargin\": true, \"gridcolor\": \"white\", \"linecolor\": \"white\", \"ticks\": \"\", \"title\": {\"standoff\": 15}, \"zerolinecolor\": \"white\", \"zerolinewidth\": 2}}}, \"title\": {\"text\": \"timechart\"}, \"xaxis\": {\"autorange\": true, \"title\": {\"text\": \"env_time\"}, \"type\": \"date\"}, \"yaxis\": {\"ticksuffix\": \"\", \"title\": {\"text\": \"count_, countif_\"}, \"type\": \"linear\"}},                        {\"responsive\": true}                    ).then(function(){\n",
       "                            \n",
       "var gd = document.getElementById('f421ccfc-62f2-41bd-a9a3-5017a7238ea5');\n",
       "var x = new MutationObserver(function (mutations, observer) {{\n",
       "        var display = window.getComputedStyle(gd).display;\n",
       "        if (!display || display === 'none') {{\n",
       "            console.log([gd, 'removed!']);\n",
       "            Plotly.purge(gd);\n",
       "            observer.disconnect();\n",
       "        }}\n",
       "}});\n",
       "\n",
       "// Listen for the removal of the full notebook cells\n",
       "var notebookContainer = gd.closest('#notebook-container');\n",
       "if (notebookContainer) {{\n",
       "    x.observe(notebookContainer, {childList: true});\n",
       "}}\n",
       "\n",
       "// Listen for the clearing of the current output cell\n",
       "var outputEl = gd.closest('.output');\n",
       "if (outputEl) {{\n",
       "    x.observe(outputEl, {childList: true});\n",
       "}}\n",
       "\n",
       "                        })                };                });            </script>        </div>"
      ]
     },
     "metadata": {},
     "output_type": "display_data"
    },
    {
     "data": {
      "text/html": [
       "<html>\n",
       "        <head>\n",
       "            \n",
       "            \n",
       "        </head>\n",
       "        <body>\n",
       "            <div><p style='padding: 10px; color: #3a87ad; background-color: #d9edf7; border-color: #bce9f1'>Done&nbsp;(00:06.018):&nbsp;13&nbsp;records</p></div>\n",
       "        </body>\n",
       "        </html>"
      ],
      "text/plain": [
       "<IPython.core.display.HTML object>"
      ]
     },
     "metadata": {},
     "output_type": "display_data"
    },
    {
     "data": {
      "text/html": [],
      "text/plain": [
       "[{'env_time': datetime.datetime(2021, 6, 22, 15, 10, tzinfo=tzutc()), 'count_': 2761, 'countif_': 212},\n",
       " {'env_time': datetime.datetime(2021, 6, 22, 14, 50, tzinfo=tzutc()), 'count_': 1827, 'countif_': 148},\n",
       " {'env_time': datetime.datetime(2021, 6, 22, 16, 20, tzinfo=tzutc()), 'count_': 6418, 'countif_': 7},\n",
       " {'env_time': datetime.datetime(2021, 6, 22, 16, 50, tzinfo=tzutc()), 'count_': 1406, 'countif_': 3},\n",
       " {'env_time': datetime.datetime(2021, 6, 22, 15, 20, tzinfo=tzutc()), 'count_': 2768, 'countif_': 187},\n",
       " {'env_time': datetime.datetime(2021, 6, 22, 16, 30, tzinfo=tzutc()), 'count_': 4785, 'countif_': 9},\n",
       " {'env_time': datetime.datetime(2021, 6, 22, 15, 40, tzinfo=tzutc()), 'count_': 2393, 'countif_': 198},\n",
       " {'env_time': datetime.datetime(2021, 6, 22, 16, 40, tzinfo=tzutc()), 'count_': 4073, 'countif_': 2},\n",
       " {'env_time': datetime.datetime(2021, 6, 22, 16, 10, tzinfo=tzutc()), 'count_': 6980, 'countif_': 76},\n",
       " {'env_time': datetime.datetime(2021, 6, 22, 15, 50, tzinfo=tzutc()), 'count_': 2404, 'countif_': 197},\n",
       " {'env_time': datetime.datetime(2021, 6, 22, 16, 0, tzinfo=tzutc()), 'count_': 2931, 'countif_': 208},\n",
       " {'env_time': datetime.datetime(2021, 6, 22, 15, 30, tzinfo=tzutc()), 'count_': 2529, 'countif_': 225},\n",
       " {'env_time': datetime.datetime(2021, 6, 22, 15, 0, tzinfo=tzutc()), 'count_': 3578, 'countif_': 220}]"
      ]
     },
     "execution_count": 49,
     "metadata": {},
     "output_type": "execute_result"
    }
   ],
   "source": [
    "%%kql\n",
    "    let _start_datetime=my_start_datetime;\n",
    "    let _end_datetime=my_end_datetime;\n",
    "    let _occurring_device_group=my_occurring_device_group;\n",
    "    let _occurring_datacenter=my_occurring_datacenter;\n",
    "    cluster(\"msgraphkus\").database(\"msgraphdb\").GlobalAggregatorServiceLogEvent\n",
    "    | where env_time >= _start_datetime and env_time < _end_datetime \n",
    "    | where env_cloud_location == _occurring_datacenter and accountType == _occurring_device_group \n",
    "    | where trafficType == \"Customer\" and tagId == \"30676F66\" and targetWorkloadId == \"Microsoft.Excel\"\n",
    "    | summarize count(), countif(responseStatusCode in (500, 502, 503, 504)) by bin(env_time, 10min)\n",
    "    | render timechart"
   ]
  },
  {
   "cell_type": "markdown",
   "metadata": {},
   "source": [
    "# [2] Check the errors for 500, 502, 503, 504\n",
    "* They are pre-requisites for the following steps"
   ]
  },
  {
   "cell_type": "code",
   "execution_count": 50,
   "metadata": {},
   "outputs": [
    {
     "data": {
      "text/html": [
       "<html>\n",
       "        <head>\n",
       "            \n",
       "            \n",
       "        </head>\n",
       "        <body>\n",
       "            <div><p style='padding: 10px; color: #3a87ad; background-color: #d9edf7; border-color: #bce9f1'>&nbsp;*&nbsp;IcMDataWarehouse@icmcluster<br>&nbsp;&nbsp;&nbsp;msgraphdb@msgraphkus</p></div>\n",
       "        </body>\n",
       "        </html>"
      ],
      "text/plain": [
       "<IPython.core.display.HTML object>"
      ]
     },
     "metadata": {},
     "output_type": "display_data"
    },
    {
     "data": {
      "application/vnd.plotly.v1+json": {
       "config": {
        "plotlyServerURL": "https://plot.ly"
       },
       "data": [
        {
         "line": {
          "color": "rgb(31, 118, 179)",
          "width": 1
         },
         "name": "504:count_",
         "opacity": 0.8,
         "type": "scatter",
         "x": [
          "2021-06-22T14:50:00+00:00",
          "2021-06-22T15:00:00+00:00",
          "2021-06-22T15:10:00+00:00",
          "2021-06-22T15:20:00+00:00",
          "2021-06-22T15:30:00+00:00",
          "2021-06-22T15:40:00+00:00",
          "2021-06-22T15:50:00+00:00",
          "2021-06-22T16:00:00+00:00",
          "2021-06-22T16:10:00+00:00",
          "2021-06-22T16:20:00+00:00",
          "2021-06-22T16:30:00+00:00",
          "2021-06-22T16:40:00+00:00",
          "2021-06-22T16:50:00+00:00"
         ],
         "y": [
          127,
          196,
          187,
          174,
          189,
          175,
          178,
          179,
          75,
          7,
          8,
          2,
          null
         ]
        },
        {
         "line": {
          "color": "rgb(254, 127, 14)",
          "width": 1
         },
         "name": "500:count_",
         "opacity": 0.8,
         "type": "scatter",
         "x": [
          "2021-06-22T14:50:00+00:00",
          "2021-06-22T15:00:00+00:00",
          "2021-06-22T15:10:00+00:00",
          "2021-06-22T15:20:00+00:00",
          "2021-06-22T15:30:00+00:00",
          "2021-06-22T15:40:00+00:00",
          "2021-06-22T15:50:00+00:00",
          "2021-06-22T16:00:00+00:00",
          "2021-06-22T16:10:00+00:00",
          "2021-06-22T16:20:00+00:00",
          "2021-06-22T16:30:00+00:00",
          "2021-06-22T16:40:00+00:00",
          "2021-06-22T16:50:00+00:00"
         ],
         "y": [
          3,
          null,
          1,
          null,
          null,
          2,
          null,
          3,
          null,
          null,
          1,
          null,
          null
         ]
        },
        {
         "line": {
          "color": "rgb(44, 160, 44)",
          "width": 1
         },
         "name": "502:count_",
         "opacity": 0.8,
         "type": "scatter",
         "x": [
          "2021-06-22T14:50:00+00:00",
          "2021-06-22T15:00:00+00:00",
          "2021-06-22T15:10:00+00:00",
          "2021-06-22T15:20:00+00:00",
          "2021-06-22T15:30:00+00:00",
          "2021-06-22T15:40:00+00:00",
          "2021-06-22T15:50:00+00:00",
          "2021-06-22T16:00:00+00:00",
          "2021-06-22T16:10:00+00:00",
          "2021-06-22T16:20:00+00:00",
          "2021-06-22T16:30:00+00:00",
          "2021-06-22T16:40:00+00:00",
          "2021-06-22T16:50:00+00:00"
         ],
         "y": [
          17,
          24,
          22,
          13,
          34,
          21,
          17,
          26,
          1,
          null,
          null,
          null,
          null
         ]
        },
        {
         "line": {
          "color": "rgb(214, 39, 39)",
          "width": 1
         },
         "name": "503:count_",
         "opacity": 0.8,
         "type": "scatter",
         "x": [
          "2021-06-22T14:50:00+00:00",
          "2021-06-22T15:00:00+00:00",
          "2021-06-22T15:10:00+00:00",
          "2021-06-22T15:20:00+00:00",
          "2021-06-22T15:30:00+00:00",
          "2021-06-22T15:40:00+00:00",
          "2021-06-22T15:50:00+00:00",
          "2021-06-22T16:00:00+00:00",
          "2021-06-22T16:10:00+00:00",
          "2021-06-22T16:20:00+00:00",
          "2021-06-22T16:30:00+00:00",
          "2021-06-22T16:40:00+00:00",
          "2021-06-22T16:50:00+00:00"
         ],
         "y": [
          1,
          null,
          2,
          null,
          2,
          null,
          2,
          null,
          null,
          null,
          null,
          null,
          3
         ]
        },
        {
         "line": {
          "color": "rgb(147, 102, 189)",
          "width": 1
         },
         "name": "501:count_",
         "opacity": 0.8,
         "type": "scatter",
         "x": [
          "2021-06-22T14:50:00+00:00",
          "2021-06-22T15:00:00+00:00",
          "2021-06-22T15:10:00+00:00",
          "2021-06-22T15:20:00+00:00",
          "2021-06-22T15:30:00+00:00",
          "2021-06-22T15:40:00+00:00",
          "2021-06-22T15:50:00+00:00",
          "2021-06-22T16:00:00+00:00",
          "2021-06-22T16:10:00+00:00",
          "2021-06-22T16:20:00+00:00",
          "2021-06-22T16:30:00+00:00",
          "2021-06-22T16:40:00+00:00",
          "2021-06-22T16:50:00+00:00"
         ],
         "y": [
          null,
          null,
          null,
          null,
          null,
          null,
          null,
          1,
          1,
          null,
          null,
          2,
          null
         ]
        }
       ],
       "layout": {
        "showlegend": true,
        "template": {
         "data": {
          "bar": [
           {
            "error_x": {
             "color": "#2a3f5f"
            },
            "error_y": {
             "color": "#2a3f5f"
            },
            "marker": {
             "line": {
              "color": "#E5ECF6",
              "width": 0.5
             }
            },
            "type": "bar"
           }
          ],
          "barpolar": [
           {
            "marker": {
             "line": {
              "color": "#E5ECF6",
              "width": 0.5
             }
            },
            "type": "barpolar"
           }
          ],
          "carpet": [
           {
            "aaxis": {
             "endlinecolor": "#2a3f5f",
             "gridcolor": "white",
             "linecolor": "white",
             "minorgridcolor": "white",
             "startlinecolor": "#2a3f5f"
            },
            "baxis": {
             "endlinecolor": "#2a3f5f",
             "gridcolor": "white",
             "linecolor": "white",
             "minorgridcolor": "white",
             "startlinecolor": "#2a3f5f"
            },
            "type": "carpet"
           }
          ],
          "choropleth": [
           {
            "colorbar": {
             "outlinewidth": 0,
             "ticks": ""
            },
            "type": "choropleth"
           }
          ],
          "contour": [
           {
            "colorbar": {
             "outlinewidth": 0,
             "ticks": ""
            },
            "colorscale": [
             [
              0,
              "#0d0887"
             ],
             [
              0.1111111111111111,
              "#46039f"
             ],
             [
              0.2222222222222222,
              "#7201a8"
             ],
             [
              0.3333333333333333,
              "#9c179e"
             ],
             [
              0.4444444444444444,
              "#bd3786"
             ],
             [
              0.5555555555555556,
              "#d8576b"
             ],
             [
              0.6666666666666666,
              "#ed7953"
             ],
             [
              0.7777777777777778,
              "#fb9f3a"
             ],
             [
              0.8888888888888888,
              "#fdca26"
             ],
             [
              1,
              "#f0f921"
             ]
            ],
            "type": "contour"
           }
          ],
          "contourcarpet": [
           {
            "colorbar": {
             "outlinewidth": 0,
             "ticks": ""
            },
            "type": "contourcarpet"
           }
          ],
          "heatmap": [
           {
            "colorbar": {
             "outlinewidth": 0,
             "ticks": ""
            },
            "colorscale": [
             [
              0,
              "#0d0887"
             ],
             [
              0.1111111111111111,
              "#46039f"
             ],
             [
              0.2222222222222222,
              "#7201a8"
             ],
             [
              0.3333333333333333,
              "#9c179e"
             ],
             [
              0.4444444444444444,
              "#bd3786"
             ],
             [
              0.5555555555555556,
              "#d8576b"
             ],
             [
              0.6666666666666666,
              "#ed7953"
             ],
             [
              0.7777777777777778,
              "#fb9f3a"
             ],
             [
              0.8888888888888888,
              "#fdca26"
             ],
             [
              1,
              "#f0f921"
             ]
            ],
            "type": "heatmap"
           }
          ],
          "heatmapgl": [
           {
            "colorbar": {
             "outlinewidth": 0,
             "ticks": ""
            },
            "colorscale": [
             [
              0,
              "#0d0887"
             ],
             [
              0.1111111111111111,
              "#46039f"
             ],
             [
              0.2222222222222222,
              "#7201a8"
             ],
             [
              0.3333333333333333,
              "#9c179e"
             ],
             [
              0.4444444444444444,
              "#bd3786"
             ],
             [
              0.5555555555555556,
              "#d8576b"
             ],
             [
              0.6666666666666666,
              "#ed7953"
             ],
             [
              0.7777777777777778,
              "#fb9f3a"
             ],
             [
              0.8888888888888888,
              "#fdca26"
             ],
             [
              1,
              "#f0f921"
             ]
            ],
            "type": "heatmapgl"
           }
          ],
          "histogram": [
           {
            "marker": {
             "colorbar": {
              "outlinewidth": 0,
              "ticks": ""
             }
            },
            "type": "histogram"
           }
          ],
          "histogram2d": [
           {
            "colorbar": {
             "outlinewidth": 0,
             "ticks": ""
            },
            "colorscale": [
             [
              0,
              "#0d0887"
             ],
             [
              0.1111111111111111,
              "#46039f"
             ],
             [
              0.2222222222222222,
              "#7201a8"
             ],
             [
              0.3333333333333333,
              "#9c179e"
             ],
             [
              0.4444444444444444,
              "#bd3786"
             ],
             [
              0.5555555555555556,
              "#d8576b"
             ],
             [
              0.6666666666666666,
              "#ed7953"
             ],
             [
              0.7777777777777778,
              "#fb9f3a"
             ],
             [
              0.8888888888888888,
              "#fdca26"
             ],
             [
              1,
              "#f0f921"
             ]
            ],
            "type": "histogram2d"
           }
          ],
          "histogram2dcontour": [
           {
            "colorbar": {
             "outlinewidth": 0,
             "ticks": ""
            },
            "colorscale": [
             [
              0,
              "#0d0887"
             ],
             [
              0.1111111111111111,
              "#46039f"
             ],
             [
              0.2222222222222222,
              "#7201a8"
             ],
             [
              0.3333333333333333,
              "#9c179e"
             ],
             [
              0.4444444444444444,
              "#bd3786"
             ],
             [
              0.5555555555555556,
              "#d8576b"
             ],
             [
              0.6666666666666666,
              "#ed7953"
             ],
             [
              0.7777777777777778,
              "#fb9f3a"
             ],
             [
              0.8888888888888888,
              "#fdca26"
             ],
             [
              1,
              "#f0f921"
             ]
            ],
            "type": "histogram2dcontour"
           }
          ],
          "mesh3d": [
           {
            "colorbar": {
             "outlinewidth": 0,
             "ticks": ""
            },
            "type": "mesh3d"
           }
          ],
          "parcoords": [
           {
            "line": {
             "colorbar": {
              "outlinewidth": 0,
              "ticks": ""
             }
            },
            "type": "parcoords"
           }
          ],
          "pie": [
           {
            "automargin": true,
            "type": "pie"
           }
          ],
          "scatter": [
           {
            "marker": {
             "colorbar": {
              "outlinewidth": 0,
              "ticks": ""
             }
            },
            "type": "scatter"
           }
          ],
          "scatter3d": [
           {
            "line": {
             "colorbar": {
              "outlinewidth": 0,
              "ticks": ""
             }
            },
            "marker": {
             "colorbar": {
              "outlinewidth": 0,
              "ticks": ""
             }
            },
            "type": "scatter3d"
           }
          ],
          "scattercarpet": [
           {
            "marker": {
             "colorbar": {
              "outlinewidth": 0,
              "ticks": ""
             }
            },
            "type": "scattercarpet"
           }
          ],
          "scattergeo": [
           {
            "marker": {
             "colorbar": {
              "outlinewidth": 0,
              "ticks": ""
             }
            },
            "type": "scattergeo"
           }
          ],
          "scattergl": [
           {
            "marker": {
             "colorbar": {
              "outlinewidth": 0,
              "ticks": ""
             }
            },
            "type": "scattergl"
           }
          ],
          "scattermapbox": [
           {
            "marker": {
             "colorbar": {
              "outlinewidth": 0,
              "ticks": ""
             }
            },
            "type": "scattermapbox"
           }
          ],
          "scatterpolar": [
           {
            "marker": {
             "colorbar": {
              "outlinewidth": 0,
              "ticks": ""
             }
            },
            "type": "scatterpolar"
           }
          ],
          "scatterpolargl": [
           {
            "marker": {
             "colorbar": {
              "outlinewidth": 0,
              "ticks": ""
             }
            },
            "type": "scatterpolargl"
           }
          ],
          "scatterternary": [
           {
            "marker": {
             "colorbar": {
              "outlinewidth": 0,
              "ticks": ""
             }
            },
            "type": "scatterternary"
           }
          ],
          "surface": [
           {
            "colorbar": {
             "outlinewidth": 0,
             "ticks": ""
            },
            "colorscale": [
             [
              0,
              "#0d0887"
             ],
             [
              0.1111111111111111,
              "#46039f"
             ],
             [
              0.2222222222222222,
              "#7201a8"
             ],
             [
              0.3333333333333333,
              "#9c179e"
             ],
             [
              0.4444444444444444,
              "#bd3786"
             ],
             [
              0.5555555555555556,
              "#d8576b"
             ],
             [
              0.6666666666666666,
              "#ed7953"
             ],
             [
              0.7777777777777778,
              "#fb9f3a"
             ],
             [
              0.8888888888888888,
              "#fdca26"
             ],
             [
              1,
              "#f0f921"
             ]
            ],
            "type": "surface"
           }
          ],
          "table": [
           {
            "cells": {
             "fill": {
              "color": "#EBF0F8"
             },
             "line": {
              "color": "white"
             }
            },
            "header": {
             "fill": {
              "color": "#C8D4E3"
             },
             "line": {
              "color": "white"
             }
            },
            "type": "table"
           }
          ]
         },
         "layout": {
          "annotationdefaults": {
           "arrowcolor": "#2a3f5f",
           "arrowhead": 0,
           "arrowwidth": 1
          },
          "autotypenumbers": "strict",
          "coloraxis": {
           "colorbar": {
            "outlinewidth": 0,
            "ticks": ""
           }
          },
          "colorscale": {
           "diverging": [
            [
             0,
             "#8e0152"
            ],
            [
             0.1,
             "#c51b7d"
            ],
            [
             0.2,
             "#de77ae"
            ],
            [
             0.3,
             "#f1b6da"
            ],
            [
             0.4,
             "#fde0ef"
            ],
            [
             0.5,
             "#f7f7f7"
            ],
            [
             0.6,
             "#e6f5d0"
            ],
            [
             0.7,
             "#b8e186"
            ],
            [
             0.8,
             "#7fbc41"
            ],
            [
             0.9,
             "#4d9221"
            ],
            [
             1,
             "#276419"
            ]
           ],
           "sequential": [
            [
             0,
             "#0d0887"
            ],
            [
             0.1111111111111111,
             "#46039f"
            ],
            [
             0.2222222222222222,
             "#7201a8"
            ],
            [
             0.3333333333333333,
             "#9c179e"
            ],
            [
             0.4444444444444444,
             "#bd3786"
            ],
            [
             0.5555555555555556,
             "#d8576b"
            ],
            [
             0.6666666666666666,
             "#ed7953"
            ],
            [
             0.7777777777777778,
             "#fb9f3a"
            ],
            [
             0.8888888888888888,
             "#fdca26"
            ],
            [
             1,
             "#f0f921"
            ]
           ],
           "sequentialminus": [
            [
             0,
             "#0d0887"
            ],
            [
             0.1111111111111111,
             "#46039f"
            ],
            [
             0.2222222222222222,
             "#7201a8"
            ],
            [
             0.3333333333333333,
             "#9c179e"
            ],
            [
             0.4444444444444444,
             "#bd3786"
            ],
            [
             0.5555555555555556,
             "#d8576b"
            ],
            [
             0.6666666666666666,
             "#ed7953"
            ],
            [
             0.7777777777777778,
             "#fb9f3a"
            ],
            [
             0.8888888888888888,
             "#fdca26"
            ],
            [
             1,
             "#f0f921"
            ]
           ]
          },
          "colorway": [
           "#636efa",
           "#EF553B",
           "#00cc96",
           "#ab63fa",
           "#FFA15A",
           "#19d3f3",
           "#FF6692",
           "#B6E880",
           "#FF97FF",
           "#FECB52"
          ],
          "font": {
           "color": "#2a3f5f"
          },
          "geo": {
           "bgcolor": "white",
           "lakecolor": "white",
           "landcolor": "#E5ECF6",
           "showlakes": true,
           "showland": true,
           "subunitcolor": "white"
          },
          "hoverlabel": {
           "align": "left"
          },
          "hovermode": "closest",
          "mapbox": {
           "style": "light"
          },
          "paper_bgcolor": "white",
          "plot_bgcolor": "#E5ECF6",
          "polar": {
           "angularaxis": {
            "gridcolor": "white",
            "linecolor": "white",
            "ticks": ""
           },
           "bgcolor": "#E5ECF6",
           "radialaxis": {
            "gridcolor": "white",
            "linecolor": "white",
            "ticks": ""
           }
          },
          "scene": {
           "xaxis": {
            "backgroundcolor": "#E5ECF6",
            "gridcolor": "white",
            "gridwidth": 2,
            "linecolor": "white",
            "showbackground": true,
            "ticks": "",
            "zerolinecolor": "white"
           },
           "yaxis": {
            "backgroundcolor": "#E5ECF6",
            "gridcolor": "white",
            "gridwidth": 2,
            "linecolor": "white",
            "showbackground": true,
            "ticks": "",
            "zerolinecolor": "white"
           },
           "zaxis": {
            "backgroundcolor": "#E5ECF6",
            "gridcolor": "white",
            "gridwidth": 2,
            "linecolor": "white",
            "showbackground": true,
            "ticks": "",
            "zerolinecolor": "white"
           }
          },
          "shapedefaults": {
           "line": {
            "color": "#2a3f5f"
           }
          },
          "ternary": {
           "aaxis": {
            "gridcolor": "white",
            "linecolor": "white",
            "ticks": ""
           },
           "baxis": {
            "gridcolor": "white",
            "linecolor": "white",
            "ticks": ""
           },
           "bgcolor": "#E5ECF6",
           "caxis": {
            "gridcolor": "white",
            "linecolor": "white",
            "ticks": ""
           }
          },
          "title": {
           "x": 0.05
          },
          "xaxis": {
           "automargin": true,
           "gridcolor": "white",
           "linecolor": "white",
           "ticks": "",
           "title": {
            "standoff": 15
           },
           "zerolinecolor": "white",
           "zerolinewidth": 2
          },
          "yaxis": {
           "automargin": true,
           "gridcolor": "white",
           "linecolor": "white",
           "ticks": "",
           "title": {
            "standoff": 15
           },
           "zerolinecolor": "white",
           "zerolinewidth": 2
          }
         }
        },
        "title": {
         "text": "timechart"
        },
        "xaxis": {
         "autorange": true,
         "title": {
          "text": "env_time"
         },
         "type": "date"
        },
        "yaxis": {
         "ticksuffix": "",
         "title": {
          "text": "count_"
         },
         "type": "linear"
        }
       }
      },
      "text/html": [
       "<div>                            <div id=\"df3b672a-5a8f-4cc3-b70a-8f96949eff76\" class=\"plotly-graph-div\" style=\"height:525px; width:100%;\"></div>            <script type=\"text/javascript\">                require([\"plotly\"], function(Plotly) {                    window.PLOTLYENV=window.PLOTLYENV || {};                                    if (document.getElementById(\"df3b672a-5a8f-4cc3-b70a-8f96949eff76\")) {                    Plotly.newPlot(                        \"df3b672a-5a8f-4cc3-b70a-8f96949eff76\",                        [{\"line\": {\"color\": \"rgb(31, 118, 179)\", \"width\": 1}, \"name\": \"504:count_\", \"opacity\": 0.8, \"type\": \"scatter\", \"x\": [\"2021-06-22T14:50:00+00:00\", \"2021-06-22T15:00:00+00:00\", \"2021-06-22T15:10:00+00:00\", \"2021-06-22T15:20:00+00:00\", \"2021-06-22T15:30:00+00:00\", \"2021-06-22T15:40:00+00:00\", \"2021-06-22T15:50:00+00:00\", \"2021-06-22T16:00:00+00:00\", \"2021-06-22T16:10:00+00:00\", \"2021-06-22T16:20:00+00:00\", \"2021-06-22T16:30:00+00:00\", \"2021-06-22T16:40:00+00:00\", \"2021-06-22T16:50:00+00:00\"], \"y\": [127, 196, 187, 174, 189, 175, 178, 179, 75, 7, 8, 2, null]}, {\"line\": {\"color\": \"rgb(254, 127, 14)\", \"width\": 1}, \"name\": \"500:count_\", \"opacity\": 0.8, \"type\": \"scatter\", \"x\": [\"2021-06-22T14:50:00+00:00\", \"2021-06-22T15:00:00+00:00\", \"2021-06-22T15:10:00+00:00\", \"2021-06-22T15:20:00+00:00\", \"2021-06-22T15:30:00+00:00\", \"2021-06-22T15:40:00+00:00\", \"2021-06-22T15:50:00+00:00\", \"2021-06-22T16:00:00+00:00\", \"2021-06-22T16:10:00+00:00\", \"2021-06-22T16:20:00+00:00\", \"2021-06-22T16:30:00+00:00\", \"2021-06-22T16:40:00+00:00\", \"2021-06-22T16:50:00+00:00\"], \"y\": [3, null, 1, null, null, 2, null, 3, null, null, 1, null, null]}, {\"line\": {\"color\": \"rgb(44, 160, 44)\", \"width\": 1}, \"name\": \"502:count_\", \"opacity\": 0.8, \"type\": \"scatter\", \"x\": [\"2021-06-22T14:50:00+00:00\", \"2021-06-22T15:00:00+00:00\", \"2021-06-22T15:10:00+00:00\", \"2021-06-22T15:20:00+00:00\", \"2021-06-22T15:30:00+00:00\", \"2021-06-22T15:40:00+00:00\", \"2021-06-22T15:50:00+00:00\", \"2021-06-22T16:00:00+00:00\", \"2021-06-22T16:10:00+00:00\", \"2021-06-22T16:20:00+00:00\", \"2021-06-22T16:30:00+00:00\", \"2021-06-22T16:40:00+00:00\", \"2021-06-22T16:50:00+00:00\"], \"y\": [17, 24, 22, 13, 34, 21, 17, 26, 1, null, null, null, null]}, {\"line\": {\"color\": \"rgb(214, 39, 39)\", \"width\": 1}, \"name\": \"503:count_\", \"opacity\": 0.8, \"type\": \"scatter\", \"x\": [\"2021-06-22T14:50:00+00:00\", \"2021-06-22T15:00:00+00:00\", \"2021-06-22T15:10:00+00:00\", \"2021-06-22T15:20:00+00:00\", \"2021-06-22T15:30:00+00:00\", \"2021-06-22T15:40:00+00:00\", \"2021-06-22T15:50:00+00:00\", \"2021-06-22T16:00:00+00:00\", \"2021-06-22T16:10:00+00:00\", \"2021-06-22T16:20:00+00:00\", \"2021-06-22T16:30:00+00:00\", \"2021-06-22T16:40:00+00:00\", \"2021-06-22T16:50:00+00:00\"], \"y\": [1, null, 2, null, 2, null, 2, null, null, null, null, null, 3]}, {\"line\": {\"color\": \"rgb(147, 102, 189)\", \"width\": 1}, \"name\": \"501:count_\", \"opacity\": 0.8, \"type\": \"scatter\", \"x\": [\"2021-06-22T14:50:00+00:00\", \"2021-06-22T15:00:00+00:00\", \"2021-06-22T15:10:00+00:00\", \"2021-06-22T15:20:00+00:00\", \"2021-06-22T15:30:00+00:00\", \"2021-06-22T15:40:00+00:00\", \"2021-06-22T15:50:00+00:00\", \"2021-06-22T16:00:00+00:00\", \"2021-06-22T16:10:00+00:00\", \"2021-06-22T16:20:00+00:00\", \"2021-06-22T16:30:00+00:00\", \"2021-06-22T16:40:00+00:00\", \"2021-06-22T16:50:00+00:00\"], \"y\": [null, null, null, null, null, null, null, 1, 1, null, null, 2, null]}],                        {\"showlegend\": true, \"template\": {\"data\": {\"bar\": [{\"error_x\": {\"color\": \"#2a3f5f\"}, \"error_y\": {\"color\": \"#2a3f5f\"}, \"marker\": {\"line\": {\"color\": \"#E5ECF6\", \"width\": 0.5}}, \"type\": \"bar\"}], \"barpolar\": [{\"marker\": {\"line\": {\"color\": \"#E5ECF6\", \"width\": 0.5}}, \"type\": \"barpolar\"}], \"carpet\": [{\"aaxis\": {\"endlinecolor\": \"#2a3f5f\", \"gridcolor\": \"white\", \"linecolor\": \"white\", \"minorgridcolor\": \"white\", \"startlinecolor\": \"#2a3f5f\"}, \"baxis\": {\"endlinecolor\": \"#2a3f5f\", \"gridcolor\": \"white\", \"linecolor\": \"white\", \"minorgridcolor\": \"white\", \"startlinecolor\": \"#2a3f5f\"}, \"type\": \"carpet\"}], \"choropleth\": [{\"colorbar\": {\"outlinewidth\": 0, \"ticks\": \"\"}, \"type\": \"choropleth\"}], \"contour\": [{\"colorbar\": {\"outlinewidth\": 0, \"ticks\": \"\"}, \"colorscale\": [[0.0, \"#0d0887\"], [0.1111111111111111, \"#46039f\"], [0.2222222222222222, \"#7201a8\"], [0.3333333333333333, \"#9c179e\"], [0.4444444444444444, \"#bd3786\"], [0.5555555555555556, \"#d8576b\"], [0.6666666666666666, \"#ed7953\"], [0.7777777777777778, \"#fb9f3a\"], [0.8888888888888888, \"#fdca26\"], [1.0, \"#f0f921\"]], \"type\": \"contour\"}], \"contourcarpet\": [{\"colorbar\": {\"outlinewidth\": 0, \"ticks\": \"\"}, \"type\": \"contourcarpet\"}], \"heatmap\": [{\"colorbar\": {\"outlinewidth\": 0, \"ticks\": \"\"}, \"colorscale\": [[0.0, \"#0d0887\"], [0.1111111111111111, \"#46039f\"], [0.2222222222222222, \"#7201a8\"], [0.3333333333333333, \"#9c179e\"], [0.4444444444444444, \"#bd3786\"], [0.5555555555555556, \"#d8576b\"], [0.6666666666666666, \"#ed7953\"], [0.7777777777777778, \"#fb9f3a\"], [0.8888888888888888, \"#fdca26\"], [1.0, \"#f0f921\"]], \"type\": \"heatmap\"}], \"heatmapgl\": [{\"colorbar\": {\"outlinewidth\": 0, \"ticks\": \"\"}, \"colorscale\": [[0.0, \"#0d0887\"], [0.1111111111111111, \"#46039f\"], [0.2222222222222222, \"#7201a8\"], [0.3333333333333333, \"#9c179e\"], [0.4444444444444444, \"#bd3786\"], [0.5555555555555556, \"#d8576b\"], [0.6666666666666666, \"#ed7953\"], [0.7777777777777778, \"#fb9f3a\"], [0.8888888888888888, \"#fdca26\"], [1.0, \"#f0f921\"]], \"type\": \"heatmapgl\"}], \"histogram\": [{\"marker\": {\"colorbar\": {\"outlinewidth\": 0, \"ticks\": \"\"}}, \"type\": \"histogram\"}], \"histogram2d\": [{\"colorbar\": {\"outlinewidth\": 0, \"ticks\": \"\"}, \"colorscale\": [[0.0, \"#0d0887\"], [0.1111111111111111, \"#46039f\"], [0.2222222222222222, \"#7201a8\"], [0.3333333333333333, \"#9c179e\"], [0.4444444444444444, \"#bd3786\"], [0.5555555555555556, \"#d8576b\"], [0.6666666666666666, \"#ed7953\"], [0.7777777777777778, \"#fb9f3a\"], [0.8888888888888888, \"#fdca26\"], [1.0, \"#f0f921\"]], \"type\": \"histogram2d\"}], \"histogram2dcontour\": [{\"colorbar\": {\"outlinewidth\": 0, \"ticks\": \"\"}, \"colorscale\": [[0.0, \"#0d0887\"], [0.1111111111111111, \"#46039f\"], [0.2222222222222222, \"#7201a8\"], [0.3333333333333333, \"#9c179e\"], [0.4444444444444444, \"#bd3786\"], [0.5555555555555556, \"#d8576b\"], [0.6666666666666666, \"#ed7953\"], [0.7777777777777778, \"#fb9f3a\"], [0.8888888888888888, \"#fdca26\"], [1.0, \"#f0f921\"]], \"type\": \"histogram2dcontour\"}], \"mesh3d\": [{\"colorbar\": {\"outlinewidth\": 0, \"ticks\": \"\"}, \"type\": \"mesh3d\"}], \"parcoords\": [{\"line\": {\"colorbar\": {\"outlinewidth\": 0, \"ticks\": \"\"}}, \"type\": \"parcoords\"}], \"pie\": [{\"automargin\": true, \"type\": \"pie\"}], \"scatter\": [{\"marker\": {\"colorbar\": {\"outlinewidth\": 0, \"ticks\": \"\"}}, \"type\": \"scatter\"}], \"scatter3d\": [{\"line\": {\"colorbar\": {\"outlinewidth\": 0, \"ticks\": \"\"}}, \"marker\": {\"colorbar\": {\"outlinewidth\": 0, \"ticks\": \"\"}}, \"type\": \"scatter3d\"}], \"scattercarpet\": [{\"marker\": {\"colorbar\": {\"outlinewidth\": 0, \"ticks\": \"\"}}, \"type\": \"scattercarpet\"}], \"scattergeo\": [{\"marker\": {\"colorbar\": {\"outlinewidth\": 0, \"ticks\": \"\"}}, \"type\": \"scattergeo\"}], \"scattergl\": [{\"marker\": {\"colorbar\": {\"outlinewidth\": 0, \"ticks\": \"\"}}, \"type\": \"scattergl\"}], \"scattermapbox\": [{\"marker\": {\"colorbar\": {\"outlinewidth\": 0, \"ticks\": \"\"}}, \"type\": \"scattermapbox\"}], \"scatterpolar\": [{\"marker\": {\"colorbar\": {\"outlinewidth\": 0, \"ticks\": \"\"}}, \"type\": \"scatterpolar\"}], \"scatterpolargl\": [{\"marker\": {\"colorbar\": {\"outlinewidth\": 0, \"ticks\": \"\"}}, \"type\": \"scatterpolargl\"}], \"scatterternary\": [{\"marker\": {\"colorbar\": {\"outlinewidth\": 0, \"ticks\": \"\"}}, \"type\": \"scatterternary\"}], \"surface\": [{\"colorbar\": {\"outlinewidth\": 0, \"ticks\": \"\"}, \"colorscale\": [[0.0, \"#0d0887\"], [0.1111111111111111, \"#46039f\"], [0.2222222222222222, \"#7201a8\"], [0.3333333333333333, \"#9c179e\"], [0.4444444444444444, \"#bd3786\"], [0.5555555555555556, \"#d8576b\"], [0.6666666666666666, \"#ed7953\"], [0.7777777777777778, \"#fb9f3a\"], [0.8888888888888888, \"#fdca26\"], [1.0, \"#f0f921\"]], \"type\": \"surface\"}], \"table\": [{\"cells\": {\"fill\": {\"color\": \"#EBF0F8\"}, \"line\": {\"color\": \"white\"}}, \"header\": {\"fill\": {\"color\": \"#C8D4E3\"}, \"line\": {\"color\": \"white\"}}, \"type\": \"table\"}]}, \"layout\": {\"annotationdefaults\": {\"arrowcolor\": \"#2a3f5f\", \"arrowhead\": 0, \"arrowwidth\": 1}, \"autotypenumbers\": \"strict\", \"coloraxis\": {\"colorbar\": {\"outlinewidth\": 0, \"ticks\": \"\"}}, \"colorscale\": {\"diverging\": [[0, \"#8e0152\"], [0.1, \"#c51b7d\"], [0.2, \"#de77ae\"], [0.3, \"#f1b6da\"], [0.4, \"#fde0ef\"], [0.5, \"#f7f7f7\"], [0.6, \"#e6f5d0\"], [0.7, \"#b8e186\"], [0.8, \"#7fbc41\"], [0.9, \"#4d9221\"], [1, \"#276419\"]], \"sequential\": [[0.0, \"#0d0887\"], [0.1111111111111111, \"#46039f\"], [0.2222222222222222, \"#7201a8\"], [0.3333333333333333, \"#9c179e\"], [0.4444444444444444, \"#bd3786\"], [0.5555555555555556, \"#d8576b\"], [0.6666666666666666, \"#ed7953\"], [0.7777777777777778, \"#fb9f3a\"], [0.8888888888888888, \"#fdca26\"], [1.0, \"#f0f921\"]], \"sequentialminus\": [[0.0, \"#0d0887\"], [0.1111111111111111, \"#46039f\"], [0.2222222222222222, \"#7201a8\"], [0.3333333333333333, \"#9c179e\"], [0.4444444444444444, \"#bd3786\"], [0.5555555555555556, \"#d8576b\"], [0.6666666666666666, \"#ed7953\"], [0.7777777777777778, \"#fb9f3a\"], [0.8888888888888888, \"#fdca26\"], [1.0, \"#f0f921\"]]}, \"colorway\": [\"#636efa\", \"#EF553B\", \"#00cc96\", \"#ab63fa\", \"#FFA15A\", \"#19d3f3\", \"#FF6692\", \"#B6E880\", \"#FF97FF\", \"#FECB52\"], \"font\": {\"color\": \"#2a3f5f\"}, \"geo\": {\"bgcolor\": \"white\", \"lakecolor\": \"white\", \"landcolor\": \"#E5ECF6\", \"showlakes\": true, \"showland\": true, \"subunitcolor\": \"white\"}, \"hoverlabel\": {\"align\": \"left\"}, \"hovermode\": \"closest\", \"mapbox\": {\"style\": \"light\"}, \"paper_bgcolor\": \"white\", \"plot_bgcolor\": \"#E5ECF6\", \"polar\": {\"angularaxis\": {\"gridcolor\": \"white\", \"linecolor\": \"white\", \"ticks\": \"\"}, \"bgcolor\": \"#E5ECF6\", \"radialaxis\": {\"gridcolor\": \"white\", \"linecolor\": \"white\", \"ticks\": \"\"}}, \"scene\": {\"xaxis\": {\"backgroundcolor\": \"#E5ECF6\", \"gridcolor\": \"white\", \"gridwidth\": 2, \"linecolor\": \"white\", \"showbackground\": true, \"ticks\": \"\", \"zerolinecolor\": \"white\"}, \"yaxis\": {\"backgroundcolor\": \"#E5ECF6\", \"gridcolor\": \"white\", \"gridwidth\": 2, \"linecolor\": \"white\", \"showbackground\": true, \"ticks\": \"\", \"zerolinecolor\": \"white\"}, \"zaxis\": {\"backgroundcolor\": \"#E5ECF6\", \"gridcolor\": \"white\", \"gridwidth\": 2, \"linecolor\": \"white\", \"showbackground\": true, \"ticks\": \"\", \"zerolinecolor\": \"white\"}}, \"shapedefaults\": {\"line\": {\"color\": \"#2a3f5f\"}}, \"ternary\": {\"aaxis\": {\"gridcolor\": \"white\", \"linecolor\": \"white\", \"ticks\": \"\"}, \"baxis\": {\"gridcolor\": \"white\", \"linecolor\": \"white\", \"ticks\": \"\"}, \"bgcolor\": \"#E5ECF6\", \"caxis\": {\"gridcolor\": \"white\", \"linecolor\": \"white\", \"ticks\": \"\"}}, \"title\": {\"x\": 0.05}, \"xaxis\": {\"automargin\": true, \"gridcolor\": \"white\", \"linecolor\": \"white\", \"ticks\": \"\", \"title\": {\"standoff\": 15}, \"zerolinecolor\": \"white\", \"zerolinewidth\": 2}, \"yaxis\": {\"automargin\": true, \"gridcolor\": \"white\", \"linecolor\": \"white\", \"ticks\": \"\", \"title\": {\"standoff\": 15}, \"zerolinecolor\": \"white\", \"zerolinewidth\": 2}}}, \"title\": {\"text\": \"timechart\"}, \"xaxis\": {\"autorange\": true, \"title\": {\"text\": \"env_time\"}, \"type\": \"date\"}, \"yaxis\": {\"ticksuffix\": \"\", \"title\": {\"text\": \"count_\"}, \"type\": \"linear\"}},                        {\"responsive\": true}                    ).then(function(){\n",
       "                            \n",
       "var gd = document.getElementById('df3b672a-5a8f-4cc3-b70a-8f96949eff76');\n",
       "var x = new MutationObserver(function (mutations, observer) {{\n",
       "        var display = window.getComputedStyle(gd).display;\n",
       "        if (!display || display === 'none') {{\n",
       "            console.log([gd, 'removed!']);\n",
       "            Plotly.purge(gd);\n",
       "            observer.disconnect();\n",
       "        }}\n",
       "}});\n",
       "\n",
       "// Listen for the removal of the full notebook cells\n",
       "var notebookContainer = gd.closest('#notebook-container');\n",
       "if (notebookContainer) {{\n",
       "    x.observe(notebookContainer, {childList: true});\n",
       "}}\n",
       "\n",
       "// Listen for the clearing of the current output cell\n",
       "var outputEl = gd.closest('.output');\n",
       "if (outputEl) {{\n",
       "    x.observe(outputEl, {childList: true});\n",
       "}}\n",
       "\n",
       "                        })                };                });            </script>        </div>"
      ]
     },
     "metadata": {},
     "output_type": "display_data"
    },
    {
     "data": {
      "text/html": [
       "<html>\n",
       "        <head>\n",
       "            \n",
       "            \n",
       "        </head>\n",
       "        <body>\n",
       "            <div><p style='padding: 10px; color: #3a87ad; background-color: #d9edf7; border-color: #bce9f1'>Done&nbsp;(00:02.122):&nbsp;34&nbsp;records</p></div>\n",
       "        </body>\n",
       "        </html>"
      ],
      "text/plain": [
       "<IPython.core.display.HTML object>"
      ]
     },
     "metadata": {},
     "output_type": "display_data"
    },
    {
     "data": {
      "text/html": [],
      "text/plain": [
       "[{'responseStatusCode': 504, 'env_time': datetime.datetime(2021, 6, 22, 14, 50, tzinfo=tzutc()), 'count_': 127},\n",
       " {'responseStatusCode': 504, 'env_time': datetime.datetime(2021, 6, 22, 15, 20, tzinfo=tzutc()), 'count_': 174},\n",
       " {'responseStatusCode': 504, 'env_time': datetime.datetime(2021, 6, 22, 15, 40, tzinfo=tzutc()), 'count_': 175},\n",
       " {'responseStatusCode': 504, 'env_time': datetime.datetime(2021, 6, 22, 16, 0, tzinfo=tzutc()), 'count_': 179},\n",
       " {'responseStatusCode': 504, 'env_time': datetime.datetime(2021, 6, 22, 15, 10, tzinfo=tzutc()), 'count_': 187},\n",
       " {'responseStatusCode': 504, 'env_time': datetime.datetime(2021, 6, 22, 15, 50, tzinfo=tzutc()), 'count_': 178},\n",
       " {'responseStatusCode': 502, 'env_time': datetime.datetime(2021, 6, 22, 15, 10, tzinfo=tzutc()), 'count_': 22},\n",
       " {'responseStatusCode': 504, 'env_time': datetime.datetime(2021, 6, 22, 15, 30, tzinfo=tzutc()), 'count_': 189},\n",
       " {'responseStatusCode': 500, 'env_time': datetime.datetime(2021, 6, 22, 14, 50, tzinfo=tzutc()), 'count_': 3},\n",
       " {'responseStatusCode': 504, 'env_time': datetime.datetime(2021, 6, 22, 16, 30, tzinfo=tzutc()), 'count_': 8},\n",
       " {'responseStatusCode': 504, 'env_time': datetime.datetime(2021, 6, 22, 15, 0, tzinfo=tzutc()), 'count_': 196},\n",
       " {'responseStatusCode': 502, 'env_time': datetime.datetime(2021, 6, 22, 15, 20, tzinfo=tzutc()), 'count_': 13},\n",
       " {'responseStatusCode': 501, 'env_time': datetime.datetime(2021, 6, 22, 16, 0, tzinfo=tzutc()), 'count_': 1},\n",
       " {'responseStatusCode': 502, 'env_time': datetime.datetime(2021, 6, 22, 14, 50, tzinfo=tzutc()), 'count_': 17},\n",
       " {'responseStatusCode': 502, 'env_time': datetime.datetime(2021, 6, 22, 15, 50, tzinfo=tzutc()), 'count_': 17},\n",
       " {'responseStatusCode': 502, 'env_time': datetime.datetime(2021, 6, 22, 15, 0, tzinfo=tzutc()), 'count_': 24},\n",
       " {'responseStatusCode': 502, 'env_time': datetime.datetime(2021, 6, 22, 15, 40, tzinfo=tzutc()), 'count_': 21},\n",
       " {'responseStatusCode': 502, 'env_time': datetime.datetime(2021, 6, 22, 15, 30, tzinfo=tzutc()), 'count_': 34},\n",
       " {'responseStatusCode': 504, 'env_time': datetime.datetime(2021, 6, 22, 16, 10, tzinfo=tzutc()), 'count_': 75},\n",
       " {'responseStatusCode': 502, 'env_time': datetime.datetime(2021, 6, 22, 16, 0, tzinfo=tzutc()), 'count_': 26},\n",
       " {'responseStatusCode': 503, 'env_time': datetime.datetime(2021, 6, 22, 14, 50, tzinfo=tzutc()), 'count_': 1},\n",
       " {'responseStatusCode': 503, 'env_time': datetime.datetime(2021, 6, 22, 15, 10, tzinfo=tzutc()), 'count_': 2},\n",
       " {'responseStatusCode': 501, 'env_time': datetime.datetime(2021, 6, 22, 16, 40, tzinfo=tzutc()), 'count_': 2},\n",
       " {'responseStatusCode': 500, 'env_time': datetime.datetime(2021, 6, 22, 16, 0, tzinfo=tzutc()), 'count_': 3},\n",
       " {'responseStatusCode': 503, 'env_time': datetime.datetime(2021, 6, 22, 15, 30, tzinfo=tzutc()), 'count_': 2},\n",
       " {'responseStatusCode': 504, 'env_time': datetime.datetime(2021, 6, 22, 16, 20, tzinfo=tzutc()), 'count_': 7},\n",
       " {'responseStatusCode': 503, 'env_time': datetime.datetime(2021, 6, 22, 15, 50, tzinfo=tzutc()), 'count_': 2},\n",
       " {'responseStatusCode': 503, 'env_time': datetime.datetime(2021, 6, 22, 16, 50, tzinfo=tzutc()), 'count_': 3},\n",
       " {'responseStatusCode': 501, 'env_time': datetime.datetime(2021, 6, 22, 16, 10, tzinfo=tzutc()), 'count_': 1},\n",
       " {'responseStatusCode': 500, 'env_time': datetime.datetime(2021, 6, 22, 15, 10, tzinfo=tzutc()), 'count_': 1},\n",
       " {'responseStatusCode': 504, 'env_time': datetime.datetime(2021, 6, 22, 16, 40, tzinfo=tzutc()), 'count_': 2},\n",
       " {'responseStatusCode': 500, 'env_time': datetime.datetime(2021, 6, 22, 15, 40, tzinfo=tzutc()), 'count_': 2},\n",
       " {'responseStatusCode': 500, 'env_time': datetime.datetime(2021, 6, 22, 16, 30, tzinfo=tzutc()), 'count_': 1},\n",
       " {'responseStatusCode': 502, 'env_time': datetime.datetime(2021, 6, 22, 16, 10, tzinfo=tzutc()), 'count_': 1}]"
      ]
     },
     "execution_count": 50,
     "metadata": {},
     "output_type": "execute_result"
    }
   ],
   "source": [
    "%%kql\n",
    "    let _start_datetime=my_start_datetime;\n",
    "    let _end_datetime=my_end_datetime;\n",
    "    let _occurring_device_group=my_occurring_device_group;\n",
    "    let _occurring_datacenter=my_occurring_datacenter;\n",
    "    cluster(\"msgraphkus\").database(\"msgraphdb\").GlobalAggregatorServiceLogEvent\n",
    "    | where env_time >= _start_datetime and env_time < _end_datetime \n",
    "    | where env_cloud_location == _occurring_datacenter and accountType == _occurring_device_group \n",
    "    | where trafficType == \"Customer\" and tagId == \"30676F66\" and targetWorkloadId == \"Microsoft.Excel\"\n",
    "    | where responseStatusCode > 499\n",
    "    | summarize count() by responseStatusCode, bin(env_time, 10min)\n",
    "    | render timechart with (series=responseStatusCode)"
   ]
  },
  {
   "cell_type": "markdown",
   "metadata": {},
   "source": [
    "# [2.1] Specify _status code_ you interested in and check Corresponding Errors"
   ]
  },
  {
   "cell_type": "code",
   "execution_count": 61,
   "metadata": {},
   "outputs": [],
   "source": [
    "my_responseStatusCodeRange=504"
   ]
  },
  {
   "cell_type": "code",
   "execution_count": 71,
   "metadata": {
    "scrolled": true
   },
   "outputs": [
    {
     "data": {
      "text/html": [
       "<html>\n",
       "        <head>\n",
       "            \n",
       "            \n",
       "        </head>\n",
       "        <body>\n",
       "            <div><p style='padding: 10px; color: #3a87ad; background-color: #d9edf7; border-color: #bce9f1'>&nbsp;*&nbsp;IcMDataWarehouse@icmcluster<br>&nbsp;&nbsp;&nbsp;msgraphdb@msgraphkus</p></div>\n",
       "        </body>\n",
       "        </html>"
      ],
      "text/plain": [
       "<IPython.core.display.HTML object>"
      ]
     },
     "metadata": {},
     "output_type": "display_data"
    },
    {
     "data": {
      "text/html": [
       "<html>\n",
       "        <head>\n",
       "            \n",
       "            <title>Kqlmagic - table</title>\n",
       "        </head>\n",
       "        <body>\n",
       "            <table>\n",
       "    <thead>\n",
       "        <tr>\n",
       "            <th>AppId</th>\n",
       "            <th>RequestType</th>\n",
       "            <th>RestRequestType</th>\n",
       "            <th>RestPart</th>\n",
       "            <th>ServerDocId</th>\n",
       "            <th>responseStatusCode</th>\n",
       "            <th>MessageId</th>\n",
       "            <th>count_</th>\n",
       "        </tr>\n",
       "    </thead>\n",
       "    <tbody>\n",
       "        <tr>\n",
       "            <td>7ab7862c-4c57-491e-8a45-d52a7e023983</td>\n",
       "            <td>POST</td>\n",
       "            <td>CreateSession</td>\n",
       "            <td>_api/createSession</td>\n",
       "            <td></td>\n",
       "            <td>504</td>\n",
       "            <td>FileOpenBaseDocumentCheckHostTimeout</td>\n",
       "            <td>924</td>\n",
       "        </tr>\n",
       "        <tr>\n",
       "            <td>7b0293e0-d9c8-4588-acba-05770f5d8715</td>\n",
       "            <td>GET</td>\n",
       "            <td>Sessionless</td>\n",
       "            <td>_api/worksheets(*)/range(*)</td>\n",
       "            <td></td>\n",
       "            <td>504</td>\n",
       "            <td>FileOpenBaseDocumentCheckHostTimeout</td>\n",
       "            <td>319</td>\n",
       "        </tr>\n",
       "        <tr>\n",
       "            <td>66f76f32-14b0-4d8d-a3ed-7a614853b50d</td>\n",
       "            <td>GET</td>\n",
       "            <td>Sessionless</td>\n",
       "            <td>_api/tables(*)/headerRowRange</td>\n",
       "            <td></td>\n",
       "            <td>504</td>\n",
       "            <td>FileOpenBaseDocumentCheckHostTimeout</td>\n",
       "            <td>54</td>\n",
       "        </tr>\n",
       "        <tr>\n",
       "            <td>808c883f-bb23-4775-a814-535b0069dd2d</td>\n",
       "            <td>POST</td>\n",
       "            <td>CreateSession</td>\n",
       "            <td>_api/createSession</td>\n",
       "            <td></td>\n",
       "            <td>504</td>\n",
       "            <td>FileOpenBaseDocumentCheckHostTimeout</td>\n",
       "            <td>50</td>\n",
       "        </tr>\n",
       "        <tr>\n",
       "            <td>66f76f32-14b0-4d8d-a3ed-7a614853b50d</td>\n",
       "            <td>GET</td>\n",
       "            <td>Sessionless</td>\n",
       "            <td>_api/tables(*)/rows</td>\n",
       "            <td></td>\n",
       "            <td>504</td>\n",
       "            <td>FileOpenBaseDocumentCheckHostTimeout</td>\n",
       "            <td>17</td>\n",
       "        </tr>\n",
       "        <tr>\n",
       "            <td>7ab7862c-4c57-491e-8a45-d52a7e023983</td>\n",
       "            <td>POST</td>\n",
       "            <td>CreateSession</td>\n",
       "            <td>_api/createSession</td>\n",
       "            <td>b8a988fc-6bf7-497e-ba4c-cfa2f2543c4c</td>\n",
       "            <td>504</td>\n",
       "            <td>WrongClusterException</td>\n",
       "            <td>14</td>\n",
       "        </tr>\n",
       "        <tr>\n",
       "            <td>66f76f32-14b0-4d8d-a3ed-7a614853b50d</td>\n",
       "            <td>GET</td>\n",
       "            <td>Sessionless</td>\n",
       "            <td>_api/tables(*)/headerRowRange</td>\n",
       "            <td>442002c2-6955-45b0-8070-d139027c8478</td>\n",
       "            <td>504</td>\n",
       "            <td></td>\n",
       "            <td>13</td>\n",
       "        </tr>\n",
       "        <tr>\n",
       "            <td>00000003-0000-0ff1-ce00-000000000000</td>\n",
       "            <td>GET</td>\n",
       "            <td>Sessionless</td>\n",
       "            <td>_api/tables</td>\n",
       "            <td></td>\n",
       "            <td>504</td>\n",
       "            <td>FileOpenBaseDocumentCheckHostTimeout</td>\n",
       "            <td>12</td>\n",
       "        </tr>\n",
       "        <tr>\n",
       "            <td>16b08399-ae5d-4a7a-b254-cfd715cb422e</td>\n",
       "            <td>PATCH</td>\n",
       "            <td>Sessionless</td>\n",
       "            <td>_api/worksheets(*)/range(*)</td>\n",
       "            <td></td>\n",
       "            <td>504</td>\n",
       "            <td>FileOpenBaseDocumentCheckHostTimeout</td>\n",
       "            <td>12</td>\n",
       "        </tr>\n",
       "        <tr>\n",
       "            <td>7ab7862c-4c57-491e-8a45-d52a7e023983</td>\n",
       "            <td>POST</td>\n",
       "            <td>CreateSession</td>\n",
       "            <td>_api/createSession</td>\n",
       "            <td>bf352758-cf67-4c22-806b-19187f502f3b</td>\n",
       "            <td>504</td>\n",
       "            <td>WrongClusterException</td>\n",
       "            <td>9</td>\n",
       "        </tr>\n",
       "        <tr>\n",
       "            <td>7ab7862c-4c57-491e-8a45-d52a7e023983</td>\n",
       "            <td>POST</td>\n",
       "            <td>Sessionful</td>\n",
       "            <td>_api/tables(*)/rows</td>\n",
       "            <td></td>\n",
       "            <td>504</td>\n",
       "            <td>MaxRequestPendingDuraionExceeded</td>\n",
       "            <td>8</td>\n",
       "        </tr>\n",
       "        <tr>\n",
       "            <td>7ab7862c-4c57-491e-8a45-d52a7e023983</td>\n",
       "            <td>POST</td>\n",
       "            <td>CreateSession</td>\n",
       "            <td>_api/createSession</td>\n",
       "            <td>adaaa4c8-3d13-4a46-954c-536d314e3585</td>\n",
       "            <td>504</td>\n",
       "            <td>WrongClusterException</td>\n",
       "            <td>7</td>\n",
       "        </tr>\n",
       "        <tr>\n",
       "            <td>7ab7862c-4c57-491e-8a45-d52a7e023983</td>\n",
       "            <td>POST</td>\n",
       "            <td>CreateSession</td>\n",
       "            <td>_api/createSession</td>\n",
       "            <td>a4413380-c21b-479d-9172-f4c297230666</td>\n",
       "            <td>504</td>\n",
       "            <td>WrongClusterException</td>\n",
       "            <td>6</td>\n",
       "        </tr>\n",
       "        <tr>\n",
       "            <td>7ab7862c-4c57-491e-8a45-d52a7e023983</td>\n",
       "            <td>POST</td>\n",
       "            <td>CreateSession</td>\n",
       "            <td>_api/createSession</td>\n",
       "            <td>025cc8b9-bb7d-43c3-bd4e-a48c9ad45018</td>\n",
       "            <td>504</td>\n",
       "            <td>WrongClusterException</td>\n",
       "            <td>6</td>\n",
       "        </tr>\n",
       "        <tr>\n",
       "            <td></td>\n",
       "            <td></td>\n",
       "            <td></td>\n",
       "            <td></td>\n",
       "            <td></td>\n",
       "            <td>504</td>\n",
       "            <td></td>\n",
       "            <td>6</td>\n",
       "        </tr>\n",
       "        <tr>\n",
       "            <td>7ab7862c-4c57-491e-8a45-d52a7e023983</td>\n",
       "            <td>POST</td>\n",
       "            <td>CreateSession</td>\n",
       "            <td>_api/createSession</td>\n",
       "            <td>87f7ecc1-a4b2-40a9-8e11-5e50f095468e</td>\n",
       "            <td>504</td>\n",
       "            <td></td>\n",
       "            <td>5</td>\n",
       "        </tr>\n",
       "        <tr>\n",
       "            <td>7ab7862c-4c57-491e-8a45-d52a7e023983</td>\n",
       "            <td>POST</td>\n",
       "            <td>Sessionful</td>\n",
       "            <td>_api/tables(*)/rows</td>\n",
       "            <td></td>\n",
       "            <td>504</td>\n",
       "            <td>ThreadAbortException</td>\n",
       "            <td>5</td>\n",
       "        </tr>\n",
       "        <tr>\n",
       "            <td>7ab7862c-4c57-491e-8a45-d52a7e023983</td>\n",
       "            <td>POST</td>\n",
       "            <td>CreateSession</td>\n",
       "            <td>_api/createSession</td>\n",
       "            <td>1a0c68ab-f046-4cba-93b0-c939780c02ee</td>\n",
       "            <td>504</td>\n",
       "            <td>WrongClusterException</td>\n",
       "            <td>5</td>\n",
       "        </tr>\n",
       "        <tr>\n",
       "            <td>7ab7862c-4c57-491e-8a45-d52a7e023983</td>\n",
       "            <td>POST</td>\n",
       "            <td>CreateSession</td>\n",
       "            <td>_api/createSession</td>\n",
       "            <td>88c877ce-d60c-42b0-9b48-b2e72a8b80ae</td>\n",
       "            <td>504</td>\n",
       "            <td>WrongClusterException</td>\n",
       "            <td>4</td>\n",
       "        </tr>\n",
       "        <tr>\n",
       "            <td>7ab7862c-4c57-491e-8a45-d52a7e023983</td>\n",
       "            <td>POST</td>\n",
       "            <td>CreateSession</td>\n",
       "            <td>_api/createSession</td>\n",
       "            <td>e3392bbe-3a21-403f-9bd5-3d02dc99dfa5</td>\n",
       "            <td>504</td>\n",
       "            <td>WrongClusterException</td>\n",
       "            <td>4</td>\n",
       "        </tr>\n",
       "        <tr>\n",
       "            <td>7ab7862c-4c57-491e-8a45-d52a7e023983</td>\n",
       "            <td>POST</td>\n",
       "            <td>CreateSession</td>\n",
       "            <td>_api/createSession</td>\n",
       "            <td>b8a988fc-6bf7-497e-ba4c-cfa2f2543c4c</td>\n",
       "            <td>504</td>\n",
       "            <td></td>\n",
       "            <td>4</td>\n",
       "        </tr>\n",
       "        <tr>\n",
       "            <td>00000003-0000-0ff1-ce00-000000000000</td>\n",
       "            <td>GET</td>\n",
       "            <td>Sessionless</td>\n",
       "            <td>_api/tables(*)/columns</td>\n",
       "            <td></td>\n",
       "            <td>504</td>\n",
       "            <td>FileOpenBaseDocumentCheckHostTimeout</td>\n",
       "            <td>4</td>\n",
       "        </tr>\n",
       "        <tr>\n",
       "            <td>7ab7862c-4c57-491e-8a45-d52a7e023983</td>\n",
       "            <td>POST</td>\n",
       "            <td>CreateSession</td>\n",
       "            <td>_api/createSession</td>\n",
       "            <td>662b5cdb-c143-4247-849a-301dabde16b5</td>\n",
       "            <td>504</td>\n",
       "            <td>WrongClusterException</td>\n",
       "            <td>4</td>\n",
       "        </tr>\n",
       "        <tr>\n",
       "            <td>ecd6b820-32c2-49b6-98a6-444530e5a77a</td>\n",
       "            <td>POST</td>\n",
       "            <td>CreateSession</td>\n",
       "            <td>_api/createSession</td>\n",
       "            <td></td>\n",
       "            <td>504</td>\n",
       "            <td>FileOpenBaseDocumentCheckHostTimeout</td>\n",
       "            <td>4</td>\n",
       "        </tr>\n",
       "        <tr>\n",
       "            <td>66f76f32-14b0-4d8d-a3ed-7a614853b50d</td>\n",
       "            <td>GET</td>\n",
       "            <td>Sessionless</td>\n",
       "            <td>_api/tables(*)/rows</td>\n",
       "            <td>442002c2-6955-45b0-8070-d139027c8478</td>\n",
       "            <td>504</td>\n",
       "            <td></td>\n",
       "            <td>4</td>\n",
       "        </tr>\n",
       "        <tr>\n",
       "            <td>7ab7862c-4c57-491e-8a45-d52a7e023983</td>\n",
       "            <td>POST</td>\n",
       "            <td>CreateSession</td>\n",
       "            <td>_api/createSession</td>\n",
       "            <td>ef165d58-6cda-4704-b61b-a417a91040e7</td>\n",
       "            <td>504</td>\n",
       "            <td>WrongClusterException</td>\n",
       "            <td>4</td>\n",
       "        </tr>\n",
       "        <tr>\n",
       "            <td>7ab7862c-4c57-491e-8a45-d52a7e023983</td>\n",
       "            <td>POST</td>\n",
       "            <td>CreateSession</td>\n",
       "            <td>_api/createSession</td>\n",
       "            <td>8ee9f3bf-e1a2-4a01-9d30-02d7606b3e84</td>\n",
       "            <td>504</td>\n",
       "            <td>WrongClusterException</td>\n",
       "            <td>4</td>\n",
       "        </tr>\n",
       "        <tr>\n",
       "            <td>00000003-0000-0ff1-ce00-000000000000</td>\n",
       "            <td>GET</td>\n",
       "            <td>Sessionless</td>\n",
       "            <td>_api/tables(*)/dataBodyRange/columnCount</td>\n",
       "            <td></td>\n",
       "            <td>504</td>\n",
       "            <td>FileOpenBaseDocumentCheckHostTimeout</td>\n",
       "            <td>3</td>\n",
       "        </tr>\n",
       "        <tr>\n",
       "            <td>7ab7862c-4c57-491e-8a45-d52a7e023983</td>\n",
       "            <td>POST</td>\n",
       "            <td>CreateSession</td>\n",
       "            <td>_api/createSession</td>\n",
       "            <td>025cc8b9-bb7d-43c3-bd4e-a48c9ad45018</td>\n",
       "            <td>504</td>\n",
       "            <td>DeploymentRetryError</td>\n",
       "            <td>3</td>\n",
       "        </tr>\n",
       "        <tr>\n",
       "            <td>7ab7862c-4c57-491e-8a45-d52a7e023983</td>\n",
       "            <td>POST</td>\n",
       "            <td>CreateSession</td>\n",
       "            <td>_api/createSession</td>\n",
       "            <td>a5de664a-5541-4690-8fe0-786164993e00</td>\n",
       "            <td>504</td>\n",
       "            <td>WrongClusterException</td>\n",
       "            <td>3</td>\n",
       "        </tr>\n",
       "        <tr>\n",
       "            <td>7ab7862c-4c57-491e-8a45-d52a7e023983</td>\n",
       "            <td>POST</td>\n",
       "            <td>CreateSession</td>\n",
       "            <td>_api/createSession</td>\n",
       "            <td>24aa9458-ea23-450f-972d-274a4332ca20</td>\n",
       "            <td>504</td>\n",
       "            <td></td>\n",
       "            <td>3</td>\n",
       "        </tr>\n",
       "        <tr>\n",
       "            <td>7ab7862c-4c57-491e-8a45-d52a7e023983</td>\n",
       "            <td>POST</td>\n",
       "            <td>CreateSession</td>\n",
       "            <td>_api/createSession</td>\n",
       "            <td>24aa9458-ea23-450f-972d-274a4332ca20</td>\n",
       "            <td>504</td>\n",
       "            <td>WrongClusterException</td>\n",
       "            <td>3</td>\n",
       "        </tr>\n",
       "        <tr>\n",
       "            <td>4dbd4532-cf3b-4ddb-967d-cf1864f7b3fd</td>\n",
       "            <td>GET</td>\n",
       "            <td>Sessionless</td>\n",
       "            <td>_api/tables(*)/rows</td>\n",
       "            <td></td>\n",
       "            <td>504</td>\n",
       "            <td>FileOpenBaseDocumentCheckHostTimeout</td>\n",
       "            <td>2</td>\n",
       "        </tr>\n",
       "        <tr>\n",
       "            <td>7ab7862c-4c57-491e-8a45-d52a7e023983</td>\n",
       "            <td>POST</td>\n",
       "            <td>CreateSession</td>\n",
       "            <td>_api/createSession</td>\n",
       "            <td>fbc17bf3-bd4f-4065-84fa-d72855f21c07</td>\n",
       "            <td>504</td>\n",
       "            <td>WrongClusterException</td>\n",
       "            <td>2</td>\n",
       "        </tr>\n",
       "        <tr>\n",
       "            <td>7ab7862c-4c57-491e-8a45-d52a7e023983</td>\n",
       "            <td>POST</td>\n",
       "            <td>CreateSession</td>\n",
       "            <td>_api/createSession</td>\n",
       "            <td>9278dcf6-3e67-490e-8b58-951f18bd0382</td>\n",
       "            <td>504</td>\n",
       "            <td></td>\n",
       "            <td>2</td>\n",
       "        </tr>\n",
       "        <tr>\n",
       "            <td>7ab7862c-4c57-491e-8a45-d52a7e023983</td>\n",
       "            <td>POST</td>\n",
       "            <td>CreateSession</td>\n",
       "            <td>_api/createSession</td>\n",
       "            <td>bf352758-cf67-4c22-806b-19187f502f3b</td>\n",
       "            <td>504</td>\n",
       "            <td></td>\n",
       "            <td>2</td>\n",
       "        </tr>\n",
       "        <tr>\n",
       "            <td>7ab7862c-4c57-491e-8a45-d52a7e023983</td>\n",
       "            <td>POST</td>\n",
       "            <td>CreateSession</td>\n",
       "            <td>_api/createSession</td>\n",
       "            <td>662b5cdb-c143-4247-849a-301dabde16b5</td>\n",
       "            <td>504</td>\n",
       "            <td>GenericFileOpenError</td>\n",
       "            <td>2</td>\n",
       "        </tr>\n",
       "        <tr>\n",
       "            <td>7ab7862c-4c57-491e-8a45-d52a7e023983</td>\n",
       "            <td>POST</td>\n",
       "            <td>CreateSession</td>\n",
       "            <td>_api/createSession</td>\n",
       "            <td>b0c848b6-f3d8-41cb-9325-52a7e7c948d8</td>\n",
       "            <td>504</td>\n",
       "            <td>WrongClusterException</td>\n",
       "            <td>2</td>\n",
       "        </tr>\n",
       "        <tr>\n",
       "            <td>7ab7862c-4c57-491e-8a45-d52a7e023983</td>\n",
       "            <td>POST</td>\n",
       "            <td>CreateSession</td>\n",
       "            <td>_api/createSession</td>\n",
       "            <td>480574f7-47e4-423a-8f60-6ddf65cf6b45</td>\n",
       "            <td>504</td>\n",
       "            <td></td>\n",
       "            <td>2</td>\n",
       "        </tr>\n",
       "        <tr>\n",
       "            <td>7ab7862c-4c57-491e-8a45-d52a7e023983</td>\n",
       "            <td>POST</td>\n",
       "            <td>CreateSession</td>\n",
       "            <td>_api/createSession</td>\n",
       "            <td>94308f3d-219b-4e23-b447-cf73f015c93d</td>\n",
       "            <td>504</td>\n",
       "            <td></td>\n",
       "            <td>2</td>\n",
       "        </tr>\n",
       "        <tr>\n",
       "            <td>7ab7862c-4c57-491e-8a45-d52a7e023983</td>\n",
       "            <td>POST</td>\n",
       "            <td>CreateSession</td>\n",
       "            <td>_api/createSession</td>\n",
       "            <td>de27760d-65eb-48d5-9ff2-739d1867bd15</td>\n",
       "            <td>504</td>\n",
       "            <td></td>\n",
       "            <td>2</td>\n",
       "        </tr>\n",
       "        <tr>\n",
       "            <td>7ab7862c-4c57-491e-8a45-d52a7e023983</td>\n",
       "            <td>POST</td>\n",
       "            <td>CreateSession</td>\n",
       "            <td>_api/createSession</td>\n",
       "            <td>2bd7e8b9-0f13-4cdd-9d55-a2da9712cfcc</td>\n",
       "            <td>504</td>\n",
       "            <td>GenericFileOpenError</td>\n",
       "            <td>2</td>\n",
       "        </tr>\n",
       "        <tr>\n",
       "            <td>7ab7862c-4c57-491e-8a45-d52a7e023983</td>\n",
       "            <td>POST</td>\n",
       "            <td>CreateSession</td>\n",
       "            <td>_api/createSession</td>\n",
       "            <td>21e08be3-36a0-4a3e-aba6-f8f19cb49d44</td>\n",
       "            <td>504</td>\n",
       "            <td>WrongClusterException</td>\n",
       "            <td>2</td>\n",
       "        </tr>\n",
       "        <tr>\n",
       "            <td>7ab7862c-4c57-491e-8a45-d52a7e023983</td>\n",
       "            <td>POST</td>\n",
       "            <td>CreateSession</td>\n",
       "            <td>_api/createSession</td>\n",
       "            <td>b8a988fc-6bf7-497e-ba4c-cfa2f2543c4c</td>\n",
       "            <td>504</td>\n",
       "            <td>DeploymentRetryError</td>\n",
       "            <td>2</td>\n",
       "        </tr>\n",
       "        <tr>\n",
       "            <td>7ab7862c-4c57-491e-8a45-d52a7e023983</td>\n",
       "            <td>POST</td>\n",
       "            <td>CreateSession</td>\n",
       "            <td>_api/createSession</td>\n",
       "            <td>9177f216-9eff-4293-993c-0a98bb54e60b</td>\n",
       "            <td>504</td>\n",
       "            <td>WrongClusterException</td>\n",
       "            <td>2</td>\n",
       "        </tr>\n",
       "        <tr>\n",
       "            <td>7ab7862c-4c57-491e-8a45-d52a7e023983</td>\n",
       "            <td>POST</td>\n",
       "            <td>CreateSession</td>\n",
       "            <td>_api/createSession</td>\n",
       "            <td>ef165d58-6cda-4704-b61b-a417a91040e7</td>\n",
       "            <td>504</td>\n",
       "            <td>GenericFileOpenError</td>\n",
       "            <td>2</td>\n",
       "        </tr>\n",
       "        <tr>\n",
       "            <td>7ab7862c-4c57-491e-8a45-d52a7e023983</td>\n",
       "            <td>POST</td>\n",
       "            <td>CreateSession</td>\n",
       "            <td>_api/createSession</td>\n",
       "            <td>8ee9f3bf-e1a2-4a01-9d30-02d7606b3e84</td>\n",
       "            <td>504</td>\n",
       "            <td></td>\n",
       "            <td>2</td>\n",
       "        </tr>\n",
       "        <tr>\n",
       "            <td>7ab7862c-4c57-491e-8a45-d52a7e023983</td>\n",
       "            <td>POST</td>\n",
       "            <td>CreateSession</td>\n",
       "            <td>_api/createSession</td>\n",
       "            <td>ac2676c6-458e-471e-981c-d52c262adb79</td>\n",
       "            <td>504</td>\n",
       "            <td>WrongClusterException</td>\n",
       "            <td>2</td>\n",
       "        </tr>\n",
       "        <tr>\n",
       "            <td>7ab7862c-4c57-491e-8a45-d52a7e023983</td>\n",
       "            <td>POST</td>\n",
       "            <td>CreateSession</td>\n",
       "            <td>_api/createSession</td>\n",
       "            <td>eeadfc44-ca36-45ea-9948-d76a945acb19</td>\n",
       "            <td>504</td>\n",
       "            <td>WrongClusterException</td>\n",
       "            <td>2</td>\n",
       "        </tr>\n",
       "        <tr>\n",
       "            <td>7ab7862c-4c57-491e-8a45-d52a7e023983</td>\n",
       "            <td>POST</td>\n",
       "            <td>CreateSession</td>\n",
       "            <td>_api/createSession</td>\n",
       "            <td>1a0c68ab-f046-4cba-93b0-c939780c02ee</td>\n",
       "            <td>504</td>\n",
       "            <td>DeploymentRetryError</td>\n",
       "            <td>2</td>\n",
       "        </tr>\n",
       "        <tr>\n",
       "            <td>7ab7862c-4c57-491e-8a45-d52a7e023983</td>\n",
       "            <td>POST</td>\n",
       "            <td>CreateSession</td>\n",
       "            <td>_api/createSession</td>\n",
       "            <td>2ef0da62-8fca-4529-9d04-6fd4e38e43c7</td>\n",
       "            <td>504</td>\n",
       "            <td></td>\n",
       "            <td>2</td>\n",
       "        </tr>\n",
       "        <tr>\n",
       "            <td>7ab7862c-4c57-491e-8a45-d52a7e023983</td>\n",
       "            <td>POST</td>\n",
       "            <td>CreateSession</td>\n",
       "            <td>_api/createSession</td>\n",
       "            <td>f2cf21a7-6915-4147-a98b-2a879f397457</td>\n",
       "            <td>504</td>\n",
       "            <td>WrongClusterException</td>\n",
       "            <td>2</td>\n",
       "        </tr>\n",
       "        <tr>\n",
       "            <td>7ab7862c-4c57-491e-8a45-d52a7e023983</td>\n",
       "            <td>POST</td>\n",
       "            <td>CreateSession</td>\n",
       "            <td>_api/createSession</td>\n",
       "            <td>ca4b4d26-d468-4205-9463-6cad16590015</td>\n",
       "            <td>504</td>\n",
       "            <td>WrongClusterException</td>\n",
       "            <td>2</td>\n",
       "        </tr>\n",
       "        <tr>\n",
       "            <td>7ab7862c-4c57-491e-8a45-d52a7e023983</td>\n",
       "            <td>POST</td>\n",
       "            <td>CreateSession</td>\n",
       "            <td>_api/createSession</td>\n",
       "            <td>c1940b2b-a876-41d3-9727-2b15a7707c37</td>\n",
       "            <td>504</td>\n",
       "            <td></td>\n",
       "            <td>2</td>\n",
       "        </tr>\n",
       "        <tr>\n",
       "            <td>7ab7862c-4c57-491e-8a45-d52a7e023983</td>\n",
       "            <td>POST</td>\n",
       "            <td>CreateSession</td>\n",
       "            <td>_api/createSession</td>\n",
       "            <td>2ef0da62-8fca-4529-9d04-6fd4e38e43c7</td>\n",
       "            <td>504</td>\n",
       "            <td>WrongClusterException</td>\n",
       "            <td>2</td>\n",
       "        </tr>\n",
       "        <tr>\n",
       "            <td>7ab7862c-4c57-491e-8a45-d52a7e023983</td>\n",
       "            <td>POST</td>\n",
       "            <td>CreateSession</td>\n",
       "            <td>_api/createSession</td>\n",
       "            <td>fd6491bb-d15a-4c20-ae7a-1c31e9f5d36b</td>\n",
       "            <td>504</td>\n",
       "            <td>WrongClusterException</td>\n",
       "            <td>2</td>\n",
       "        </tr>\n",
       "        <tr>\n",
       "            <td>7ab7862c-4c57-491e-8a45-d52a7e023983</td>\n",
       "            <td>POST</td>\n",
       "            <td>CreateSession</td>\n",
       "            <td>_api/createSession</td>\n",
       "            <td>cfb0e0be-8a07-4c95-ae4a-28d4082b4292</td>\n",
       "            <td>504</td>\n",
       "            <td>WrongClusterException</td>\n",
       "            <td>2</td>\n",
       "        </tr>\n",
       "        <tr>\n",
       "            <td>7ab7862c-4c57-491e-8a45-d52a7e023983</td>\n",
       "            <td>POST</td>\n",
       "            <td>CreateSession</td>\n",
       "            <td>_api/createSession</td>\n",
       "            <td>16bcedf2-eefc-4f23-9e6c-a970802efb42</td>\n",
       "            <td>504</td>\n",
       "            <td></td>\n",
       "            <td>1</td>\n",
       "        </tr>\n",
       "        <tr>\n",
       "            <td>7ab7862c-4c57-491e-8a45-d52a7e023983</td>\n",
       "            <td>POST</td>\n",
       "            <td>CreateSession</td>\n",
       "            <td>_api/createSession</td>\n",
       "            <td>a56cfbc3-0bde-42e9-b16a-0f5e8953c9cf</td>\n",
       "            <td>504</td>\n",
       "            <td>WrongClusterException</td>\n",
       "            <td>1</td>\n",
       "        </tr>\n",
       "        <tr>\n",
       "            <td>7ab7862c-4c57-491e-8a45-d52a7e023983</td>\n",
       "            <td>POST</td>\n",
       "            <td>CreateSession</td>\n",
       "            <td>_api/createSession</td>\n",
       "            <td>dae40ab9-5c6d-46d9-8d95-a24847eedcca</td>\n",
       "            <td>504</td>\n",
       "            <td>WrongClusterException</td>\n",
       "            <td>1</td>\n",
       "        </tr>\n",
       "        <tr>\n",
       "            <td>7ab7862c-4c57-491e-8a45-d52a7e023983</td>\n",
       "            <td>POST</td>\n",
       "            <td>CreateSession</td>\n",
       "            <td>_api/createSession</td>\n",
       "            <td>19131669-f0ff-40d2-b381-f1afefb92193</td>\n",
       "            <td>504</td>\n",
       "            <td></td>\n",
       "            <td>1</td>\n",
       "        </tr>\n",
       "        <tr>\n",
       "            <td>00000003-0000-0ff1-ce00-000000000000</td>\n",
       "            <td>GET</td>\n",
       "            <td>Sessionless</td>\n",
       "            <td>_api/tables(*)/rows</td>\n",
       "            <td>d7b2d700-d361-44da-a744-2534051705f5</td>\n",
       "            <td>504</td>\n",
       "            <td>MaxRequestDurationExceeded</td>\n",
       "            <td>1</td>\n",
       "        </tr>\n",
       "        <tr>\n",
       "            <td>7ab7862c-4c57-491e-8a45-d52a7e023983</td>\n",
       "            <td>POST</td>\n",
       "            <td>CreateSession</td>\n",
       "            <td>_api/createSession</td>\n",
       "            <td>cd892cc9-a05b-4849-9aaa-c4e39558ad93</td>\n",
       "            <td>504</td>\n",
       "            <td>DeploymentRetryError</td>\n",
       "            <td>1</td>\n",
       "        </tr>\n",
       "        <tr>\n",
       "            <td>7ab7862c-4c57-491e-8a45-d52a7e023983</td>\n",
       "            <td>POST</td>\n",
       "            <td>CreateSession</td>\n",
       "            <td>_api/createSession</td>\n",
       "            <td>981fe09f-33cf-4916-9592-b745b3fec3f9</td>\n",
       "            <td>504</td>\n",
       "            <td>WrongClusterException</td>\n",
       "            <td>1</td>\n",
       "        </tr>\n",
       "        <tr>\n",
       "            <td>7ab7862c-4c57-491e-8a45-d52a7e023983</td>\n",
       "            <td>POST</td>\n",
       "            <td>CreateSession</td>\n",
       "            <td>_api/createSession</td>\n",
       "            <td>662b5cdb-c143-4247-849a-301dabde16b5</td>\n",
       "            <td>504</td>\n",
       "            <td></td>\n",
       "            <td>1</td>\n",
       "        </tr>\n",
       "        <tr>\n",
       "            <td>7ab7862c-4c57-491e-8a45-d52a7e023983</td>\n",
       "            <td>POST</td>\n",
       "            <td>CreateSession</td>\n",
       "            <td>_api/createSession</td>\n",
       "            <td>dfe94a71-3a30-407e-9d58-2eea60ecbc86</td>\n",
       "            <td>504</td>\n",
       "            <td>WrongClusterException</td>\n",
       "            <td>1</td>\n",
       "        </tr>\n",
       "        <tr>\n",
       "            <td>16b08399-ae5d-4a7a-b254-cfd715cb422e</td>\n",
       "            <td>PATCH</td>\n",
       "            <td>Sessionless</td>\n",
       "            <td>_api/worksheets(*)/range(*)</td>\n",
       "            <td>be5d3765-6d8e-4538-bb4b-778bb4c6d3e8</td>\n",
       "            <td>504</td>\n",
       "            <td>WrongClusterException</td>\n",
       "            <td>1</td>\n",
       "        </tr>\n",
       "        <tr>\n",
       "            <td>7ab7862c-4c57-491e-8a45-d52a7e023983</td>\n",
       "            <td>POST</td>\n",
       "            <td>CreateSession</td>\n",
       "            <td>_api/createSession</td>\n",
       "            <td>e5b9c333-bdbb-4596-a19a-82d7194fe3e8</td>\n",
       "            <td>504</td>\n",
       "            <td></td>\n",
       "            <td>1</td>\n",
       "        </tr>\n",
       "        <tr>\n",
       "            <td>7ab7862c-4c57-491e-8a45-d52a7e023983</td>\n",
       "            <td>POST</td>\n",
       "            <td>CreateSession</td>\n",
       "            <td>_api/createSession</td>\n",
       "            <td>21e08be3-36a0-4a3e-aba6-f8f19cb49d44</td>\n",
       "            <td>504</td>\n",
       "            <td></td>\n",
       "            <td>1</td>\n",
       "        </tr>\n",
       "        <tr>\n",
       "            <td>7ab7862c-4c57-491e-8a45-d52a7e023983</td>\n",
       "            <td>POST</td>\n",
       "            <td>CreateSession</td>\n",
       "            <td>_api/createSession</td>\n",
       "            <td>e3392bbe-3a21-403f-9bd5-3d02dc99dfa5</td>\n",
       "            <td>504</td>\n",
       "            <td>GenericFileOpenError</td>\n",
       "            <td>1</td>\n",
       "        </tr>\n",
       "        <tr>\n",
       "            <td>7ab7862c-4c57-491e-8a45-d52a7e023983</td>\n",
       "            <td>POST</td>\n",
       "            <td>CreateSession</td>\n",
       "            <td>_api/createSession</td>\n",
       "            <td>596047ad-f7a2-440c-b5b9-ec09e4875c7a</td>\n",
       "            <td>504</td>\n",
       "            <td></td>\n",
       "            <td>1</td>\n",
       "        </tr>\n",
       "        <tr>\n",
       "            <td>7ab7862c-4c57-491e-8a45-d52a7e023983</td>\n",
       "            <td>POST</td>\n",
       "            <td>CreateSession</td>\n",
       "            <td>_api/createSession</td>\n",
       "            <td>a87bee01-5174-4819-a3cf-3619da3ac900</td>\n",
       "            <td>504</td>\n",
       "            <td></td>\n",
       "            <td>1</td>\n",
       "        </tr>\n",
       "        <tr>\n",
       "            <td>7ab7862c-4c57-491e-8a45-d52a7e023983</td>\n",
       "            <td>POST</td>\n",
       "            <td>CreateSession</td>\n",
       "            <td>_api/createSession</td>\n",
       "            <td>173f813c-eac4-4655-9f66-9498838faa50</td>\n",
       "            <td>504</td>\n",
       "            <td>WrongClusterException</td>\n",
       "            <td>1</td>\n",
       "        </tr>\n",
       "        <tr>\n",
       "            <td>7ab7862c-4c57-491e-8a45-d52a7e023983</td>\n",
       "            <td>POST</td>\n",
       "            <td>CreateSession</td>\n",
       "            <td>_api/createSession</td>\n",
       "            <td>ffaf7de1-3735-4a68-980f-e2cafa79adf1</td>\n",
       "            <td>504</td>\n",
       "            <td></td>\n",
       "            <td>1</td>\n",
       "        </tr>\n",
       "        <tr>\n",
       "            <td>7ab7862c-4c57-491e-8a45-d52a7e023983</td>\n",
       "            <td>POST</td>\n",
       "            <td>CreateSession</td>\n",
       "            <td>_api/createSession</td>\n",
       "            <td>fd7e62fe-9bf0-49b5-b540-5244dba16b8c</td>\n",
       "            <td>504</td>\n",
       "            <td></td>\n",
       "            <td>1</td>\n",
       "        </tr>\n",
       "        <tr>\n",
       "            <td>7ab7862c-4c57-491e-8a45-d52a7e023983</td>\n",
       "            <td>POST</td>\n",
       "            <td>CreateSession</td>\n",
       "            <td>_api/createSession</td>\n",
       "            <td>7b2e3be8-c12a-4d8b-b36c-407b60f14055</td>\n",
       "            <td>504</td>\n",
       "            <td>WrongClusterException</td>\n",
       "            <td>1</td>\n",
       "        </tr>\n",
       "        <tr>\n",
       "            <td>7ab7862c-4c57-491e-8a45-d52a7e023983</td>\n",
       "            <td>POST</td>\n",
       "            <td>CreateSession</td>\n",
       "            <td>_api/createSession</td>\n",
       "            <td>3f63a050-2b14-4291-a679-75302bbba184</td>\n",
       "            <td>504</td>\n",
       "            <td>WrongClusterException</td>\n",
       "            <td>1</td>\n",
       "        </tr>\n",
       "        <tr>\n",
       "            <td>7ab7862c-4c57-491e-8a45-d52a7e023983</td>\n",
       "            <td>POST</td>\n",
       "            <td>CreateSession</td>\n",
       "            <td>_api/createSession</td>\n",
       "            <td>88c877ce-d60c-42b0-9b48-b2e72a8b80ae</td>\n",
       "            <td>504</td>\n",
       "            <td></td>\n",
       "            <td>1</td>\n",
       "        </tr>\n",
       "        <tr>\n",
       "            <td>7ab7862c-4c57-491e-8a45-d52a7e023983</td>\n",
       "            <td>POST</td>\n",
       "            <td>CreateSession</td>\n",
       "            <td>_api/createSession</td>\n",
       "            <td>ea98da91-5763-4410-8224-2296c77d1f18</td>\n",
       "            <td>504</td>\n",
       "            <td></td>\n",
       "            <td>1</td>\n",
       "        </tr>\n",
       "        <tr>\n",
       "            <td>7ab7862c-4c57-491e-8a45-d52a7e023983</td>\n",
       "            <td>POST</td>\n",
       "            <td>CreateSession</td>\n",
       "            <td>_api/createSession</td>\n",
       "            <td>e9d311b1-6766-4eff-916c-0b1640658d7b</td>\n",
       "            <td>504</td>\n",
       "            <td></td>\n",
       "            <td>1</td>\n",
       "        </tr>\n",
       "        <tr>\n",
       "            <td>7ab7862c-4c57-491e-8a45-d52a7e023983</td>\n",
       "            <td>POST</td>\n",
       "            <td>CreateSession</td>\n",
       "            <td>_api/createSession</td>\n",
       "            <td>976137fd-3f79-4915-b131-6b3f4d50f573</td>\n",
       "            <td>504</td>\n",
       "            <td></td>\n",
       "            <td>1</td>\n",
       "        </tr>\n",
       "        <tr>\n",
       "            <td>7ab7862c-4c57-491e-8a45-d52a7e023983</td>\n",
       "            <td>POST</td>\n",
       "            <td>CreateSession</td>\n",
       "            <td>_api/createSession</td>\n",
       "            <td>3f63a050-2b14-4291-a679-75302bbba184</td>\n",
       "            <td>504</td>\n",
       "            <td>DeploymentRetryError</td>\n",
       "            <td>1</td>\n",
       "        </tr>\n",
       "        <tr>\n",
       "            <td>7ab7862c-4c57-491e-8a45-d52a7e023983</td>\n",
       "            <td>POST</td>\n",
       "            <td>CreateSession</td>\n",
       "            <td>_api/createSession</td>\n",
       "            <td>bf89907a-f73e-4b83-b9d0-09a8a435ec04</td>\n",
       "            <td>504</td>\n",
       "            <td>WrongClusterException</td>\n",
       "            <td>1</td>\n",
       "        </tr>\n",
       "        <tr>\n",
       "            <td>7ab7862c-4c57-491e-8a45-d52a7e023983</td>\n",
       "            <td>POST</td>\n",
       "            <td>CreateSession</td>\n",
       "            <td>_api/createSession</td>\n",
       "            <td>556acf9d-cbe4-42f6-8c42-a647a2e0ca02</td>\n",
       "            <td>504</td>\n",
       "            <td>WrongClusterException</td>\n",
       "            <td>1</td>\n",
       "        </tr>\n",
       "        <tr>\n",
       "            <td>7ab7862c-4c57-491e-8a45-d52a7e023983</td>\n",
       "            <td>POST</td>\n",
       "            <td>CreateSession</td>\n",
       "            <td>_api/createSession</td>\n",
       "            <td>b0c848b6-f3d8-41cb-9325-52a7e7c948d8</td>\n",
       "            <td>504</td>\n",
       "            <td></td>\n",
       "            <td>1</td>\n",
       "        </tr>\n",
       "        <tr>\n",
       "            <td>7ab7862c-4c57-491e-8a45-d52a7e023983</td>\n",
       "            <td>POST</td>\n",
       "            <td>CreateSession</td>\n",
       "            <td>_api/createSession</td>\n",
       "            <td>eeadfc44-ca36-45ea-9948-d76a945acb19</td>\n",
       "            <td>504</td>\n",
       "            <td></td>\n",
       "            <td>1</td>\n",
       "        </tr>\n",
       "        <tr>\n",
       "            <td>00000003-0000-0ff1-ce00-000000000000</td>\n",
       "            <td>GET</td>\n",
       "            <td>Sessionless</td>\n",
       "            <td>_api/tables(*)/dataBodyRange/rowCount</td>\n",
       "            <td></td>\n",
       "            <td>504</td>\n",
       "            <td>FileOpenBaseDocumentCheckHostTimeout</td>\n",
       "            <td>1</td>\n",
       "        </tr>\n",
       "        <tr>\n",
       "            <td>7ab7862c-4c57-491e-8a45-d52a7e023983</td>\n",
       "            <td>POST</td>\n",
       "            <td>CreateSession</td>\n",
       "            <td>_api/createSession</td>\n",
       "            <td>0fefe52c-2ace-4369-8f86-3d211227f25c</td>\n",
       "            <td>504</td>\n",
       "            <td></td>\n",
       "            <td>1</td>\n",
       "        </tr>\n",
       "        <tr>\n",
       "            <td>7ab7862c-4c57-491e-8a45-d52a7e023983</td>\n",
       "            <td>POST</td>\n",
       "            <td>CreateSession</td>\n",
       "            <td>_api/createSession</td>\n",
       "            <td>4ec88a6f-040d-48b8-a259-faaa5ced2c27</td>\n",
       "            <td>504</td>\n",
       "            <td></td>\n",
       "            <td>1</td>\n",
       "        </tr>\n",
       "        <tr>\n",
       "            <td>7ab7862c-4c57-491e-8a45-d52a7e023983</td>\n",
       "            <td>POST</td>\n",
       "            <td>CreateSession</td>\n",
       "            <td>_api/createSession</td>\n",
       "            <td>a1c6ca10-4a49-415d-9df7-ba4e92b22173</td>\n",
       "            <td>504</td>\n",
       "            <td></td>\n",
       "            <td>1</td>\n",
       "        </tr>\n",
       "        <tr>\n",
       "            <td>7ab7862c-4c57-491e-8a45-d52a7e023983</td>\n",
       "            <td>POST</td>\n",
       "            <td>CreateSession</td>\n",
       "            <td>_api/createSession</td>\n",
       "            <td>025cc8b9-bb7d-43c3-bd4e-a48c9ad45018</td>\n",
       "            <td>504</td>\n",
       "            <td></td>\n",
       "            <td>1</td>\n",
       "        </tr>\n",
       "        <tr>\n",
       "            <td>7ab7862c-4c57-491e-8a45-d52a7e023983</td>\n",
       "            <td>POST</td>\n",
       "            <td>CreateSession</td>\n",
       "            <td>_api/createSession</td>\n",
       "            <td>1a31c083-61b3-4696-8cc4-fd200d38284b</td>\n",
       "            <td>504</td>\n",
       "            <td>WrongClusterException</td>\n",
       "            <td>1</td>\n",
       "        </tr>\n",
       "        <tr>\n",
       "            <td>00000003-0000-0ff1-ce00-000000000000</td>\n",
       "            <td>GET</td>\n",
       "            <td>Sessionless</td>\n",
       "            <td>_api/tables(*)/rows</td>\n",
       "            <td>165a5189-8e10-41a2-9fcd-c6be536a3d93</td>\n",
       "            <td>504</td>\n",
       "            <td>MaxRequestDurationExceeded</td>\n",
       "            <td>1</td>\n",
       "        </tr>\n",
       "        <tr>\n",
       "            <td>7ab7862c-4c57-491e-8a45-d52a7e023983</td>\n",
       "            <td>POST</td>\n",
       "            <td>CreateSession</td>\n",
       "            <td>_api/createSession</td>\n",
       "            <td>1f676bcc-49db-4f0b-b463-825ab03277d5</td>\n",
       "            <td>504</td>\n",
       "            <td>GenericFileOpenError</td>\n",
       "            <td>1</td>\n",
       "        </tr>\n",
       "        <tr>\n",
       "            <td>7ab7862c-4c57-491e-8a45-d52a7e023983</td>\n",
       "            <td>POST</td>\n",
       "            <td>CreateSession</td>\n",
       "            <td>_api/createSession</td>\n",
       "            <td>0fefe52c-2ace-4369-8f86-3d211227f25c</td>\n",
       "            <td>504</td>\n",
       "            <td>DeploymentRetryError</td>\n",
       "            <td>1</td>\n",
       "        </tr>\n",
       "        <tr>\n",
       "            <td>7ab7862c-4c57-491e-8a45-d52a7e023983</td>\n",
       "            <td>POST</td>\n",
       "            <td>CreateSession</td>\n",
       "            <td>_api/createSession</td>\n",
       "            <td>a4413380-c21b-479d-9172-f4c297230666</td>\n",
       "            <td>504</td>\n",
       "            <td></td>\n",
       "            <td>1</td>\n",
       "        </tr>\n",
       "        <tr>\n",
       "            <td>7ab7862c-4c57-491e-8a45-d52a7e023983</td>\n",
       "            <td>POST</td>\n",
       "            <td>CreateSession</td>\n",
       "            <td>_api/createSession</td>\n",
       "            <td>29f814fe-f9ff-4278-a716-a4600c989448</td>\n",
       "            <td>504</td>\n",
       "            <td>DeploymentRetryError</td>\n",
       "            <td>1</td>\n",
       "        </tr>\n",
       "        <tr>\n",
       "            <td>7ab7862c-4c57-491e-8a45-d52a7e023983</td>\n",
       "            <td>POST</td>\n",
       "            <td>CreateSession</td>\n",
       "            <td>_api/createSession</td>\n",
       "            <td>9177f216-9eff-4293-993c-0a98bb54e60b</td>\n",
       "            <td>504</td>\n",
       "            <td></td>\n",
       "            <td>1</td>\n",
       "        </tr>\n",
       "        <tr>\n",
       "            <td>7ab7862c-4c57-491e-8a45-d52a7e023983</td>\n",
       "            <td>POST</td>\n",
       "            <td>CreateSession</td>\n",
       "            <td>_api/createSession</td>\n",
       "            <td>1a0c68ab-f046-4cba-93b0-c939780c02ee</td>\n",
       "            <td>504</td>\n",
       "            <td></td>\n",
       "            <td>1</td>\n",
       "        </tr>\n",
       "        <tr>\n",
       "            <td>7ab7862c-4c57-491e-8a45-d52a7e023983</td>\n",
       "            <td>POST</td>\n",
       "            <td>CreateSession</td>\n",
       "            <td>_api/createSession</td>\n",
       "            <td>cd892cc9-a05b-4849-9aaa-c4e39558ad93</td>\n",
       "            <td>504</td>\n",
       "            <td></td>\n",
       "            <td>1</td>\n",
       "        </tr>\n",
       "        <tr>\n",
       "            <td>7ab7862c-4c57-491e-8a45-d52a7e023983</td>\n",
       "            <td>POST</td>\n",
       "            <td>CreateSession</td>\n",
       "            <td>_api/createSession</td>\n",
       "            <td>ef165d58-6cda-4704-b61b-a417a91040e7</td>\n",
       "            <td>504</td>\n",
       "            <td></td>\n",
       "            <td>1</td>\n",
       "        </tr>\n",
       "        <tr>\n",
       "            <td>7ab7862c-4c57-491e-8a45-d52a7e023983</td>\n",
       "            <td>GET</td>\n",
       "            <td>Sessionful</td>\n",
       "            <td>_api/tables(*)/rows</td>\n",
       "            <td></td>\n",
       "            <td>504</td>\n",
       "            <td></td>\n",
       "            <td>1</td>\n",
       "        </tr>\n",
       "        <tr>\n",
       "            <td>7ab7862c-4c57-491e-8a45-d52a7e023983</td>\n",
       "            <td>POST</td>\n",
       "            <td>CreateSession</td>\n",
       "            <td>_api/createSession</td>\n",
       "            <td>e5a0e147-5b9d-4f0d-8978-d9a102f1f41e</td>\n",
       "            <td>504</td>\n",
       "            <td></td>\n",
       "            <td>1</td>\n",
       "        </tr>\n",
       "        <tr>\n",
       "            <td>7ab7862c-4c57-491e-8a45-d52a7e023983</td>\n",
       "            <td>POST</td>\n",
       "            <td>CreateSession</td>\n",
       "            <td>_api/createSession</td>\n",
       "            <td>5ed24988-80e0-4c5b-aee0-12db86ebb9a4</td>\n",
       "            <td>504</td>\n",
       "            <td></td>\n",
       "            <td>1</td>\n",
       "        </tr>\n",
       "        <tr>\n",
       "            <td>00000003-0000-0ff1-ce00-000000000000</td>\n",
       "            <td>GET</td>\n",
       "            <td>Sessionless</td>\n",
       "            <td>_api/tables(*)/rows</td>\n",
       "            <td></td>\n",
       "            <td>504</td>\n",
       "            <td>FileOpenBaseDocumentCheckHostTimeout</td>\n",
       "            <td>1</td>\n",
       "        </tr>\n",
       "        <tr>\n",
       "            <td>16b08399-ae5d-4a7a-b254-cfd715cb422e</td>\n",
       "            <td>PATCH</td>\n",
       "            <td>Sessionless</td>\n",
       "            <td>_api/worksheets(*)/range(*)</td>\n",
       "            <td>1e2b94c7-fa1f-4417-a31b-a7f14f84c372</td>\n",
       "            <td>504</td>\n",
       "            <td></td>\n",
       "            <td>1</td>\n",
       "        </tr>\n",
       "        <tr>\n",
       "            <td>7ab7862c-4c57-491e-8a45-d52a7e023983</td>\n",
       "            <td>POST</td>\n",
       "            <td>CreateSession</td>\n",
       "            <td>_api/createSession</td>\n",
       "            <td>53e5e086-1132-45d9-9e95-aec42a0b7b25</td>\n",
       "            <td>504</td>\n",
       "            <td></td>\n",
       "            <td>1</td>\n",
       "        </tr>\n",
       "        <tr>\n",
       "            <td>7ab7862c-4c57-491e-8a45-d52a7e023983</td>\n",
       "            <td>POST</td>\n",
       "            <td>CreateSession</td>\n",
       "            <td>_api/createSession</td>\n",
       "            <td>88c877ce-d60c-42b0-9b48-b2e72a8b80ae</td>\n",
       "            <td>504</td>\n",
       "            <td>GenericFileOpenError</td>\n",
       "            <td>1</td>\n",
       "        </tr>\n",
       "        <tr>\n",
       "            <td>7ab7862c-4c57-491e-8a45-d52a7e023983</td>\n",
       "            <td>POST</td>\n",
       "            <td>CreateSession</td>\n",
       "            <td>_api/createSession</td>\n",
       "            <td>f2cf21a7-6915-4147-a98b-2a879f397457</td>\n",
       "            <td>504</td>\n",
       "            <td>DeploymentRetryError</td>\n",
       "            <td>1</td>\n",
       "        </tr>\n",
       "        <tr>\n",
       "            <td>7ab7862c-4c57-491e-8a45-d52a7e023983</td>\n",
       "            <td>GET</td>\n",
       "            <td>Sessionful</td>\n",
       "            <td>_api/tables(*)/rows</td>\n",
       "            <td></td>\n",
       "            <td>504</td>\n",
       "            <td>ThreadAbortException</td>\n",
       "            <td>1</td>\n",
       "        </tr>\n",
       "        <tr>\n",
       "            <td>7ab7862c-4c57-491e-8a45-d52a7e023983</td>\n",
       "            <td>POST</td>\n",
       "            <td>CreateSession</td>\n",
       "            <td>_api/createSession</td>\n",
       "            <td>40d053e5-1f14-4b9d-8340-342620e875dd</td>\n",
       "            <td>504</td>\n",
       "            <td>DeploymentRetryError</td>\n",
       "            <td>1</td>\n",
       "        </tr>\n",
       "        <tr>\n",
       "            <td>7ab7862c-4c57-491e-8a45-d52a7e023983</td>\n",
       "            <td>POST</td>\n",
       "            <td>CreateSession</td>\n",
       "            <td>_api/createSession</td>\n",
       "            <td>adaaa4c8-3d13-4a46-954c-536d314e3585</td>\n",
       "            <td>504</td>\n",
       "            <td>GenericFileOpenError</td>\n",
       "            <td>1</td>\n",
       "        </tr>\n",
       "        <tr>\n",
       "            <td>7ab7862c-4c57-491e-8a45-d52a7e023983</td>\n",
       "            <td>POST</td>\n",
       "            <td>CreateSession</td>\n",
       "            <td>_api/createSession</td>\n",
       "            <td>844bc5c4-8d87-4920-9483-eec54d8b6163</td>\n",
       "            <td>504</td>\n",
       "            <td>WrongClusterException</td>\n",
       "            <td>1</td>\n",
       "        </tr>\n",
       "        <tr>\n",
       "            <td>00000003-0000-0ff1-ce00-000000000000</td>\n",
       "            <td>GET</td>\n",
       "            <td>Sessionless</td>\n",
       "            <td>_api/tables(*)/rows</td>\n",
       "            <td>de6caf3e-669d-4e99-b1d4-14e90d3d5b5a</td>\n",
       "            <td>504</td>\n",
       "            <td>MaxRequestDurationExceeded</td>\n",
       "            <td>1</td>\n",
       "        </tr>\n",
       "        <tr>\n",
       "            <td>00000003-0000-0ff1-ce00-000000000000</td>\n",
       "            <td>GET</td>\n",
       "            <td>Sessionless</td>\n",
       "            <td>_api/tables</td>\n",
       "            <td>70d60f6a-ed12-4deb-8279-b85a40651121</td>\n",
       "            <td>504</td>\n",
       "            <td>MaxRequestDurationExceeded</td>\n",
       "            <td>1</td>\n",
       "        </tr>\n",
       "        <tr>\n",
       "            <td>7ab7862c-4c57-491e-8a45-d52a7e023983</td>\n",
       "            <td>POST</td>\n",
       "            <td>CreateSession</td>\n",
       "            <td>_api/createSession</td>\n",
       "            <td>5e1d8137-fb32-4e1f-b12a-b09bf02d8d63</td>\n",
       "            <td>504</td>\n",
       "            <td></td>\n",
       "            <td>1</td>\n",
       "        </tr>\n",
       "        <tr>\n",
       "            <td>7ab7862c-4c57-491e-8a45-d52a7e023983</td>\n",
       "            <td>POST</td>\n",
       "            <td>CreateSession</td>\n",
       "            <td>_api/createSession</td>\n",
       "            <td>0fefe52c-2ace-4369-8f86-3d211227f25c</td>\n",
       "            <td>504</td>\n",
       "            <td>WrongClusterException</td>\n",
       "            <td>1</td>\n",
       "        </tr>\n",
       "        <tr>\n",
       "            <td>7ab7862c-4c57-491e-8a45-d52a7e023983</td>\n",
       "            <td>POST</td>\n",
       "            <td>CreateSession</td>\n",
       "            <td>_api/createSession</td>\n",
       "            <td>8ecbcdc1-83fd-4501-b3dd-317c14d3749b</td>\n",
       "            <td>504</td>\n",
       "            <td></td>\n",
       "            <td>1</td>\n",
       "        </tr>\n",
       "        <tr>\n",
       "            <td>7ab7862c-4c57-491e-8a45-d52a7e023983</td>\n",
       "            <td>POST</td>\n",
       "            <td>CreateSession</td>\n",
       "            <td>_api/createSession</td>\n",
       "            <td>bf352758-cf67-4c22-806b-19187f502f3b</td>\n",
       "            <td>504</td>\n",
       "            <td>EditModeCannotAcquireLockUnexpected</td>\n",
       "            <td>1</td>\n",
       "        </tr>\n",
       "        <tr>\n",
       "            <td>7ab7862c-4c57-491e-8a45-d52a7e023983</td>\n",
       "            <td>POST</td>\n",
       "            <td>CreateSession</td>\n",
       "            <td>_api/createSession</td>\n",
       "            <td>d2a8c4c5-e8ad-486b-8e47-2d170bbdce47</td>\n",
       "            <td>504</td>\n",
       "            <td></td>\n",
       "            <td>1</td>\n",
       "        </tr>\n",
       "        <tr>\n",
       "            <td>7ab7862c-4c57-491e-8a45-d52a7e023983</td>\n",
       "            <td>POST</td>\n",
       "            <td>CreateSession</td>\n",
       "            <td>_api/createSession</td>\n",
       "            <td>1d0c4d05-9949-4fc7-82ab-b82c2d1dda34</td>\n",
       "            <td>504</td>\n",
       "            <td></td>\n",
       "            <td>1</td>\n",
       "        </tr>\n",
       "        <tr>\n",
       "            <td>7ab7862c-4c57-491e-8a45-d52a7e023983</td>\n",
       "            <td>POST</td>\n",
       "            <td>CreateSession</td>\n",
       "            <td>_api/createSession</td>\n",
       "            <td>50fa4d59-b5be-46ef-af8c-9b20b438c4e4</td>\n",
       "            <td>504</td>\n",
       "            <td></td>\n",
       "            <td>1</td>\n",
       "        </tr>\n",
       "        <tr>\n",
       "            <td>7ab7862c-4c57-491e-8a45-d52a7e023983</td>\n",
       "            <td>POST</td>\n",
       "            <td>CreateSession</td>\n",
       "            <td>_api/createSession</td>\n",
       "            <td>bf352758-cf67-4c22-806b-19187f502f3b</td>\n",
       "            <td>504</td>\n",
       "            <td>GenericFileOpenError</td>\n",
       "            <td>1</td>\n",
       "        </tr>\n",
       "        <tr>\n",
       "            <td>7ab7862c-4c57-491e-8a45-d52a7e023983</td>\n",
       "            <td>POST</td>\n",
       "            <td>CreateSession</td>\n",
       "            <td>_api/createSession</td>\n",
       "            <td>de27760d-65eb-48d5-9ff2-739d1867bd15</td>\n",
       "            <td>504</td>\n",
       "            <td>WrongClusterException</td>\n",
       "            <td>1</td>\n",
       "        </tr>\n",
       "        <tr>\n",
       "            <td>7ab7862c-4c57-491e-8a45-d52a7e023983</td>\n",
       "            <td>POST</td>\n",
       "            <td>CreateSession</td>\n",
       "            <td>_api/createSession</td>\n",
       "            <td>a1c6ca10-4a49-415d-9df7-ba4e92b22173</td>\n",
       "            <td>504</td>\n",
       "            <td>WrongClusterException</td>\n",
       "            <td>1</td>\n",
       "        </tr>\n",
       "        <tr>\n",
       "            <td>7ab7862c-4c57-491e-8a45-d52a7e023983</td>\n",
       "            <td>POST</td>\n",
       "            <td>CreateSession</td>\n",
       "            <td>_api/createSession</td>\n",
       "            <td>96cdcc1c-aec0-4753-b25e-e9190daca70d</td>\n",
       "            <td>504</td>\n",
       "            <td></td>\n",
       "            <td>1</td>\n",
       "        </tr>\n",
       "        <tr>\n",
       "            <td>7ab7862c-4c57-491e-8a45-d52a7e023983</td>\n",
       "            <td>POST</td>\n",
       "            <td>CreateSession</td>\n",
       "            <td>_api/createSession</td>\n",
       "            <td>596047ad-f7a2-440c-b5b9-ec09e4875c7a</td>\n",
       "            <td>504</td>\n",
       "            <td>WrongClusterException</td>\n",
       "            <td>1</td>\n",
       "        </tr>\n",
       "        <tr>\n",
       "            <td>7ab7862c-4c57-491e-8a45-d52a7e023983</td>\n",
       "            <td>POST</td>\n",
       "            <td>CreateSession</td>\n",
       "            <td>_api/createSession</td>\n",
       "            <td>6a69b172-30ee-4430-ac5f-452e5d54132a</td>\n",
       "            <td>504</td>\n",
       "            <td>EditModeCannotAcquireLockUnexpected</td>\n",
       "            <td>1</td>\n",
       "        </tr>\n",
       "        <tr>\n",
       "            <td>7ab7862c-4c57-491e-8a45-d52a7e023983</td>\n",
       "            <td>POST</td>\n",
       "            <td>CreateSession</td>\n",
       "            <td>_api/createSession</td>\n",
       "            <td>173f813c-eac4-4655-9f66-9498838faa50</td>\n",
       "            <td>504</td>\n",
       "            <td></td>\n",
       "            <td>1</td>\n",
       "        </tr>\n",
       "        <tr>\n",
       "            <td>7ab7862c-4c57-491e-8a45-d52a7e023983</td>\n",
       "            <td>POST</td>\n",
       "            <td>CreateSession</td>\n",
       "            <td>_api/createSession</td>\n",
       "            <td>e5c99ced-3d87-4548-9454-b8ed314bcd2b</td>\n",
       "            <td>504</td>\n",
       "            <td></td>\n",
       "            <td>1</td>\n",
       "        </tr>\n",
       "        <tr>\n",
       "            <td>00000003-0000-0ff1-ce00-000000000000</td>\n",
       "            <td>GET</td>\n",
       "            <td>Sessionless</td>\n",
       "            <td>_api/tables</td>\n",
       "            <td>68bc8d37-e99c-4082-96b8-ff1964eaeea5</td>\n",
       "            <td>504</td>\n",
       "            <td>MaxRequestDurationExceeded</td>\n",
       "            <td>1</td>\n",
       "        </tr>\n",
       "        <tr>\n",
       "            <td>7ab7862c-4c57-491e-8a45-d52a7e023983</td>\n",
       "            <td>POST</td>\n",
       "            <td>CreateSession</td>\n",
       "            <td>_api/createSession</td>\n",
       "            <td>7cc1bf1a-2412-49da-856d-2c4023ecc8cd</td>\n",
       "            <td>504</td>\n",
       "            <td>WrongClusterException</td>\n",
       "            <td>1</td>\n",
       "        </tr>\n",
       "        <tr>\n",
       "            <td>7ab7862c-4c57-491e-8a45-d52a7e023983</td>\n",
       "            <td>POST</td>\n",
       "            <td>CreateSession</td>\n",
       "            <td>_api/createSession</td>\n",
       "            <td>7b2e3be8-c12a-4d8b-b36c-407b60f14055</td>\n",
       "            <td>504</td>\n",
       "            <td></td>\n",
       "            <td>1</td>\n",
       "        </tr>\n",
       "        <tr>\n",
       "            <td>7ab7862c-4c57-491e-8a45-d52a7e023983</td>\n",
       "            <td>POST</td>\n",
       "            <td>CreateSession</td>\n",
       "            <td>_api/createSession</td>\n",
       "            <td>5c2ac3dc-e6fc-486e-8306-9b908a01cc68</td>\n",
       "            <td>504</td>\n",
       "            <td>GenericFileOpenError</td>\n",
       "            <td>1</td>\n",
       "        </tr>\n",
       "        <tr>\n",
       "            <td>7ab7862c-4c57-491e-8a45-d52a7e023983</td>\n",
       "            <td>POST</td>\n",
       "            <td>CreateSession</td>\n",
       "            <td>_api/createSession</td>\n",
       "            <td>5c2ac3dc-e6fc-486e-8306-9b908a01cc68</td>\n",
       "            <td>504</td>\n",
       "            <td>EditModeCannotAcquireLockWorkbookClosed</td>\n",
       "            <td>1</td>\n",
       "        </tr>\n",
       "        <tr>\n",
       "            <td>7ab7862c-4c57-491e-8a45-d52a7e023983</td>\n",
       "            <td>POST</td>\n",
       "            <td>CreateSession</td>\n",
       "            <td>_api/createSession</td>\n",
       "            <td>40d053e5-1f14-4b9d-8340-342620e875dd</td>\n",
       "            <td>504</td>\n",
       "            <td></td>\n",
       "            <td>1</td>\n",
       "        </tr>\n",
       "        <tr>\n",
       "            <td>7ab7862c-4c57-491e-8a45-d52a7e023983</td>\n",
       "            <td>POST</td>\n",
       "            <td>CreateSession</td>\n",
       "            <td>_api/createSession</td>\n",
       "            <td>20eacbce-d51d-403d-ae21-ec1e8d82e1ae</td>\n",
       "            <td>504</td>\n",
       "            <td></td>\n",
       "            <td>1</td>\n",
       "        </tr>\n",
       "        <tr>\n",
       "            <td>7ab7862c-4c57-491e-8a45-d52a7e023983</td>\n",
       "            <td>POST</td>\n",
       "            <td>CreateSession</td>\n",
       "            <td>_api/createSession</td>\n",
       "            <td>a69e14c9-cf7d-44fc-9a98-e84240357e2d</td>\n",
       "            <td>504</td>\n",
       "            <td></td>\n",
       "            <td>1</td>\n",
       "        </tr>\n",
       "        <tr>\n",
       "            <td>7ab7862c-4c57-491e-8a45-d52a7e023983</td>\n",
       "            <td>POST</td>\n",
       "            <td>CreateSession</td>\n",
       "            <td>_api/createSession</td>\n",
       "            <td>e5b9c333-bdbb-4596-a19a-82d7194fe3e8</td>\n",
       "            <td>504</td>\n",
       "            <td>GenericFileOpenError</td>\n",
       "            <td>1</td>\n",
       "        </tr>\n",
       "        <tr>\n",
       "            <td>7ab7862c-4c57-491e-8a45-d52a7e023983</td>\n",
       "            <td>POST</td>\n",
       "            <td>CreateSession</td>\n",
       "            <td>_api/createSession</td>\n",
       "            <td>b7f6eba4-4a46-4c94-9088-ffa6416f2ce1</td>\n",
       "            <td>504</td>\n",
       "            <td></td>\n",
       "            <td>1</td>\n",
       "        </tr>\n",
       "        <tr>\n",
       "            <td>7ab7862c-4c57-491e-8a45-d52a7e023983</td>\n",
       "            <td>POST</td>\n",
       "            <td>CreateSession</td>\n",
       "            <td>_api/createSession</td>\n",
       "            <td>aee2ea9b-90e3-4038-bfa8-26c5bd3c505d</td>\n",
       "            <td>504</td>\n",
       "            <td>WrongClusterException</td>\n",
       "            <td>1</td>\n",
       "        </tr>\n",
       "        <tr>\n",
       "            <td>7ab7862c-4c57-491e-8a45-d52a7e023983</td>\n",
       "            <td>POST</td>\n",
       "            <td>CreateSession</td>\n",
       "            <td>_api/createSession</td>\n",
       "            <td>9177f216-9eff-4293-993c-0a98bb54e60b</td>\n",
       "            <td>504</td>\n",
       "            <td>DeploymentRetryError</td>\n",
       "            <td>1</td>\n",
       "        </tr>\n",
       "        <tr>\n",
       "            <td>7ab7862c-4c57-491e-8a45-d52a7e023983</td>\n",
       "            <td>POST</td>\n",
       "            <td>CreateSession</td>\n",
       "            <td>_api/createSession</td>\n",
       "            <td>8ee9f3bf-e1a2-4a01-9d30-02d7606b3e84</td>\n",
       "            <td>504</td>\n",
       "            <td>EditModeCannotAcquireLockUnexpected</td>\n",
       "            <td>1</td>\n",
       "        </tr>\n",
       "        <tr>\n",
       "            <td>7ab7862c-4c57-491e-8a45-d52a7e023983</td>\n",
       "            <td>POST</td>\n",
       "            <td>CreateSession</td>\n",
       "            <td>_api/createSession</td>\n",
       "            <td>bf89907a-f73e-4b83-b9d0-09a8a435ec04</td>\n",
       "            <td>504</td>\n",
       "            <td>DeploymentRetryError</td>\n",
       "            <td>1</td>\n",
       "        </tr>\n",
       "        <tr>\n",
       "            <td>7ab7862c-4c57-491e-8a45-d52a7e023983</td>\n",
       "            <td>POST</td>\n",
       "            <td>CreateSession</td>\n",
       "            <td>_api/createSession</td>\n",
       "            <td>eeb74ddc-122f-40a0-b09f-cf0220daa75a</td>\n",
       "            <td>504</td>\n",
       "            <td></td>\n",
       "            <td>1</td>\n",
       "        </tr>\n",
       "        <tr>\n",
       "            <td>7ab7862c-4c57-491e-8a45-d52a7e023983</td>\n",
       "            <td>POST</td>\n",
       "            <td>CreateSession</td>\n",
       "            <td>_api/createSession</td>\n",
       "            <td>11cd590d-628a-48f5-abd1-9614fdef2cb2</td>\n",
       "            <td>504</td>\n",
       "            <td></td>\n",
       "            <td>1</td>\n",
       "        </tr>\n",
       "        <tr>\n",
       "            <td>7ab7862c-4c57-491e-8a45-d52a7e023983</td>\n",
       "            <td>POST</td>\n",
       "            <td>CreateSession</td>\n",
       "            <td>_api/createSession</td>\n",
       "            <td>3f63a050-2b14-4291-a679-75302bbba184</td>\n",
       "            <td>504</td>\n",
       "            <td></td>\n",
       "            <td>1</td>\n",
       "        </tr>\n",
       "        <tr>\n",
       "            <td>7ab7862c-4c57-491e-8a45-d52a7e023983</td>\n",
       "            <td>POST</td>\n",
       "            <td>CreateSession</td>\n",
       "            <td>_api/createSession</td>\n",
       "            <td>26b3c754-8859-4268-b0f2-977fb6af7b44</td>\n",
       "            <td>504</td>\n",
       "            <td></td>\n",
       "            <td>1</td>\n",
       "        </tr>\n",
       "        <tr>\n",
       "            <td>7ab7862c-4c57-491e-8a45-d52a7e023983</td>\n",
       "            <td>POST</td>\n",
       "            <td>CreateSession</td>\n",
       "            <td>_api/createSession</td>\n",
       "            <td>ac2676c6-458e-471e-981c-d52c262adb79</td>\n",
       "            <td>504</td>\n",
       "            <td></td>\n",
       "            <td>1</td>\n",
       "        </tr>\n",
       "        <tr>\n",
       "            <td>7ab7862c-4c57-491e-8a45-d52a7e023983</td>\n",
       "            <td>POST</td>\n",
       "            <td>CreateSession</td>\n",
       "            <td>_api/createSession</td>\n",
       "            <td>0880f0e1-30be-4ed1-939d-24ef7841b06d</td>\n",
       "            <td>504</td>\n",
       "            <td>WrongClusterException</td>\n",
       "            <td>1</td>\n",
       "        </tr>\n",
       "        <tr>\n",
       "            <td>7ab7862c-4c57-491e-8a45-d52a7e023983</td>\n",
       "            <td>POST</td>\n",
       "            <td>CreateSession</td>\n",
       "            <td>_api/createSession</td>\n",
       "            <td>eeb74ddc-122f-40a0-b09f-cf0220daa75a</td>\n",
       "            <td>504</td>\n",
       "            <td>WrongClusterException</td>\n",
       "            <td>1</td>\n",
       "        </tr>\n",
       "        <tr>\n",
       "            <td>7ab7862c-4c57-491e-8a45-d52a7e023983</td>\n",
       "            <td>POST</td>\n",
       "            <td>CreateSession</td>\n",
       "            <td>_api/createSession</td>\n",
       "            <td>fd6491bb-d15a-4c20-ae7a-1c31e9f5d36b</td>\n",
       "            <td>504</td>\n",
       "            <td>GenericFileOpenError</td>\n",
       "            <td>1</td>\n",
       "        </tr>\n",
       "        <tr>\n",
       "            <td>7ab7862c-4c57-491e-8a45-d52a7e023983</td>\n",
       "            <td>POST</td>\n",
       "            <td>CreateSession</td>\n",
       "            <td>_api/createSession</td>\n",
       "            <td>917853cf-480f-4002-b7fb-a02e8c2bcce4</td>\n",
       "            <td>504</td>\n",
       "            <td>WrongClusterException</td>\n",
       "            <td>1</td>\n",
       "        </tr>\n",
       "        <tr>\n",
       "            <td>7ab7862c-4c57-491e-8a45-d52a7e023983</td>\n",
       "            <td>POST</td>\n",
       "            <td>CreateSession</td>\n",
       "            <td>_api/createSession</td>\n",
       "            <td>75297fb4-2313-4f7d-9e35-a1ca53641236</td>\n",
       "            <td>504</td>\n",
       "            <td>GenericFileOpenError</td>\n",
       "            <td>1</td>\n",
       "        </tr>\n",
       "        <tr>\n",
       "            <td>7ab7862c-4c57-491e-8a45-d52a7e023983</td>\n",
       "            <td>POST</td>\n",
       "            <td>CreateSession</td>\n",
       "            <td>_api/createSession</td>\n",
       "            <td>e5b9c333-bdbb-4596-a19a-82d7194fe3e8</td>\n",
       "            <td>504</td>\n",
       "            <td>WrongClusterException</td>\n",
       "            <td>1</td>\n",
       "        </tr>\n",
       "        <tr>\n",
       "            <td>16b08399-ae5d-4a7a-b254-cfd715cb422e</td>\n",
       "            <td>PATCH</td>\n",
       "            <td>Sessionless</td>\n",
       "            <td>_api/worksheets(*)/range(*)</td>\n",
       "            <td>3ceaffdd-5830-4b8a-9d80-104b518ec730</td>\n",
       "            <td>504</td>\n",
       "            <td></td>\n",
       "            <td>1</td>\n",
       "        </tr>\n",
       "        <tr>\n",
       "            <td>7ab7862c-4c57-491e-8a45-d52a7e023983</td>\n",
       "            <td>POST</td>\n",
       "            <td>CreateSession</td>\n",
       "            <td>_api/createSession</td>\n",
       "            <td>24884ee6-583d-43c3-a3d0-d87620c6aaca</td>\n",
       "            <td>504</td>\n",
       "            <td>WrongClusterException</td>\n",
       "            <td>1</td>\n",
       "        </tr>\n",
       "        <tr>\n",
       "            <td>7ab7862c-4c57-491e-8a45-d52a7e023983</td>\n",
       "            <td>POST</td>\n",
       "            <td>CreateSession</td>\n",
       "            <td>_api/createSession</td>\n",
       "            <td>81ecdc1d-c2d1-4bd6-835d-f82cf53eaed1</td>\n",
       "            <td>504</td>\n",
       "            <td>WrongClusterException</td>\n",
       "            <td>1</td>\n",
       "        </tr>\n",
       "        <tr>\n",
       "            <td>7ab7862c-4c57-491e-8a45-d52a7e023983</td>\n",
       "            <td>POST</td>\n",
       "            <td>CreateSession</td>\n",
       "            <td>_api/createSession</td>\n",
       "            <td>1d8ddca0-c05e-4ec8-bf37-d556cb155bbe</td>\n",
       "            <td>504</td>\n",
       "            <td></td>\n",
       "            <td>1</td>\n",
       "        </tr>\n",
       "        <tr>\n",
       "            <td>7ab7862c-4c57-491e-8a45-d52a7e023983</td>\n",
       "            <td>POST</td>\n",
       "            <td>CreateSession</td>\n",
       "            <td>_api/createSession</td>\n",
       "            <td>e3392bbe-3a21-403f-9bd5-3d02dc99dfa5</td>\n",
       "            <td>504</td>\n",
       "            <td></td>\n",
       "            <td>1</td>\n",
       "        </tr>\n",
       "        <tr>\n",
       "            <td>7ab7862c-4c57-491e-8a45-d52a7e023983</td>\n",
       "            <td>POST</td>\n",
       "            <td>CreateSession</td>\n",
       "            <td>_api/createSession</td>\n",
       "            <td>0e38d62b-c75e-4349-89f9-09d9a4114c59</td>\n",
       "            <td>504</td>\n",
       "            <td>GenericFileOpenError</td>\n",
       "            <td>1</td>\n",
       "        </tr>\n",
       "        <tr>\n",
       "            <td>7ab7862c-4c57-491e-8a45-d52a7e023983</td>\n",
       "            <td>POST</td>\n",
       "            <td>CreateSession</td>\n",
       "            <td>_api/createSession</td>\n",
       "            <td>4ace0c3a-de1c-4a5c-adc7-e20626012717</td>\n",
       "            <td>504</td>\n",
       "            <td>WrongClusterException</td>\n",
       "            <td>1</td>\n",
       "        </tr>\n",
       "        <tr>\n",
       "            <td>7ab7862c-4c57-491e-8a45-d52a7e023983</td>\n",
       "            <td>POST</td>\n",
       "            <td>CreateSession</td>\n",
       "            <td>_api/createSession</td>\n",
       "            <td>480574f7-47e4-423a-8f60-6ddf65cf6b45</td>\n",
       "            <td>504</td>\n",
       "            <td>WrongClusterException</td>\n",
       "            <td>1</td>\n",
       "        </tr>\n",
       "        <tr>\n",
       "            <td>7ab7862c-4c57-491e-8a45-d52a7e023983</td>\n",
       "            <td>POST</td>\n",
       "            <td>CreateSession</td>\n",
       "            <td>_api/createSession</td>\n",
       "            <td>96cdcc1c-aec0-4753-b25e-e9190daca70d</td>\n",
       "            <td>504</td>\n",
       "            <td>WrongClusterException</td>\n",
       "            <td>1</td>\n",
       "        </tr>\n",
       "        <tr>\n",
       "            <td>7ab7862c-4c57-491e-8a45-d52a7e023983</td>\n",
       "            <td>POST</td>\n",
       "            <td>CreateSession</td>\n",
       "            <td>_api/createSession</td>\n",
       "            <td>49076fde-7e2a-484d-83ad-f9da3b52aa63</td>\n",
       "            <td>504</td>\n",
       "            <td>WrongClusterException</td>\n",
       "            <td>1</td>\n",
       "        </tr>\n",
       "        <tr>\n",
       "            <td>7ab7862c-4c57-491e-8a45-d52a7e023983</td>\n",
       "            <td>POST</td>\n",
       "            <td>CreateSession</td>\n",
       "            <td>_api/createSession</td>\n",
       "            <td>4ec88a6f-040d-48b8-a259-faaa5ced2c27</td>\n",
       "            <td>504</td>\n",
       "            <td>WrongClusterException</td>\n",
       "            <td>1</td>\n",
       "        </tr>\n",
       "        <tr>\n",
       "            <td>7ab7862c-4c57-491e-8a45-d52a7e023983</td>\n",
       "            <td>POST</td>\n",
       "            <td>CreateSession</td>\n",
       "            <td>_api/createSession</td>\n",
       "            <td>ac2ce4fa-4440-48cf-b41d-f8ef1120889a</td>\n",
       "            <td>504</td>\n",
       "            <td></td>\n",
       "            <td>1</td>\n",
       "        </tr>\n",
       "        <tr>\n",
       "            <td>7ab7862c-4c57-491e-8a45-d52a7e023983</td>\n",
       "            <td>POST</td>\n",
       "            <td>CreateSession</td>\n",
       "            <td>_api/createSession</td>\n",
       "            <td>828c96a8-dc54-4303-bcc9-1c5d348e29ee</td>\n",
       "            <td>504</td>\n",
       "            <td>WrongClusterException</td>\n",
       "            <td>1</td>\n",
       "        </tr>\n",
       "        <tr>\n",
       "            <td>7ab7862c-4c57-491e-8a45-d52a7e023983</td>\n",
       "            <td>POST</td>\n",
       "            <td>CreateSession</td>\n",
       "            <td>_api/createSession</td>\n",
       "            <td>d5d978e6-67cd-4b1c-a868-f97c4c9e0add</td>\n",
       "            <td>504</td>\n",
       "            <td></td>\n",
       "            <td>1</td>\n",
       "        </tr>\n",
       "        <tr>\n",
       "            <td>7ab7862c-4c57-491e-8a45-d52a7e023983</td>\n",
       "            <td>POST</td>\n",
       "            <td>CreateSession</td>\n",
       "            <td>_api/createSession</td>\n",
       "            <td>a5de664a-5541-4690-8fe0-786164993e00</td>\n",
       "            <td>504</td>\n",
       "            <td></td>\n",
       "            <td>1</td>\n",
       "        </tr>\n",
       "        <tr>\n",
       "            <td>27db621b-b81f-4db8-bf50-2bbc26727c1b</td>\n",
       "            <td>GET</td>\n",
       "            <td>Sessionless</td>\n",
       "            <td>_api/worksheets</td>\n",
       "            <td></td>\n",
       "            <td>504</td>\n",
       "            <td>FileOpenBaseDocumentCheckHostTimeout</td>\n",
       "            <td>1</td>\n",
       "        </tr>\n",
       "        <tr>\n",
       "            <td>7ab7862c-4c57-491e-8a45-d52a7e023983</td>\n",
       "            <td>POST</td>\n",
       "            <td>CreateSession</td>\n",
       "            <td>_api/createSession</td>\n",
       "            <td>423be1ab-4cbb-4de8-a87a-1a2bc3187a43</td>\n",
       "            <td>504</td>\n",
       "            <td>GenericFileOpenError</td>\n",
       "            <td>1</td>\n",
       "        </tr>\n",
       "        <tr>\n",
       "            <td>00000003-0000-0ff1-ce00-000000000000</td>\n",
       "            <td>GET</td>\n",
       "            <td>Sessionless</td>\n",
       "            <td>_api/tables</td>\n",
       "            <td>bbdba776-8036-40fb-b826-76a325dbf941</td>\n",
       "            <td>504</td>\n",
       "            <td>MaxRequestDurationExceeded</td>\n",
       "            <td>1</td>\n",
       "        </tr>\n",
       "        <tr>\n",
       "            <td>7ab7862c-4c57-491e-8a45-d52a7e023983</td>\n",
       "            <td>POST</td>\n",
       "            <td>CreateSession</td>\n",
       "            <td>_api/createSession</td>\n",
       "            <td>21e08be3-36a0-4a3e-aba6-f8f19cb49d44</td>\n",
       "            <td>504</td>\n",
       "            <td>GenericFileOpenError</td>\n",
       "            <td>1</td>\n",
       "        </tr>\n",
       "        <tr>\n",
       "            <td>7ab7862c-4c57-491e-8a45-d52a7e023983</td>\n",
       "            <td>POST</td>\n",
       "            <td>CreateSession</td>\n",
       "            <td>_api/createSession</td>\n",
       "            <td>a69e14c9-cf7d-44fc-9a98-e84240357e2d</td>\n",
       "            <td>504</td>\n",
       "            <td>WrongClusterException</td>\n",
       "            <td>1</td>\n",
       "        </tr>\n",
       "        <tr>\n",
       "            <td>7ab7862c-4c57-491e-8a45-d52a7e023983</td>\n",
       "            <td>POST</td>\n",
       "            <td>CreateSession</td>\n",
       "            <td>_api/createSession</td>\n",
       "            <td>cd892cc9-a05b-4849-9aaa-c4e39558ad93</td>\n",
       "            <td>504</td>\n",
       "            <td>WrongClusterException</td>\n",
       "            <td>1</td>\n",
       "        </tr>\n",
       "        <tr>\n",
       "            <td>7ab7862c-4c57-491e-8a45-d52a7e023983</td>\n",
       "            <td>POST</td>\n",
       "            <td>CreateSession</td>\n",
       "            <td>_api/createSession</td>\n",
       "            <td>6a9288fe-8437-404b-814f-c4694fd66c6a</td>\n",
       "            <td>504</td>\n",
       "            <td>GenericFileOpenError</td>\n",
       "            <td>1</td>\n",
       "        </tr>\n",
       "        <tr>\n",
       "            <td>7ab7862c-4c57-491e-8a45-d52a7e023983</td>\n",
       "            <td>POST</td>\n",
       "            <td>CreateSession</td>\n",
       "            <td>_api/createSession</td>\n",
       "            <td>b116e266-917d-4597-a181-d778b1c69875</td>\n",
       "            <td>504</td>\n",
       "            <td>WrongClusterException</td>\n",
       "            <td>1</td>\n",
       "        </tr>\n",
       "        <tr>\n",
       "            <td>7ab7862c-4c57-491e-8a45-d52a7e023983</td>\n",
       "            <td>POST</td>\n",
       "            <td>CreateSession</td>\n",
       "            <td>_api/createSession</td>\n",
       "            <td>ca4b4d26-d468-4205-9463-6cad16590015</td>\n",
       "            <td>504</td>\n",
       "            <td></td>\n",
       "            <td>1</td>\n",
       "        </tr>\n",
       "    </tbody>\n",
       "</table>\n",
       "        </body>\n",
       "        </html>"
      ],
      "text/plain": [
       "<IPython.core.display.HTML object>"
      ]
     },
     "metadata": {},
     "output_type": "display_data"
    },
    {
     "data": {
      "text/html": [
       "<html>\n",
       "        <head>\n",
       "            \n",
       "            \n",
       "        </head>\n",
       "        <body>\n",
       "            <div><p style='padding: 10px; color: #3a87ad; background-color: #d9edf7; border-color: #bce9f1'>Done&nbsp;(00:12.309):&nbsp;179&nbsp;records</p></div>\n",
       "        </body>\n",
       "        </html>"
      ],
      "text/plain": [
       "<IPython.core.display.HTML object>"
      ]
     },
     "metadata": {},
     "output_type": "display_data"
    },
    {
     "data": {
      "text/html": [],
      "text/plain": [
       "[{'AppId': '7ab7862c-4c57-491e-8a45-d52a7e023983', 'RequestType': 'POST', 'RestRequestType': 'CreateSession', 'RestPart': '_api/createSession', 'ServerDocId': '', 'responseStatusCode': 504, 'MessageId': 'FileOpenBaseDocumentCheckHostTimeout', 'count_': 924},\n",
       " {'AppId': '7b0293e0-d9c8-4588-acba-05770f5d8715', 'RequestType': 'GET', 'RestRequestType': 'Sessionless', 'RestPart': '_api/worksheets(*)/range(*)', 'ServerDocId': '', 'responseStatusCode': 504, 'MessageId': 'FileOpenBaseDocumentCheckHostTimeout', 'count_': 319},\n",
       " {'AppId': '66f76f32-14b0-4d8d-a3ed-7a614853b50d', 'RequestType': 'GET', 'RestRequestType': 'Sessionless', 'RestPart': '_api/tables(*)/headerRowRange', 'ServerDocId': '', 'responseStatusCode': 504, 'MessageId': 'FileOpenBaseDocumentCheckHostTimeout', 'count_': 54},\n",
       " {'AppId': '808c883f-bb23-4775-a814-535b0069dd2d', 'RequestType': 'POST', 'RestRequestType': 'CreateSession', 'RestPart': '_api/createSession', 'ServerDocId': '', 'responseStatusCode': 504, 'MessageId': 'FileOpenBaseDocumentCheckHostTimeout', 'count_': 50},\n",
       " {'AppId': '66f76f32-14b0-4d8d-a3ed-7a614853b50d', 'RequestType': 'GET', 'RestRequestType': 'Sessionless', 'RestPart': '_api/tables(*)/rows', 'ServerDocId': '', 'responseStatusCode': 504, 'MessageId': 'FileOpenBaseDocumentCheckHostTimeout', 'count_': 17},\n",
       " {'AppId': '7ab7862c-4c57-491e-8a45-d52a7e023983', 'RequestType': 'POST', 'RestRequestType': 'CreateSession', 'RestPart': '_api/createSession', 'ServerDocId': 'b8a988fc-6bf7-497e-ba4c-cfa2f2543c4c', 'responseStatusCode': 504, 'MessageId': 'WrongClusterException', 'count_': 14},\n",
       " {'AppId': '66f76f32-14b0-4d8d-a3ed-7a614853b50d', 'RequestType': 'GET', 'RestRequestType': 'Sessionless', 'RestPart': '_api/tables(*)/headerRowRange', 'ServerDocId': '442002c2-6955-45b0-8070-d139027c8478', 'responseStatusCode': 504, 'MessageId': '', 'count_': 13},\n",
       " {'AppId': '00000003-0000-0ff1-ce00-000000000000', 'RequestType': 'GET', 'RestRequestType': 'Sessionless', 'RestPart': '_api/tables', 'ServerDocId': '', 'responseStatusCode': 504, 'MessageId': 'FileOpenBaseDocumentCheckHostTimeout', 'count_': 12},\n",
       " {'AppId': '16b08399-ae5d-4a7a-b254-cfd715cb422e', 'RequestType': 'PATCH', 'RestRequestType': 'Sessionless', 'RestPart': '_api/worksheets(*)/range(*)', 'ServerDocId': '', 'responseStatusCode': 504, 'MessageId': 'FileOpenBaseDocumentCheckHostTimeout', 'count_': 12},\n",
       " {'AppId': '7ab7862c-4c57-491e-8a45-d52a7e023983', 'RequestType': 'POST', 'RestRequestType': 'CreateSession', 'RestPart': '_api/createSession', 'ServerDocId': 'bf352758-cf67-4c22-806b-19187f502f3b', 'responseStatusCode': 504, 'MessageId': 'WrongClusterException', 'count_': 9},\n",
       " {'AppId': '7ab7862c-4c57-491e-8a45-d52a7e023983', 'RequestType': 'POST', 'RestRequestType': 'Sessionful', 'RestPart': '_api/tables(*)/rows', 'ServerDocId': '', 'responseStatusCode': 504, 'MessageId': 'MaxRequestPendingDuraionExceeded', 'count_': 8},\n",
       " {'AppId': '7ab7862c-4c57-491e-8a45-d52a7e023983', 'RequestType': 'POST', 'RestRequestType': 'CreateSession', 'RestPart': '_api/createSession', 'ServerDocId': 'adaaa4c8-3d13-4a46-954c-536d314e3585', 'responseStatusCode': 504, 'MessageId': 'WrongClusterException', 'count_': 7},\n",
       " {'AppId': '7ab7862c-4c57-491e-8a45-d52a7e023983', 'RequestType': 'POST', 'RestRequestType': 'CreateSession', 'RestPart': '_api/createSession', 'ServerDocId': 'a4413380-c21b-479d-9172-f4c297230666', 'responseStatusCode': 504, 'MessageId': 'WrongClusterException', 'count_': 6},\n",
       " {'AppId': '7ab7862c-4c57-491e-8a45-d52a7e023983', 'RequestType': 'POST', 'RestRequestType': 'CreateSession', 'RestPart': '_api/createSession', 'ServerDocId': '025cc8b9-bb7d-43c3-bd4e-a48c9ad45018', 'responseStatusCode': 504, 'MessageId': 'WrongClusterException', 'count_': 6},\n",
       " {'AppId': '', 'RequestType': '', 'RestRequestType': '', 'RestPart': '', 'ServerDocId': '', 'responseStatusCode': 504, 'MessageId': '', 'count_': 6},\n",
       " {'AppId': '7ab7862c-4c57-491e-8a45-d52a7e023983', 'RequestType': 'POST', 'RestRequestType': 'CreateSession', 'RestPart': '_api/createSession', 'ServerDocId': '87f7ecc1-a4b2-40a9-8e11-5e50f095468e', 'responseStatusCode': 504, 'MessageId': '', 'count_': 5},\n",
       " {'AppId': '7ab7862c-4c57-491e-8a45-d52a7e023983', 'RequestType': 'POST', 'RestRequestType': 'Sessionful', 'RestPart': '_api/tables(*)/rows', 'ServerDocId': '', 'responseStatusCode': 504, 'MessageId': 'ThreadAbortException', 'count_': 5},\n",
       " {'AppId': '7ab7862c-4c57-491e-8a45-d52a7e023983', 'RequestType': 'POST', 'RestRequestType': 'CreateSession', 'RestPart': '_api/createSession', 'ServerDocId': '1a0c68ab-f046-4cba-93b0-c939780c02ee', 'responseStatusCode': 504, 'MessageId': 'WrongClusterException', 'count_': 5},\n",
       " {'AppId': '7ab7862c-4c57-491e-8a45-d52a7e023983', 'RequestType': 'POST', 'RestRequestType': 'CreateSession', 'RestPart': '_api/createSession', 'ServerDocId': '88c877ce-d60c-42b0-9b48-b2e72a8b80ae', 'responseStatusCode': 504, 'MessageId': 'WrongClusterException', 'count_': 4},\n",
       " {'AppId': '7ab7862c-4c57-491e-8a45-d52a7e023983', 'RequestType': 'POST', 'RestRequestType': 'CreateSession', 'RestPart': '_api/createSession', 'ServerDocId': 'e3392bbe-3a21-403f-9bd5-3d02dc99dfa5', 'responseStatusCode': 504, 'MessageId': 'WrongClusterException', 'count_': 4},\n",
       " {'AppId': '7ab7862c-4c57-491e-8a45-d52a7e023983', 'RequestType': 'POST', 'RestRequestType': 'CreateSession', 'RestPart': '_api/createSession', 'ServerDocId': 'b8a988fc-6bf7-497e-ba4c-cfa2f2543c4c', 'responseStatusCode': 504, 'MessageId': '', 'count_': 4},\n",
       " {'AppId': '00000003-0000-0ff1-ce00-000000000000', 'RequestType': 'GET', 'RestRequestType': 'Sessionless', 'RestPart': '_api/tables(*)/columns', 'ServerDocId': '', 'responseStatusCode': 504, 'MessageId': 'FileOpenBaseDocumentCheckHostTimeout', 'count_': 4},\n",
       " {'AppId': '7ab7862c-4c57-491e-8a45-d52a7e023983', 'RequestType': 'POST', 'RestRequestType': 'CreateSession', 'RestPart': '_api/createSession', 'ServerDocId': '662b5cdb-c143-4247-849a-301dabde16b5', 'responseStatusCode': 504, 'MessageId': 'WrongClusterException', 'count_': 4},\n",
       " {'AppId': 'ecd6b820-32c2-49b6-98a6-444530e5a77a', 'RequestType': 'POST', 'RestRequestType': 'CreateSession', 'RestPart': '_api/createSession', 'ServerDocId': '', 'responseStatusCode': 504, 'MessageId': 'FileOpenBaseDocumentCheckHostTimeout', 'count_': 4},\n",
       " {'AppId': '66f76f32-14b0-4d8d-a3ed-7a614853b50d', 'RequestType': 'GET', 'RestRequestType': 'Sessionless', 'RestPart': '_api/tables(*)/rows', 'ServerDocId': '442002c2-6955-45b0-8070-d139027c8478', 'responseStatusCode': 504, 'MessageId': '', 'count_': 4},\n",
       " {'AppId': '7ab7862c-4c57-491e-8a45-d52a7e023983', 'RequestType': 'POST', 'RestRequestType': 'CreateSession', 'RestPart': '_api/createSession', 'ServerDocId': 'ef165d58-6cda-4704-b61b-a417a91040e7', 'responseStatusCode': 504, 'MessageId': 'WrongClusterException', 'count_': 4},\n",
       " {'AppId': '7ab7862c-4c57-491e-8a45-d52a7e023983', 'RequestType': 'POST', 'RestRequestType': 'CreateSession', 'RestPart': '_api/createSession', 'ServerDocId': '8ee9f3bf-e1a2-4a01-9d30-02d7606b3e84', 'responseStatusCode': 504, 'MessageId': 'WrongClusterException', 'count_': 4},\n",
       " {'AppId': '00000003-0000-0ff1-ce00-000000000000', 'RequestType': 'GET', 'RestRequestType': 'Sessionless', 'RestPart': '_api/tables(*)/dataBodyRange/columnCount', 'ServerDocId': '', 'responseStatusCode': 504, 'MessageId': 'FileOpenBaseDocumentCheckHostTimeout', 'count_': 3},\n",
       " {'AppId': '7ab7862c-4c57-491e-8a45-d52a7e023983', 'RequestType': 'POST', 'RestRequestType': 'CreateSession', 'RestPart': '_api/createSession', 'ServerDocId': '025cc8b9-bb7d-43c3-bd4e-a48c9ad45018', 'responseStatusCode': 504, 'MessageId': 'DeploymentRetryError', 'count_': 3},\n",
       " {'AppId': '7ab7862c-4c57-491e-8a45-d52a7e023983', 'RequestType': 'POST', 'RestRequestType': 'CreateSession', 'RestPart': '_api/createSession', 'ServerDocId': 'a5de664a-5541-4690-8fe0-786164993e00', 'responseStatusCode': 504, 'MessageId': 'WrongClusterException', 'count_': 3},\n",
       " {'AppId': '7ab7862c-4c57-491e-8a45-d52a7e023983', 'RequestType': 'POST', 'RestRequestType': 'CreateSession', 'RestPart': '_api/createSession', 'ServerDocId': '24aa9458-ea23-450f-972d-274a4332ca20', 'responseStatusCode': 504, 'MessageId': '', 'count_': 3},\n",
       " {'AppId': '7ab7862c-4c57-491e-8a45-d52a7e023983', 'RequestType': 'POST', 'RestRequestType': 'CreateSession', 'RestPart': '_api/createSession', 'ServerDocId': '24aa9458-ea23-450f-972d-274a4332ca20', 'responseStatusCode': 504, 'MessageId': 'WrongClusterException', 'count_': 3},\n",
       " {'AppId': '4dbd4532-cf3b-4ddb-967d-cf1864f7b3fd', 'RequestType': 'GET', 'RestRequestType': 'Sessionless', 'RestPart': '_api/tables(*)/rows', 'ServerDocId': '', 'responseStatusCode': 504, 'MessageId': 'FileOpenBaseDocumentCheckHostTimeout', 'count_': 2},\n",
       " {'AppId': '7ab7862c-4c57-491e-8a45-d52a7e023983', 'RequestType': 'POST', 'RestRequestType': 'CreateSession', 'RestPart': '_api/createSession', 'ServerDocId': 'fbc17bf3-bd4f-4065-84fa-d72855f21c07', 'responseStatusCode': 504, 'MessageId': 'WrongClusterException', 'count_': 2},\n",
       " {'AppId': '7ab7862c-4c57-491e-8a45-d52a7e023983', 'RequestType': 'POST', 'RestRequestType': 'CreateSession', 'RestPart': '_api/createSession', 'ServerDocId': '9278dcf6-3e67-490e-8b58-951f18bd0382', 'responseStatusCode': 504, 'MessageId': '', 'count_': 2},\n",
       " {'AppId': '7ab7862c-4c57-491e-8a45-d52a7e023983', 'RequestType': 'POST', 'RestRequestType': 'CreateSession', 'RestPart': '_api/createSession', 'ServerDocId': 'bf352758-cf67-4c22-806b-19187f502f3b', 'responseStatusCode': 504, 'MessageId': '', 'count_': 2},\n",
       " {'AppId': '7ab7862c-4c57-491e-8a45-d52a7e023983', 'RequestType': 'POST', 'RestRequestType': 'CreateSession', 'RestPart': '_api/createSession', 'ServerDocId': '662b5cdb-c143-4247-849a-301dabde16b5', 'responseStatusCode': 504, 'MessageId': 'GenericFileOpenError', 'count_': 2},\n",
       " {'AppId': '7ab7862c-4c57-491e-8a45-d52a7e023983', 'RequestType': 'POST', 'RestRequestType': 'CreateSession', 'RestPart': '_api/createSession', 'ServerDocId': 'b0c848b6-f3d8-41cb-9325-52a7e7c948d8', 'responseStatusCode': 504, 'MessageId': 'WrongClusterException', 'count_': 2},\n",
       " {'AppId': '7ab7862c-4c57-491e-8a45-d52a7e023983', 'RequestType': 'POST', 'RestRequestType': 'CreateSession', 'RestPart': '_api/createSession', 'ServerDocId': '480574f7-47e4-423a-8f60-6ddf65cf6b45', 'responseStatusCode': 504, 'MessageId': '', 'count_': 2},\n",
       " {'AppId': '7ab7862c-4c57-491e-8a45-d52a7e023983', 'RequestType': 'POST', 'RestRequestType': 'CreateSession', 'RestPart': '_api/createSession', 'ServerDocId': '94308f3d-219b-4e23-b447-cf73f015c93d', 'responseStatusCode': 504, 'MessageId': '', 'count_': 2},\n",
       " {'AppId': '7ab7862c-4c57-491e-8a45-d52a7e023983', 'RequestType': 'POST', 'RestRequestType': 'CreateSession', 'RestPart': '_api/createSession', 'ServerDocId': 'de27760d-65eb-48d5-9ff2-739d1867bd15', 'responseStatusCode': 504, 'MessageId': '', 'count_': 2},\n",
       " {'AppId': '7ab7862c-4c57-491e-8a45-d52a7e023983', 'RequestType': 'POST', 'RestRequestType': 'CreateSession', 'RestPart': '_api/createSession', 'ServerDocId': '2bd7e8b9-0f13-4cdd-9d55-a2da9712cfcc', 'responseStatusCode': 504, 'MessageId': 'GenericFileOpenError', 'count_': 2},\n",
       " {'AppId': '7ab7862c-4c57-491e-8a45-d52a7e023983', 'RequestType': 'POST', 'RestRequestType': 'CreateSession', 'RestPart': '_api/createSession', 'ServerDocId': '21e08be3-36a0-4a3e-aba6-f8f19cb49d44', 'responseStatusCode': 504, 'MessageId': 'WrongClusterException', 'count_': 2},\n",
       " {'AppId': '7ab7862c-4c57-491e-8a45-d52a7e023983', 'RequestType': 'POST', 'RestRequestType': 'CreateSession', 'RestPart': '_api/createSession', 'ServerDocId': 'b8a988fc-6bf7-497e-ba4c-cfa2f2543c4c', 'responseStatusCode': 504, 'MessageId': 'DeploymentRetryError', 'count_': 2},\n",
       " {'AppId': '7ab7862c-4c57-491e-8a45-d52a7e023983', 'RequestType': 'POST', 'RestRequestType': 'CreateSession', 'RestPart': '_api/createSession', 'ServerDocId': '9177f216-9eff-4293-993c-0a98bb54e60b', 'responseStatusCode': 504, 'MessageId': 'WrongClusterException', 'count_': 2},\n",
       " {'AppId': '7ab7862c-4c57-491e-8a45-d52a7e023983', 'RequestType': 'POST', 'RestRequestType': 'CreateSession', 'RestPart': '_api/createSession', 'ServerDocId': 'ef165d58-6cda-4704-b61b-a417a91040e7', 'responseStatusCode': 504, 'MessageId': 'GenericFileOpenError', 'count_': 2},\n",
       " {'AppId': '7ab7862c-4c57-491e-8a45-d52a7e023983', 'RequestType': 'POST', 'RestRequestType': 'CreateSession', 'RestPart': '_api/createSession', 'ServerDocId': '8ee9f3bf-e1a2-4a01-9d30-02d7606b3e84', 'responseStatusCode': 504, 'MessageId': '', 'count_': 2},\n",
       " {'AppId': '7ab7862c-4c57-491e-8a45-d52a7e023983', 'RequestType': 'POST', 'RestRequestType': 'CreateSession', 'RestPart': '_api/createSession', 'ServerDocId': 'ac2676c6-458e-471e-981c-d52c262adb79', 'responseStatusCode': 504, 'MessageId': 'WrongClusterException', 'count_': 2},\n",
       " {'AppId': '7ab7862c-4c57-491e-8a45-d52a7e023983', 'RequestType': 'POST', 'RestRequestType': 'CreateSession', 'RestPart': '_api/createSession', 'ServerDocId': 'eeadfc44-ca36-45ea-9948-d76a945acb19', 'responseStatusCode': 504, 'MessageId': 'WrongClusterException', 'count_': 2},\n",
       " {'AppId': '7ab7862c-4c57-491e-8a45-d52a7e023983', 'RequestType': 'POST', 'RestRequestType': 'CreateSession', 'RestPart': '_api/createSession', 'ServerDocId': '1a0c68ab-f046-4cba-93b0-c939780c02ee', 'responseStatusCode': 504, 'MessageId': 'DeploymentRetryError', 'count_': 2},\n",
       " {'AppId': '7ab7862c-4c57-491e-8a45-d52a7e023983', 'RequestType': 'POST', 'RestRequestType': 'CreateSession', 'RestPart': '_api/createSession', 'ServerDocId': '2ef0da62-8fca-4529-9d04-6fd4e38e43c7', 'responseStatusCode': 504, 'MessageId': '', 'count_': 2},\n",
       " {'AppId': '7ab7862c-4c57-491e-8a45-d52a7e023983', 'RequestType': 'POST', 'RestRequestType': 'CreateSession', 'RestPart': '_api/createSession', 'ServerDocId': 'f2cf21a7-6915-4147-a98b-2a879f397457', 'responseStatusCode': 504, 'MessageId': 'WrongClusterException', 'count_': 2},\n",
       " {'AppId': '7ab7862c-4c57-491e-8a45-d52a7e023983', 'RequestType': 'POST', 'RestRequestType': 'CreateSession', 'RestPart': '_api/createSession', 'ServerDocId': 'ca4b4d26-d468-4205-9463-6cad16590015', 'responseStatusCode': 504, 'MessageId': 'WrongClusterException', 'count_': 2},\n",
       " {'AppId': '7ab7862c-4c57-491e-8a45-d52a7e023983', 'RequestType': 'POST', 'RestRequestType': 'CreateSession', 'RestPart': '_api/createSession', 'ServerDocId': 'c1940b2b-a876-41d3-9727-2b15a7707c37', 'responseStatusCode': 504, 'MessageId': '', 'count_': 2},\n",
       " {'AppId': '7ab7862c-4c57-491e-8a45-d52a7e023983', 'RequestType': 'POST', 'RestRequestType': 'CreateSession', 'RestPart': '_api/createSession', 'ServerDocId': '2ef0da62-8fca-4529-9d04-6fd4e38e43c7', 'responseStatusCode': 504, 'MessageId': 'WrongClusterException', 'count_': 2},\n",
       " {'AppId': '7ab7862c-4c57-491e-8a45-d52a7e023983', 'RequestType': 'POST', 'RestRequestType': 'CreateSession', 'RestPart': '_api/createSession', 'ServerDocId': 'fd6491bb-d15a-4c20-ae7a-1c31e9f5d36b', 'responseStatusCode': 504, 'MessageId': 'WrongClusterException', 'count_': 2},\n",
       " {'AppId': '7ab7862c-4c57-491e-8a45-d52a7e023983', 'RequestType': 'POST', 'RestRequestType': 'CreateSession', 'RestPart': '_api/createSession', 'ServerDocId': 'cfb0e0be-8a07-4c95-ae4a-28d4082b4292', 'responseStatusCode': 504, 'MessageId': 'WrongClusterException', 'count_': 2},\n",
       " {'AppId': '7ab7862c-4c57-491e-8a45-d52a7e023983', 'RequestType': 'POST', 'RestRequestType': 'CreateSession', 'RestPart': '_api/createSession', 'ServerDocId': '16bcedf2-eefc-4f23-9e6c-a970802efb42', 'responseStatusCode': 504, 'MessageId': '', 'count_': 1},\n",
       " {'AppId': '7ab7862c-4c57-491e-8a45-d52a7e023983', 'RequestType': 'POST', 'RestRequestType': 'CreateSession', 'RestPart': '_api/createSession', 'ServerDocId': 'a56cfbc3-0bde-42e9-b16a-0f5e8953c9cf', 'responseStatusCode': 504, 'MessageId': 'WrongClusterException', 'count_': 1},\n",
       " {'AppId': '7ab7862c-4c57-491e-8a45-d52a7e023983', 'RequestType': 'POST', 'RestRequestType': 'CreateSession', 'RestPart': '_api/createSession', 'ServerDocId': 'dae40ab9-5c6d-46d9-8d95-a24847eedcca', 'responseStatusCode': 504, 'MessageId': 'WrongClusterException', 'count_': 1},\n",
       " {'AppId': '7ab7862c-4c57-491e-8a45-d52a7e023983', 'RequestType': 'POST', 'RestRequestType': 'CreateSession', 'RestPart': '_api/createSession', 'ServerDocId': '19131669-f0ff-40d2-b381-f1afefb92193', 'responseStatusCode': 504, 'MessageId': '', 'count_': 1},\n",
       " {'AppId': '00000003-0000-0ff1-ce00-000000000000', 'RequestType': 'GET', 'RestRequestType': 'Sessionless', 'RestPart': '_api/tables(*)/rows', 'ServerDocId': 'd7b2d700-d361-44da-a744-2534051705f5', 'responseStatusCode': 504, 'MessageId': 'MaxRequestDurationExceeded', 'count_': 1},\n",
       " {'AppId': '7ab7862c-4c57-491e-8a45-d52a7e023983', 'RequestType': 'POST', 'RestRequestType': 'CreateSession', 'RestPart': '_api/createSession', 'ServerDocId': 'cd892cc9-a05b-4849-9aaa-c4e39558ad93', 'responseStatusCode': 504, 'MessageId': 'DeploymentRetryError', 'count_': 1},\n",
       " {'AppId': '7ab7862c-4c57-491e-8a45-d52a7e023983', 'RequestType': 'POST', 'RestRequestType': 'CreateSession', 'RestPart': '_api/createSession', 'ServerDocId': '981fe09f-33cf-4916-9592-b745b3fec3f9', 'responseStatusCode': 504, 'MessageId': 'WrongClusterException', 'count_': 1},\n",
       " {'AppId': '7ab7862c-4c57-491e-8a45-d52a7e023983', 'RequestType': 'POST', 'RestRequestType': 'CreateSession', 'RestPart': '_api/createSession', 'ServerDocId': '662b5cdb-c143-4247-849a-301dabde16b5', 'responseStatusCode': 504, 'MessageId': '', 'count_': 1},\n",
       " {'AppId': '7ab7862c-4c57-491e-8a45-d52a7e023983', 'RequestType': 'POST', 'RestRequestType': 'CreateSession', 'RestPart': '_api/createSession', 'ServerDocId': 'dfe94a71-3a30-407e-9d58-2eea60ecbc86', 'responseStatusCode': 504, 'MessageId': 'WrongClusterException', 'count_': 1},\n",
       " {'AppId': '16b08399-ae5d-4a7a-b254-cfd715cb422e', 'RequestType': 'PATCH', 'RestRequestType': 'Sessionless', 'RestPart': '_api/worksheets(*)/range(*)', 'ServerDocId': 'be5d3765-6d8e-4538-bb4b-778bb4c6d3e8', 'responseStatusCode': 504, 'MessageId': 'WrongClusterException', 'count_': 1},\n",
       " {'AppId': '7ab7862c-4c57-491e-8a45-d52a7e023983', 'RequestType': 'POST', 'RestRequestType': 'CreateSession', 'RestPart': '_api/createSession', 'ServerDocId': 'e5b9c333-bdbb-4596-a19a-82d7194fe3e8', 'responseStatusCode': 504, 'MessageId': '', 'count_': 1},\n",
       " {'AppId': '7ab7862c-4c57-491e-8a45-d52a7e023983', 'RequestType': 'POST', 'RestRequestType': 'CreateSession', 'RestPart': '_api/createSession', 'ServerDocId': '21e08be3-36a0-4a3e-aba6-f8f19cb49d44', 'responseStatusCode': 504, 'MessageId': '', 'count_': 1},\n",
       " {'AppId': '7ab7862c-4c57-491e-8a45-d52a7e023983', 'RequestType': 'POST', 'RestRequestType': 'CreateSession', 'RestPart': '_api/createSession', 'ServerDocId': 'e3392bbe-3a21-403f-9bd5-3d02dc99dfa5', 'responseStatusCode': 504, 'MessageId': 'GenericFileOpenError', 'count_': 1},\n",
       " {'AppId': '7ab7862c-4c57-491e-8a45-d52a7e023983', 'RequestType': 'POST', 'RestRequestType': 'CreateSession', 'RestPart': '_api/createSession', 'ServerDocId': '596047ad-f7a2-440c-b5b9-ec09e4875c7a', 'responseStatusCode': 504, 'MessageId': '', 'count_': 1},\n",
       " {'AppId': '7ab7862c-4c57-491e-8a45-d52a7e023983', 'RequestType': 'POST', 'RestRequestType': 'CreateSession', 'RestPart': '_api/createSession', 'ServerDocId': 'a87bee01-5174-4819-a3cf-3619da3ac900', 'responseStatusCode': 504, 'MessageId': '', 'count_': 1},\n",
       " {'AppId': '7ab7862c-4c57-491e-8a45-d52a7e023983', 'RequestType': 'POST', 'RestRequestType': 'CreateSession', 'RestPart': '_api/createSession', 'ServerDocId': '173f813c-eac4-4655-9f66-9498838faa50', 'responseStatusCode': 504, 'MessageId': 'WrongClusterException', 'count_': 1},\n",
       " {'AppId': '7ab7862c-4c57-491e-8a45-d52a7e023983', 'RequestType': 'POST', 'RestRequestType': 'CreateSession', 'RestPart': '_api/createSession', 'ServerDocId': 'ffaf7de1-3735-4a68-980f-e2cafa79adf1', 'responseStatusCode': 504, 'MessageId': '', 'count_': 1},\n",
       " {'AppId': '7ab7862c-4c57-491e-8a45-d52a7e023983', 'RequestType': 'POST', 'RestRequestType': 'CreateSession', 'RestPart': '_api/createSession', 'ServerDocId': 'fd7e62fe-9bf0-49b5-b540-5244dba16b8c', 'responseStatusCode': 504, 'MessageId': '', 'count_': 1},\n",
       " {'AppId': '7ab7862c-4c57-491e-8a45-d52a7e023983', 'RequestType': 'POST', 'RestRequestType': 'CreateSession', 'RestPart': '_api/createSession', 'ServerDocId': '7b2e3be8-c12a-4d8b-b36c-407b60f14055', 'responseStatusCode': 504, 'MessageId': 'WrongClusterException', 'count_': 1},\n",
       " {'AppId': '7ab7862c-4c57-491e-8a45-d52a7e023983', 'RequestType': 'POST', 'RestRequestType': 'CreateSession', 'RestPart': '_api/createSession', 'ServerDocId': '3f63a050-2b14-4291-a679-75302bbba184', 'responseStatusCode': 504, 'MessageId': 'WrongClusterException', 'count_': 1},\n",
       " {'AppId': '7ab7862c-4c57-491e-8a45-d52a7e023983', 'RequestType': 'POST', 'RestRequestType': 'CreateSession', 'RestPart': '_api/createSession', 'ServerDocId': '88c877ce-d60c-42b0-9b48-b2e72a8b80ae', 'responseStatusCode': 504, 'MessageId': '', 'count_': 1},\n",
       " {'AppId': '7ab7862c-4c57-491e-8a45-d52a7e023983', 'RequestType': 'POST', 'RestRequestType': 'CreateSession', 'RestPart': '_api/createSession', 'ServerDocId': 'ea98da91-5763-4410-8224-2296c77d1f18', 'responseStatusCode': 504, 'MessageId': '', 'count_': 1},\n",
       " {'AppId': '7ab7862c-4c57-491e-8a45-d52a7e023983', 'RequestType': 'POST', 'RestRequestType': 'CreateSession', 'RestPart': '_api/createSession', 'ServerDocId': 'e9d311b1-6766-4eff-916c-0b1640658d7b', 'responseStatusCode': 504, 'MessageId': '', 'count_': 1},\n",
       " {'AppId': '7ab7862c-4c57-491e-8a45-d52a7e023983', 'RequestType': 'POST', 'RestRequestType': 'CreateSession', 'RestPart': '_api/createSession', 'ServerDocId': '976137fd-3f79-4915-b131-6b3f4d50f573', 'responseStatusCode': 504, 'MessageId': '', 'count_': 1},\n",
       " {'AppId': '7ab7862c-4c57-491e-8a45-d52a7e023983', 'RequestType': 'POST', 'RestRequestType': 'CreateSession', 'RestPart': '_api/createSession', 'ServerDocId': '3f63a050-2b14-4291-a679-75302bbba184', 'responseStatusCode': 504, 'MessageId': 'DeploymentRetryError', 'count_': 1},\n",
       " {'AppId': '7ab7862c-4c57-491e-8a45-d52a7e023983', 'RequestType': 'POST', 'RestRequestType': 'CreateSession', 'RestPart': '_api/createSession', 'ServerDocId': 'bf89907a-f73e-4b83-b9d0-09a8a435ec04', 'responseStatusCode': 504, 'MessageId': 'WrongClusterException', 'count_': 1},\n",
       " {'AppId': '7ab7862c-4c57-491e-8a45-d52a7e023983', 'RequestType': 'POST', 'RestRequestType': 'CreateSession', 'RestPart': '_api/createSession', 'ServerDocId': '556acf9d-cbe4-42f6-8c42-a647a2e0ca02', 'responseStatusCode': 504, 'MessageId': 'WrongClusterException', 'count_': 1},\n",
       " {'AppId': '7ab7862c-4c57-491e-8a45-d52a7e023983', 'RequestType': 'POST', 'RestRequestType': 'CreateSession', 'RestPart': '_api/createSession', 'ServerDocId': 'b0c848b6-f3d8-41cb-9325-52a7e7c948d8', 'responseStatusCode': 504, 'MessageId': '', 'count_': 1},\n",
       " {'AppId': '7ab7862c-4c57-491e-8a45-d52a7e023983', 'RequestType': 'POST', 'RestRequestType': 'CreateSession', 'RestPart': '_api/createSession', 'ServerDocId': 'eeadfc44-ca36-45ea-9948-d76a945acb19', 'responseStatusCode': 504, 'MessageId': '', 'count_': 1},\n",
       " {'AppId': '00000003-0000-0ff1-ce00-000000000000', 'RequestType': 'GET', 'RestRequestType': 'Sessionless', 'RestPart': '_api/tables(*)/dataBodyRange/rowCount', 'ServerDocId': '', 'responseStatusCode': 504, 'MessageId': 'FileOpenBaseDocumentCheckHostTimeout', 'count_': 1},\n",
       " {'AppId': '7ab7862c-4c57-491e-8a45-d52a7e023983', 'RequestType': 'POST', 'RestRequestType': 'CreateSession', 'RestPart': '_api/createSession', 'ServerDocId': '0fefe52c-2ace-4369-8f86-3d211227f25c', 'responseStatusCode': 504, 'MessageId': '', 'count_': 1},\n",
       " {'AppId': '7ab7862c-4c57-491e-8a45-d52a7e023983', 'RequestType': 'POST', 'RestRequestType': 'CreateSession', 'RestPart': '_api/createSession', 'ServerDocId': '4ec88a6f-040d-48b8-a259-faaa5ced2c27', 'responseStatusCode': 504, 'MessageId': '', 'count_': 1},\n",
       " {'AppId': '7ab7862c-4c57-491e-8a45-d52a7e023983', 'RequestType': 'POST', 'RestRequestType': 'CreateSession', 'RestPart': '_api/createSession', 'ServerDocId': 'a1c6ca10-4a49-415d-9df7-ba4e92b22173', 'responseStatusCode': 504, 'MessageId': '', 'count_': 1},\n",
       " {'AppId': '7ab7862c-4c57-491e-8a45-d52a7e023983', 'RequestType': 'POST', 'RestRequestType': 'CreateSession', 'RestPart': '_api/createSession', 'ServerDocId': '025cc8b9-bb7d-43c3-bd4e-a48c9ad45018', 'responseStatusCode': 504, 'MessageId': '', 'count_': 1},\n",
       " {'AppId': '7ab7862c-4c57-491e-8a45-d52a7e023983', 'RequestType': 'POST', 'RestRequestType': 'CreateSession', 'RestPart': '_api/createSession', 'ServerDocId': '1a31c083-61b3-4696-8cc4-fd200d38284b', 'responseStatusCode': 504, 'MessageId': 'WrongClusterException', 'count_': 1},\n",
       " {'AppId': '00000003-0000-0ff1-ce00-000000000000', 'RequestType': 'GET', 'RestRequestType': 'Sessionless', 'RestPart': '_api/tables(*)/rows', 'ServerDocId': '165a5189-8e10-41a2-9fcd-c6be536a3d93', 'responseStatusCode': 504, 'MessageId': 'MaxRequestDurationExceeded', 'count_': 1},\n",
       " {'AppId': '7ab7862c-4c57-491e-8a45-d52a7e023983', 'RequestType': 'POST', 'RestRequestType': 'CreateSession', 'RestPart': '_api/createSession', 'ServerDocId': '1f676bcc-49db-4f0b-b463-825ab03277d5', 'responseStatusCode': 504, 'MessageId': 'GenericFileOpenError', 'count_': 1},\n",
       " {'AppId': '7ab7862c-4c57-491e-8a45-d52a7e023983', 'RequestType': 'POST', 'RestRequestType': 'CreateSession', 'RestPart': '_api/createSession', 'ServerDocId': '0fefe52c-2ace-4369-8f86-3d211227f25c', 'responseStatusCode': 504, 'MessageId': 'DeploymentRetryError', 'count_': 1},\n",
       " {'AppId': '7ab7862c-4c57-491e-8a45-d52a7e023983', 'RequestType': 'POST', 'RestRequestType': 'CreateSession', 'RestPart': '_api/createSession', 'ServerDocId': 'a4413380-c21b-479d-9172-f4c297230666', 'responseStatusCode': 504, 'MessageId': '', 'count_': 1},\n",
       " {'AppId': '7ab7862c-4c57-491e-8a45-d52a7e023983', 'RequestType': 'POST', 'RestRequestType': 'CreateSession', 'RestPart': '_api/createSession', 'ServerDocId': '29f814fe-f9ff-4278-a716-a4600c989448', 'responseStatusCode': 504, 'MessageId': 'DeploymentRetryError', 'count_': 1},\n",
       " {'AppId': '7ab7862c-4c57-491e-8a45-d52a7e023983', 'RequestType': 'POST', 'RestRequestType': 'CreateSession', 'RestPart': '_api/createSession', 'ServerDocId': '9177f216-9eff-4293-993c-0a98bb54e60b', 'responseStatusCode': 504, 'MessageId': '', 'count_': 1},\n",
       " {'AppId': '7ab7862c-4c57-491e-8a45-d52a7e023983', 'RequestType': 'POST', 'RestRequestType': 'CreateSession', 'RestPart': '_api/createSession', 'ServerDocId': '1a0c68ab-f046-4cba-93b0-c939780c02ee', 'responseStatusCode': 504, 'MessageId': '', 'count_': 1},\n",
       " {'AppId': '7ab7862c-4c57-491e-8a45-d52a7e023983', 'RequestType': 'POST', 'RestRequestType': 'CreateSession', 'RestPart': '_api/createSession', 'ServerDocId': 'cd892cc9-a05b-4849-9aaa-c4e39558ad93', 'responseStatusCode': 504, 'MessageId': '', 'count_': 1},\n",
       " {'AppId': '7ab7862c-4c57-491e-8a45-d52a7e023983', 'RequestType': 'POST', 'RestRequestType': 'CreateSession', 'RestPart': '_api/createSession', 'ServerDocId': 'ef165d58-6cda-4704-b61b-a417a91040e7', 'responseStatusCode': 504, 'MessageId': '', 'count_': 1},\n",
       " {'AppId': '7ab7862c-4c57-491e-8a45-d52a7e023983', 'RequestType': 'GET', 'RestRequestType': 'Sessionful', 'RestPart': '_api/tables(*)/rows', 'ServerDocId': '', 'responseStatusCode': 504, 'MessageId': '', 'count_': 1},\n",
       " {'AppId': '7ab7862c-4c57-491e-8a45-d52a7e023983', 'RequestType': 'POST', 'RestRequestType': 'CreateSession', 'RestPart': '_api/createSession', 'ServerDocId': 'e5a0e147-5b9d-4f0d-8978-d9a102f1f41e', 'responseStatusCode': 504, 'MessageId': '', 'count_': 1},\n",
       " {'AppId': '7ab7862c-4c57-491e-8a45-d52a7e023983', 'RequestType': 'POST', 'RestRequestType': 'CreateSession', 'RestPart': '_api/createSession', 'ServerDocId': '5ed24988-80e0-4c5b-aee0-12db86ebb9a4', 'responseStatusCode': 504, 'MessageId': '', 'count_': 1},\n",
       " {'AppId': '00000003-0000-0ff1-ce00-000000000000', 'RequestType': 'GET', 'RestRequestType': 'Sessionless', 'RestPart': '_api/tables(*)/rows', 'ServerDocId': '', 'responseStatusCode': 504, 'MessageId': 'FileOpenBaseDocumentCheckHostTimeout', 'count_': 1},\n",
       " {'AppId': '16b08399-ae5d-4a7a-b254-cfd715cb422e', 'RequestType': 'PATCH', 'RestRequestType': 'Sessionless', 'RestPart': '_api/worksheets(*)/range(*)', 'ServerDocId': '1e2b94c7-fa1f-4417-a31b-a7f14f84c372', 'responseStatusCode': 504, 'MessageId': '', 'count_': 1},\n",
       " {'AppId': '7ab7862c-4c57-491e-8a45-d52a7e023983', 'RequestType': 'POST', 'RestRequestType': 'CreateSession', 'RestPart': '_api/createSession', 'ServerDocId': '53e5e086-1132-45d9-9e95-aec42a0b7b25', 'responseStatusCode': 504, 'MessageId': '', 'count_': 1},\n",
       " {'AppId': '7ab7862c-4c57-491e-8a45-d52a7e023983', 'RequestType': 'POST', 'RestRequestType': 'CreateSession', 'RestPart': '_api/createSession', 'ServerDocId': '88c877ce-d60c-42b0-9b48-b2e72a8b80ae', 'responseStatusCode': 504, 'MessageId': 'GenericFileOpenError', 'count_': 1},\n",
       " {'AppId': '7ab7862c-4c57-491e-8a45-d52a7e023983', 'RequestType': 'POST', 'RestRequestType': 'CreateSession', 'RestPart': '_api/createSession', 'ServerDocId': 'f2cf21a7-6915-4147-a98b-2a879f397457', 'responseStatusCode': 504, 'MessageId': 'DeploymentRetryError', 'count_': 1},\n",
       " {'AppId': '7ab7862c-4c57-491e-8a45-d52a7e023983', 'RequestType': 'GET', 'RestRequestType': 'Sessionful', 'RestPart': '_api/tables(*)/rows', 'ServerDocId': '', 'responseStatusCode': 504, 'MessageId': 'ThreadAbortException', 'count_': 1},\n",
       " {'AppId': '7ab7862c-4c57-491e-8a45-d52a7e023983', 'RequestType': 'POST', 'RestRequestType': 'CreateSession', 'RestPart': '_api/createSession', 'ServerDocId': '40d053e5-1f14-4b9d-8340-342620e875dd', 'responseStatusCode': 504, 'MessageId': 'DeploymentRetryError', 'count_': 1},\n",
       " {'AppId': '7ab7862c-4c57-491e-8a45-d52a7e023983', 'RequestType': 'POST', 'RestRequestType': 'CreateSession', 'RestPart': '_api/createSession', 'ServerDocId': 'adaaa4c8-3d13-4a46-954c-536d314e3585', 'responseStatusCode': 504, 'MessageId': 'GenericFileOpenError', 'count_': 1},\n",
       " {'AppId': '7ab7862c-4c57-491e-8a45-d52a7e023983', 'RequestType': 'POST', 'RestRequestType': 'CreateSession', 'RestPart': '_api/createSession', 'ServerDocId': '844bc5c4-8d87-4920-9483-eec54d8b6163', 'responseStatusCode': 504, 'MessageId': 'WrongClusterException', 'count_': 1},\n",
       " {'AppId': '00000003-0000-0ff1-ce00-000000000000', 'RequestType': 'GET', 'RestRequestType': 'Sessionless', 'RestPart': '_api/tables(*)/rows', 'ServerDocId': 'de6caf3e-669d-4e99-b1d4-14e90d3d5b5a', 'responseStatusCode': 504, 'MessageId': 'MaxRequestDurationExceeded', 'count_': 1},\n",
       " {'AppId': '00000003-0000-0ff1-ce00-000000000000', 'RequestType': 'GET', 'RestRequestType': 'Sessionless', 'RestPart': '_api/tables', 'ServerDocId': '70d60f6a-ed12-4deb-8279-b85a40651121', 'responseStatusCode': 504, 'MessageId': 'MaxRequestDurationExceeded', 'count_': 1},\n",
       " {'AppId': '7ab7862c-4c57-491e-8a45-d52a7e023983', 'RequestType': 'POST', 'RestRequestType': 'CreateSession', 'RestPart': '_api/createSession', 'ServerDocId': '5e1d8137-fb32-4e1f-b12a-b09bf02d8d63', 'responseStatusCode': 504, 'MessageId': '', 'count_': 1},\n",
       " {'AppId': '7ab7862c-4c57-491e-8a45-d52a7e023983', 'RequestType': 'POST', 'RestRequestType': 'CreateSession', 'RestPart': '_api/createSession', 'ServerDocId': '0fefe52c-2ace-4369-8f86-3d211227f25c', 'responseStatusCode': 504, 'MessageId': 'WrongClusterException', 'count_': 1},\n",
       " {'AppId': '7ab7862c-4c57-491e-8a45-d52a7e023983', 'RequestType': 'POST', 'RestRequestType': 'CreateSession', 'RestPart': '_api/createSession', 'ServerDocId': '8ecbcdc1-83fd-4501-b3dd-317c14d3749b', 'responseStatusCode': 504, 'MessageId': '', 'count_': 1},\n",
       " {'AppId': '7ab7862c-4c57-491e-8a45-d52a7e023983', 'RequestType': 'POST', 'RestRequestType': 'CreateSession', 'RestPart': '_api/createSession', 'ServerDocId': 'bf352758-cf67-4c22-806b-19187f502f3b', 'responseStatusCode': 504, 'MessageId': 'EditModeCannotAcquireLockUnexpected', 'count_': 1},\n",
       " {'AppId': '7ab7862c-4c57-491e-8a45-d52a7e023983', 'RequestType': 'POST', 'RestRequestType': 'CreateSession', 'RestPart': '_api/createSession', 'ServerDocId': 'd2a8c4c5-e8ad-486b-8e47-2d170bbdce47', 'responseStatusCode': 504, 'MessageId': '', 'count_': 1},\n",
       " {'AppId': '7ab7862c-4c57-491e-8a45-d52a7e023983', 'RequestType': 'POST', 'RestRequestType': 'CreateSession', 'RestPart': '_api/createSession', 'ServerDocId': '1d0c4d05-9949-4fc7-82ab-b82c2d1dda34', 'responseStatusCode': 504, 'MessageId': '', 'count_': 1},\n",
       " {'AppId': '7ab7862c-4c57-491e-8a45-d52a7e023983', 'RequestType': 'POST', 'RestRequestType': 'CreateSession', 'RestPart': '_api/createSession', 'ServerDocId': '50fa4d59-b5be-46ef-af8c-9b20b438c4e4', 'responseStatusCode': 504, 'MessageId': '', 'count_': 1},\n",
       " {'AppId': '7ab7862c-4c57-491e-8a45-d52a7e023983', 'RequestType': 'POST', 'RestRequestType': 'CreateSession', 'RestPart': '_api/createSession', 'ServerDocId': 'bf352758-cf67-4c22-806b-19187f502f3b', 'responseStatusCode': 504, 'MessageId': 'GenericFileOpenError', 'count_': 1},\n",
       " {'AppId': '7ab7862c-4c57-491e-8a45-d52a7e023983', 'RequestType': 'POST', 'RestRequestType': 'CreateSession', 'RestPart': '_api/createSession', 'ServerDocId': 'de27760d-65eb-48d5-9ff2-739d1867bd15', 'responseStatusCode': 504, 'MessageId': 'WrongClusterException', 'count_': 1},\n",
       " {'AppId': '7ab7862c-4c57-491e-8a45-d52a7e023983', 'RequestType': 'POST', 'RestRequestType': 'CreateSession', 'RestPart': '_api/createSession', 'ServerDocId': 'a1c6ca10-4a49-415d-9df7-ba4e92b22173', 'responseStatusCode': 504, 'MessageId': 'WrongClusterException', 'count_': 1},\n",
       " {'AppId': '7ab7862c-4c57-491e-8a45-d52a7e023983', 'RequestType': 'POST', 'RestRequestType': 'CreateSession', 'RestPart': '_api/createSession', 'ServerDocId': '96cdcc1c-aec0-4753-b25e-e9190daca70d', 'responseStatusCode': 504, 'MessageId': '', 'count_': 1},\n",
       " {'AppId': '7ab7862c-4c57-491e-8a45-d52a7e023983', 'RequestType': 'POST', 'RestRequestType': 'CreateSession', 'RestPart': '_api/createSession', 'ServerDocId': '596047ad-f7a2-440c-b5b9-ec09e4875c7a', 'responseStatusCode': 504, 'MessageId': 'WrongClusterException', 'count_': 1},\n",
       " {'AppId': '7ab7862c-4c57-491e-8a45-d52a7e023983', 'RequestType': 'POST', 'RestRequestType': 'CreateSession', 'RestPart': '_api/createSession', 'ServerDocId': '6a69b172-30ee-4430-ac5f-452e5d54132a', 'responseStatusCode': 504, 'MessageId': 'EditModeCannotAcquireLockUnexpected', 'count_': 1},\n",
       " {'AppId': '7ab7862c-4c57-491e-8a45-d52a7e023983', 'RequestType': 'POST', 'RestRequestType': 'CreateSession', 'RestPart': '_api/createSession', 'ServerDocId': '173f813c-eac4-4655-9f66-9498838faa50', 'responseStatusCode': 504, 'MessageId': '', 'count_': 1},\n",
       " {'AppId': '7ab7862c-4c57-491e-8a45-d52a7e023983', 'RequestType': 'POST', 'RestRequestType': 'CreateSession', 'RestPart': '_api/createSession', 'ServerDocId': 'e5c99ced-3d87-4548-9454-b8ed314bcd2b', 'responseStatusCode': 504, 'MessageId': '', 'count_': 1},\n",
       " {'AppId': '00000003-0000-0ff1-ce00-000000000000', 'RequestType': 'GET', 'RestRequestType': 'Sessionless', 'RestPart': '_api/tables', 'ServerDocId': '68bc8d37-e99c-4082-96b8-ff1964eaeea5', 'responseStatusCode': 504, 'MessageId': 'MaxRequestDurationExceeded', 'count_': 1},\n",
       " {'AppId': '7ab7862c-4c57-491e-8a45-d52a7e023983', 'RequestType': 'POST', 'RestRequestType': 'CreateSession', 'RestPart': '_api/createSession', 'ServerDocId': '7cc1bf1a-2412-49da-856d-2c4023ecc8cd', 'responseStatusCode': 504, 'MessageId': 'WrongClusterException', 'count_': 1},\n",
       " {'AppId': '7ab7862c-4c57-491e-8a45-d52a7e023983', 'RequestType': 'POST', 'RestRequestType': 'CreateSession', 'RestPart': '_api/createSession', 'ServerDocId': '7b2e3be8-c12a-4d8b-b36c-407b60f14055', 'responseStatusCode': 504, 'MessageId': '', 'count_': 1},\n",
       " {'AppId': '7ab7862c-4c57-491e-8a45-d52a7e023983', 'RequestType': 'POST', 'RestRequestType': 'CreateSession', 'RestPart': '_api/createSession', 'ServerDocId': '5c2ac3dc-e6fc-486e-8306-9b908a01cc68', 'responseStatusCode': 504, 'MessageId': 'GenericFileOpenError', 'count_': 1},\n",
       " {'AppId': '7ab7862c-4c57-491e-8a45-d52a7e023983', 'RequestType': 'POST', 'RestRequestType': 'CreateSession', 'RestPart': '_api/createSession', 'ServerDocId': '5c2ac3dc-e6fc-486e-8306-9b908a01cc68', 'responseStatusCode': 504, 'MessageId': 'EditModeCannotAcquireLockWorkbookClosed', 'count_': 1},\n",
       " {'AppId': '7ab7862c-4c57-491e-8a45-d52a7e023983', 'RequestType': 'POST', 'RestRequestType': 'CreateSession', 'RestPart': '_api/createSession', 'ServerDocId': '40d053e5-1f14-4b9d-8340-342620e875dd', 'responseStatusCode': 504, 'MessageId': '', 'count_': 1},\n",
       " {'AppId': '7ab7862c-4c57-491e-8a45-d52a7e023983', 'RequestType': 'POST', 'RestRequestType': 'CreateSession', 'RestPart': '_api/createSession', 'ServerDocId': '20eacbce-d51d-403d-ae21-ec1e8d82e1ae', 'responseStatusCode': 504, 'MessageId': '', 'count_': 1},\n",
       " {'AppId': '7ab7862c-4c57-491e-8a45-d52a7e023983', 'RequestType': 'POST', 'RestRequestType': 'CreateSession', 'RestPart': '_api/createSession', 'ServerDocId': 'a69e14c9-cf7d-44fc-9a98-e84240357e2d', 'responseStatusCode': 504, 'MessageId': '', 'count_': 1},\n",
       " {'AppId': '7ab7862c-4c57-491e-8a45-d52a7e023983', 'RequestType': 'POST', 'RestRequestType': 'CreateSession', 'RestPart': '_api/createSession', 'ServerDocId': 'e5b9c333-bdbb-4596-a19a-82d7194fe3e8', 'responseStatusCode': 504, 'MessageId': 'GenericFileOpenError', 'count_': 1},\n",
       " {'AppId': '7ab7862c-4c57-491e-8a45-d52a7e023983', 'RequestType': 'POST', 'RestRequestType': 'CreateSession', 'RestPart': '_api/createSession', 'ServerDocId': 'b7f6eba4-4a46-4c94-9088-ffa6416f2ce1', 'responseStatusCode': 504, 'MessageId': '', 'count_': 1},\n",
       " {'AppId': '7ab7862c-4c57-491e-8a45-d52a7e023983', 'RequestType': 'POST', 'RestRequestType': 'CreateSession', 'RestPart': '_api/createSession', 'ServerDocId': 'aee2ea9b-90e3-4038-bfa8-26c5bd3c505d', 'responseStatusCode': 504, 'MessageId': 'WrongClusterException', 'count_': 1},\n",
       " {'AppId': '7ab7862c-4c57-491e-8a45-d52a7e023983', 'RequestType': 'POST', 'RestRequestType': 'CreateSession', 'RestPart': '_api/createSession', 'ServerDocId': '9177f216-9eff-4293-993c-0a98bb54e60b', 'responseStatusCode': 504, 'MessageId': 'DeploymentRetryError', 'count_': 1},\n",
       " {'AppId': '7ab7862c-4c57-491e-8a45-d52a7e023983', 'RequestType': 'POST', 'RestRequestType': 'CreateSession', 'RestPart': '_api/createSession', 'ServerDocId': '8ee9f3bf-e1a2-4a01-9d30-02d7606b3e84', 'responseStatusCode': 504, 'MessageId': 'EditModeCannotAcquireLockUnexpected', 'count_': 1},\n",
       " {'AppId': '7ab7862c-4c57-491e-8a45-d52a7e023983', 'RequestType': 'POST', 'RestRequestType': 'CreateSession', 'RestPart': '_api/createSession', 'ServerDocId': 'bf89907a-f73e-4b83-b9d0-09a8a435ec04', 'responseStatusCode': 504, 'MessageId': 'DeploymentRetryError', 'count_': 1},\n",
       " {'AppId': '7ab7862c-4c57-491e-8a45-d52a7e023983', 'RequestType': 'POST', 'RestRequestType': 'CreateSession', 'RestPart': '_api/createSession', 'ServerDocId': 'eeb74ddc-122f-40a0-b09f-cf0220daa75a', 'responseStatusCode': 504, 'MessageId': '', 'count_': 1},\n",
       " {'AppId': '7ab7862c-4c57-491e-8a45-d52a7e023983', 'RequestType': 'POST', 'RestRequestType': 'CreateSession', 'RestPart': '_api/createSession', 'ServerDocId': '11cd590d-628a-48f5-abd1-9614fdef2cb2', 'responseStatusCode': 504, 'MessageId': '', 'count_': 1},\n",
       " {'AppId': '7ab7862c-4c57-491e-8a45-d52a7e023983', 'RequestType': 'POST', 'RestRequestType': 'CreateSession', 'RestPart': '_api/createSession', 'ServerDocId': '3f63a050-2b14-4291-a679-75302bbba184', 'responseStatusCode': 504, 'MessageId': '', 'count_': 1},\n",
       " {'AppId': '7ab7862c-4c57-491e-8a45-d52a7e023983', 'RequestType': 'POST', 'RestRequestType': 'CreateSession', 'RestPart': '_api/createSession', 'ServerDocId': '26b3c754-8859-4268-b0f2-977fb6af7b44', 'responseStatusCode': 504, 'MessageId': '', 'count_': 1},\n",
       " {'AppId': '7ab7862c-4c57-491e-8a45-d52a7e023983', 'RequestType': 'POST', 'RestRequestType': 'CreateSession', 'RestPart': '_api/createSession', 'ServerDocId': 'ac2676c6-458e-471e-981c-d52c262adb79', 'responseStatusCode': 504, 'MessageId': '', 'count_': 1},\n",
       " {'AppId': '7ab7862c-4c57-491e-8a45-d52a7e023983', 'RequestType': 'POST', 'RestRequestType': 'CreateSession', 'RestPart': '_api/createSession', 'ServerDocId': '0880f0e1-30be-4ed1-939d-24ef7841b06d', 'responseStatusCode': 504, 'MessageId': 'WrongClusterException', 'count_': 1},\n",
       " {'AppId': '7ab7862c-4c57-491e-8a45-d52a7e023983', 'RequestType': 'POST', 'RestRequestType': 'CreateSession', 'RestPart': '_api/createSession', 'ServerDocId': 'eeb74ddc-122f-40a0-b09f-cf0220daa75a', 'responseStatusCode': 504, 'MessageId': 'WrongClusterException', 'count_': 1},\n",
       " {'AppId': '7ab7862c-4c57-491e-8a45-d52a7e023983', 'RequestType': 'POST', 'RestRequestType': 'CreateSession', 'RestPart': '_api/createSession', 'ServerDocId': 'fd6491bb-d15a-4c20-ae7a-1c31e9f5d36b', 'responseStatusCode': 504, 'MessageId': 'GenericFileOpenError', 'count_': 1},\n",
       " {'AppId': '7ab7862c-4c57-491e-8a45-d52a7e023983', 'RequestType': 'POST', 'RestRequestType': 'CreateSession', 'RestPart': '_api/createSession', 'ServerDocId': '917853cf-480f-4002-b7fb-a02e8c2bcce4', 'responseStatusCode': 504, 'MessageId': 'WrongClusterException', 'count_': 1},\n",
       " {'AppId': '7ab7862c-4c57-491e-8a45-d52a7e023983', 'RequestType': 'POST', 'RestRequestType': 'CreateSession', 'RestPart': '_api/createSession', 'ServerDocId': '75297fb4-2313-4f7d-9e35-a1ca53641236', 'responseStatusCode': 504, 'MessageId': 'GenericFileOpenError', 'count_': 1},\n",
       " {'AppId': '7ab7862c-4c57-491e-8a45-d52a7e023983', 'RequestType': 'POST', 'RestRequestType': 'CreateSession', 'RestPart': '_api/createSession', 'ServerDocId': 'e5b9c333-bdbb-4596-a19a-82d7194fe3e8', 'responseStatusCode': 504, 'MessageId': 'WrongClusterException', 'count_': 1},\n",
       " {'AppId': '16b08399-ae5d-4a7a-b254-cfd715cb422e', 'RequestType': 'PATCH', 'RestRequestType': 'Sessionless', 'RestPart': '_api/worksheets(*)/range(*)', 'ServerDocId': '3ceaffdd-5830-4b8a-9d80-104b518ec730', 'responseStatusCode': 504, 'MessageId': '', 'count_': 1},\n",
       " {'AppId': '7ab7862c-4c57-491e-8a45-d52a7e023983', 'RequestType': 'POST', 'RestRequestType': 'CreateSession', 'RestPart': '_api/createSession', 'ServerDocId': '24884ee6-583d-43c3-a3d0-d87620c6aaca', 'responseStatusCode': 504, 'MessageId': 'WrongClusterException', 'count_': 1},\n",
       " {'AppId': '7ab7862c-4c57-491e-8a45-d52a7e023983', 'RequestType': 'POST', 'RestRequestType': 'CreateSession', 'RestPart': '_api/createSession', 'ServerDocId': '81ecdc1d-c2d1-4bd6-835d-f82cf53eaed1', 'responseStatusCode': 504, 'MessageId': 'WrongClusterException', 'count_': 1},\n",
       " {'AppId': '7ab7862c-4c57-491e-8a45-d52a7e023983', 'RequestType': 'POST', 'RestRequestType': 'CreateSession', 'RestPart': '_api/createSession', 'ServerDocId': '1d8ddca0-c05e-4ec8-bf37-d556cb155bbe', 'responseStatusCode': 504, 'MessageId': '', 'count_': 1},\n",
       " {'AppId': '7ab7862c-4c57-491e-8a45-d52a7e023983', 'RequestType': 'POST', 'RestRequestType': 'CreateSession', 'RestPart': '_api/createSession', 'ServerDocId': 'e3392bbe-3a21-403f-9bd5-3d02dc99dfa5', 'responseStatusCode': 504, 'MessageId': '', 'count_': 1},\n",
       " {'AppId': '7ab7862c-4c57-491e-8a45-d52a7e023983', 'RequestType': 'POST', 'RestRequestType': 'CreateSession', 'RestPart': '_api/createSession', 'ServerDocId': '0e38d62b-c75e-4349-89f9-09d9a4114c59', 'responseStatusCode': 504, 'MessageId': 'GenericFileOpenError', 'count_': 1},\n",
       " {'AppId': '7ab7862c-4c57-491e-8a45-d52a7e023983', 'RequestType': 'POST', 'RestRequestType': 'CreateSession', 'RestPart': '_api/createSession', 'ServerDocId': '4ace0c3a-de1c-4a5c-adc7-e20626012717', 'responseStatusCode': 504, 'MessageId': 'WrongClusterException', 'count_': 1},\n",
       " {'AppId': '7ab7862c-4c57-491e-8a45-d52a7e023983', 'RequestType': 'POST', 'RestRequestType': 'CreateSession', 'RestPart': '_api/createSession', 'ServerDocId': '480574f7-47e4-423a-8f60-6ddf65cf6b45', 'responseStatusCode': 504, 'MessageId': 'WrongClusterException', 'count_': 1},\n",
       " {'AppId': '7ab7862c-4c57-491e-8a45-d52a7e023983', 'RequestType': 'POST', 'RestRequestType': 'CreateSession', 'RestPart': '_api/createSession', 'ServerDocId': '96cdcc1c-aec0-4753-b25e-e9190daca70d', 'responseStatusCode': 504, 'MessageId': 'WrongClusterException', 'count_': 1},\n",
       " {'AppId': '7ab7862c-4c57-491e-8a45-d52a7e023983', 'RequestType': 'POST', 'RestRequestType': 'CreateSession', 'RestPart': '_api/createSession', 'ServerDocId': '49076fde-7e2a-484d-83ad-f9da3b52aa63', 'responseStatusCode': 504, 'MessageId': 'WrongClusterException', 'count_': 1},\n",
       " {'AppId': '7ab7862c-4c57-491e-8a45-d52a7e023983', 'RequestType': 'POST', 'RestRequestType': 'CreateSession', 'RestPart': '_api/createSession', 'ServerDocId': '4ec88a6f-040d-48b8-a259-faaa5ced2c27', 'responseStatusCode': 504, 'MessageId': 'WrongClusterException', 'count_': 1},\n",
       " {'AppId': '7ab7862c-4c57-491e-8a45-d52a7e023983', 'RequestType': 'POST', 'RestRequestType': 'CreateSession', 'RestPart': '_api/createSession', 'ServerDocId': 'ac2ce4fa-4440-48cf-b41d-f8ef1120889a', 'responseStatusCode': 504, 'MessageId': '', 'count_': 1},\n",
       " {'AppId': '7ab7862c-4c57-491e-8a45-d52a7e023983', 'RequestType': 'POST', 'RestRequestType': 'CreateSession', 'RestPart': '_api/createSession', 'ServerDocId': '828c96a8-dc54-4303-bcc9-1c5d348e29ee', 'responseStatusCode': 504, 'MessageId': 'WrongClusterException', 'count_': 1},\n",
       " {'AppId': '7ab7862c-4c57-491e-8a45-d52a7e023983', 'RequestType': 'POST', 'RestRequestType': 'CreateSession', 'RestPart': '_api/createSession', 'ServerDocId': 'd5d978e6-67cd-4b1c-a868-f97c4c9e0add', 'responseStatusCode': 504, 'MessageId': '', 'count_': 1},\n",
       " {'AppId': '7ab7862c-4c57-491e-8a45-d52a7e023983', 'RequestType': 'POST', 'RestRequestType': 'CreateSession', 'RestPart': '_api/createSession', 'ServerDocId': 'a5de664a-5541-4690-8fe0-786164993e00', 'responseStatusCode': 504, 'MessageId': '', 'count_': 1},\n",
       " {'AppId': '27db621b-b81f-4db8-bf50-2bbc26727c1b', 'RequestType': 'GET', 'RestRequestType': 'Sessionless', 'RestPart': '_api/worksheets', 'ServerDocId': '', 'responseStatusCode': 504, 'MessageId': 'FileOpenBaseDocumentCheckHostTimeout', 'count_': 1},\n",
       " {'AppId': '7ab7862c-4c57-491e-8a45-d52a7e023983', 'RequestType': 'POST', 'RestRequestType': 'CreateSession', 'RestPart': '_api/createSession', 'ServerDocId': '423be1ab-4cbb-4de8-a87a-1a2bc3187a43', 'responseStatusCode': 504, 'MessageId': 'GenericFileOpenError', 'count_': 1},\n",
       " {'AppId': '00000003-0000-0ff1-ce00-000000000000', 'RequestType': 'GET', 'RestRequestType': 'Sessionless', 'RestPart': '_api/tables', 'ServerDocId': 'bbdba776-8036-40fb-b826-76a325dbf941', 'responseStatusCode': 504, 'MessageId': 'MaxRequestDurationExceeded', 'count_': 1},\n",
       " {'AppId': '7ab7862c-4c57-491e-8a45-d52a7e023983', 'RequestType': 'POST', 'RestRequestType': 'CreateSession', 'RestPart': '_api/createSession', 'ServerDocId': '21e08be3-36a0-4a3e-aba6-f8f19cb49d44', 'responseStatusCode': 504, 'MessageId': 'GenericFileOpenError', 'count_': 1},\n",
       " {'AppId': '7ab7862c-4c57-491e-8a45-d52a7e023983', 'RequestType': 'POST', 'RestRequestType': 'CreateSession', 'RestPart': '_api/createSession', 'ServerDocId': 'a69e14c9-cf7d-44fc-9a98-e84240357e2d', 'responseStatusCode': 504, 'MessageId': 'WrongClusterException', 'count_': 1},\n",
       " {'AppId': '7ab7862c-4c57-491e-8a45-d52a7e023983', 'RequestType': 'POST', 'RestRequestType': 'CreateSession', 'RestPart': '_api/createSession', 'ServerDocId': 'cd892cc9-a05b-4849-9aaa-c4e39558ad93', 'responseStatusCode': 504, 'MessageId': 'WrongClusterException', 'count_': 1},\n",
       " {'AppId': '7ab7862c-4c57-491e-8a45-d52a7e023983', 'RequestType': 'POST', 'RestRequestType': 'CreateSession', 'RestPart': '_api/createSession', 'ServerDocId': '6a9288fe-8437-404b-814f-c4694fd66c6a', 'responseStatusCode': 504, 'MessageId': 'GenericFileOpenError', 'count_': 1},\n",
       " {'AppId': '7ab7862c-4c57-491e-8a45-d52a7e023983', 'RequestType': 'POST', 'RestRequestType': 'CreateSession', 'RestPart': '_api/createSession', 'ServerDocId': 'b116e266-917d-4597-a181-d778b1c69875', 'responseStatusCode': 504, 'MessageId': 'WrongClusterException', 'count_': 1},\n",
       " {'AppId': '7ab7862c-4c57-491e-8a45-d52a7e023983', 'RequestType': 'POST', 'RestRequestType': 'CreateSession', 'RestPart': '_api/createSession', 'ServerDocId': 'ca4b4d26-d468-4205-9463-6cad16590015', 'responseStatusCode': 504, 'MessageId': '', 'count_': 1}]"
      ]
     },
     "execution_count": 71,
     "metadata": {},
     "output_type": "execute_result"
    }
   ],
   "source": [
    "%%kql\n",
    "    let _start_datetime=my_start_datetime;\n",
    "    let _end_datetime=my_end_datetime;\n",
    "    let _occurring_device_group=my_occurring_device_group;\n",
    "    let _occurring_datacenter=my_occurring_datacenter;\n",
    "    let _responseStatusCodeRange=my_responseStatusCodeRange;\n",
    "    cluster(\"msgraphkus\").database(\"msgraphdb\").GlobalAggregatorServiceLogEvent\n",
    "    | where env_time >= _start_datetime and env_time < _end_datetime \n",
    "    | where env_cloud_location == _occurring_datacenter and accountType == _occurring_device_group \n",
    "    | where trafficType == \"Customer\" and tagId == \"30676F66\" and targetWorkloadId == \"Microsoft.Excel\"\n",
    "    | where responseStatusCode == _responseStatusCodeRange\n",
    "    | join kind=leftouter (cluster(\"excelonline\").database(\"ULS\").ULSServiceMonitoringProd\n",
    "        | where Time >= _start_datetime and Time < _end_datetime and EventID == \"cpb3d\"\n",
    "        | extend realMsg=parse_json(Message))\n",
    "        on $left.internalCorrelationId == $right.Correlation\n",
    "    | project RequestType = tostring(realMsg.RequestType),  \n",
    "            RestRequestType = tostring(realMsg.RestRequestType),  \n",
    "            RestPart = tostring(realMsg.RestPart),\n",
    "            AppId = tostring(realMsg.AppId),  \n",
    "            ServerDocId = tostring(realMsg.ServerDocId),\n",
    "            MessageId=tostring(realMsg.MessageId),\n",
    "            responseStatusCode\n",
    "    | summarize count() by AppId, RequestType, RestRequestType, RestPart, ServerDocId, responseStatusCode, MessageId\n",
    "    | sort by count_ desc"
   ]
  },
  {
   "cell_type": "markdown",
   "metadata": {},
   "source": [
    "# [3] For each specific error, please refer corresponding section.\n",
    "## __504 FileOpenBaseDocumentCheckHostTimeout__\n",
    "* ACE, example Incident Number [246918598](https://portal.microsofticm.com/imp/v3/incidents/details/246918598/home).\n",
    "* Extra Steps, Search FileOpenBaseDocumentCheckHostTimeout in VSO, there should be automatic bugs assigned to XLO."
   ]
  }
 ],
 "metadata": {
  "interpreter": {
   "hash": "ac2eaa0ea0ebeafcc7822e65e46aa9d4f966f30b695406963e145ea4a91cd4fc"
  },
  "kernelspec": {
   "display_name": "Python 3",
   "language": "python",
   "name": "python3"
  },
  "language_info": {
   "codemirror_mode": {
    "name": "ipython",
    "version": 3
   },
   "file_extension": ".py",
   "mimetype": "text/x-python",
   "name": "python",
   "nbconvert_exporter": "python",
   "pygments_lexer": "ipython3",
   "version": "3.9.5"
  }
 },
 "nbformat": 4,
 "nbformat_minor": 2
}
